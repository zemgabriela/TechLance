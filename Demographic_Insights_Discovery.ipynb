{
 "cells": [
  {
   "cell_type": "code",
   "execution_count": 1,
   "id": "d66914ce",
   "metadata": {},
   "outputs": [
    {
     "name": "stderr",
     "output_type": "stream",
     "text": [
      "/var/folders/zm/cb9blr7j37qf6p7jq0nzw3ww0000gq/T/ipykernel_20753/3521141900.py:71: FutureWarning: A value is trying to be set on a copy of a DataFrame or Series through chained assignment using an inplace method.\n",
      "The behavior will change in pandas 3.0. This inplace method will never work because the intermediate object on which we are setting values always behaves as a copy.\n",
      "\n",
      "For example, when doing 'df[col].method(value, inplace=True)', try using 'df.method({col: value}, inplace=True)' or df[col] = df[col].method(value) instead, to perform the operation inplace on the original object.\n",
      "\n",
      "\n",
      "  merged['UsageFrequency'].fillna(merged['UsageFrequency'].median(), inplace=True)  # Median impute\n"
     ]
    }
   ],
   "source": [
    "import pandas as pd\n",
    "import numpy as np\n",
    "\n",
    "# Load the datasets\n",
    "usage_data = pd.read_csv('data/usage_data.csv')\n",
    "employee_data = pd.read_csv('data/employee_data.csv')\n",
    "benefits_data = pd.read_csv('data/benefits_data.csv')\n",
    "feedback_data = pd.read_csv('data/feedback_data.csv')\n",
    "\n",
    "# Function to profile a dataframe\n",
    "def profile_df(df, df_name):\n",
    "    # Missing values\n",
    "    missing = df.isnull().sum()\n",
    "    missing_pct = (missing / len(df)) * 100\n",
    "    \n",
    "    # Duplicates\n",
    "    duplicates = df.duplicated().sum()\n",
    "    \n",
    "    # Outliers (IQR for numerical columns)\n",
    "    numerical_cols = df.select_dtypes(include=[np.number]).columns\n",
    "    outliers = {}\n",
    "    for col in numerical_cols:\n",
    "        Q1 = df[col].quantile(0.25)\n",
    "        Q3 = df[col].quantile(0.75)\n",
    "        IQR = Q3 - Q1\n",
    "        outlier_count = ((df[col] < (Q1 - 1.5 * IQR)) | (df[col] > (Q3 + 1.5 * IQR))).sum()\n",
    "        outliers[col] = outlier_count\n",
    "    \n",
    "    # Summary table\n",
    "    issues = pd.DataFrame({\n",
    "        'Metric': ['Missing Values', 'Missing %', 'Duplicates', 'Outliers'],\n",
    "    })\n",
    "    for col in df.columns:\n",
    "        issues[col] = [\n",
    "            missing[col],\n",
    "            missing_pct[col],\n",
    "            '-' if col != 'Overall' else duplicates,  # Duplicates are overall\n",
    "            outliers.get(col, '-')\n",
    "        ]\n",
    "    issues['Overall'] = [missing.sum(), missing_pct.mean(), duplicates, sum(outliers.values())]\n",
    "    \n",
    "    #print(f\"Profiling for {df_name}:\")\n",
    "    #display(issues)\n",
    "    \n",
    "    return issues\n",
    "\n",
    "# Profile each dataset\n",
    "usage_issues = profile_df(usage_data, 'usage_data')\n",
    "employee_issues = profile_df(employee_data, 'employee_data')\n",
    "benefits_issues = profile_df(benefits_data, 'benefits_data')\n",
    "feedback_issues = profile_df(feedback_data, 'feedback_data')\n",
    "\n",
    "# Merge datasets (assuming common keys: EmployeeID and BenefitID)\n",
    "merged = pd.merge(usage_data, employee_data, on='EmployeeID', how='inner')\n",
    "merged = pd.merge(merged, benefits_data, on='BenefitID', how='inner')\n",
    "merged = pd.merge(merged, feedback_data, on=['EmployeeID', 'BenefitID'], how='inner')\n",
    "\n",
    "# Standardize datatypes\n",
    "merged['LastUsedDate'] = pd.to_datetime(merged['LastUsedDate'], errors='coerce')  # Assuming column name\n",
    "merged['Gender'] = merged['Gender'].astype('category')  # Assuming column\n",
    "merged['Department'] = merged['Department'].astype('category')\n",
    "\n",
    "# Feature engineering\n",
    "merged['age_group'] = pd.cut(merged['Age'], bins=[0, 30, 45, np.inf], labels=['<30', '30-45', '>45'])\n",
    "merged['tenure_group'] = pd.cut(merged['Tenure'], bins=[0, 5, 10, np.inf], labels=['<5', '5-10', '>10'])  # Assuming Tenure column\n",
    "# Subcategory flags (one-hot for BenefitSubType)\n",
    "subcat_dummies = pd.get_dummies(merged['BenefitSubType'], prefix='subcat')\n",
    "merged = pd.concat([merged, subcat_dummies], axis=1)\n",
    "\n",
    "# Handle missing values\n",
    "merged['UsageFrequency'].fillna(merged['UsageFrequency'].median(), inplace=True)  # Median impute\n",
    "merged.dropna(subset=['Comments'], inplace=True)  # Drop missing Comments\n",
    "\n",
    "# Validate\n",
    "merged = merged[merged['UsageFrequency'] >= 0]  # No negatives\n",
    "# Add more validations as needed, e.g., merged = merged[(merged['SatisfactionScore'] >=1) & (merged['SatisfactionScore'] <=5)]"
   ]
  },
  {
   "cell_type": "markdown",
   "id": "53641a25",
   "metadata": {},
   "source": [
    "## Demographic Insights Discovery"
   ]
  },
  {
   "cell_type": "code",
   "execution_count": 51,
   "id": "5302b062",
   "metadata": {},
   "outputs": [],
   "source": [
    "import warnings\n",
    "warnings.filterwarnings(\"ignore\")\n",
    "\n",
    "import plotly.express as px\n",
    "\n",
    "# 1. Analyze benefit usage by demographics ( Age, Gender , Department, Tenure )\n",
    "# We will group the data by given variables and compare their usagefrequencies\n",
    "demographics_usage = merged.groupby(['age_group', 'Gender', 'Department', 'tenure_group'])['UsageFrequency'].mean().reset_index()\n",
    "\n",
    "# 2. Identify preferences by BenefitSubType (e.g., IT’s preference for “Technology Stipend”).\n",
    "\n",
    "# Compare subtypes across segments (e.g., by age_group, departments)\n",
    "def construct_barplot(df, groupby_list, x, color):\n",
    "    df_group = df.groupby(groupby_list)['UsageFrequency'].mean().reset_index()\n",
    "    return px.bar(df_group, x=x, y='UsageFrequency', color=color, barmode='stack', title=f'Usage by {x} and {color}', hover_data=groupby_list), df_group\n",
    "\n",
    "def compare_x_y_heatmap(df, groupby_list, x, y, color='Avg UsageFrequency'):\n",
    "    subtype_df = df.groupby(groupby_list)['UsageFrequency'].mean().unstack().reset_index()\n",
    "    return px.imshow(\n",
    "                subtype_df.set_index(y),\n",
    "                labels=dict(x=x, y=y, color=\"Avg UsageFrequency\"),\n",
    "                title=f'{x} Usage Heatmap by {y}',\n",
    "                aspect=\"auto\",\n",
    "            ).show(), subtype_df.set_index(y)"
   ]
  },
  {
   "cell_type": "code",
   "execution_count": 83,
   "id": "48051d2e",
   "metadata": {},
   "outputs": [
    {
     "data": {
      "text/html": [
       "<div>\n",
       "<style scoped>\n",
       "    .dataframe tbody tr th:only-of-type {\n",
       "        vertical-align: middle;\n",
       "    }\n",
       "\n",
       "    .dataframe tbody tr th {\n",
       "        vertical-align: top;\n",
       "    }\n",
       "\n",
       "    .dataframe thead th {\n",
       "        text-align: right;\n",
       "    }\n",
       "</style>\n",
       "<table border=\"1\" class=\"dataframe\">\n",
       "  <thead>\n",
       "    <tr style=\"text-align: right;\">\n",
       "      <th></th>\n",
       "      <th>age_group</th>\n",
       "      <th>Gender</th>\n",
       "      <th>Department</th>\n",
       "      <th>UsageFrequency</th>\n",
       "    </tr>\n",
       "  </thead>\n",
       "  <tbody>\n",
       "    <tr>\n",
       "      <th>44</th>\n",
       "      <td>&gt;45</td>\n",
       "      <td>Non-Binary</td>\n",
       "      <td>Sales</td>\n",
       "      <td>1.400000</td>\n",
       "    </tr>\n",
       "    <tr>\n",
       "      <th>14</th>\n",
       "      <td>&lt;30</td>\n",
       "      <td>Non-Binary</td>\n",
       "      <td>Sales</td>\n",
       "      <td>1.500000</td>\n",
       "    </tr>\n",
       "    <tr>\n",
       "      <th>42</th>\n",
       "      <td>&gt;45</td>\n",
       "      <td>Non-Binary</td>\n",
       "      <td>IT</td>\n",
       "      <td>1.823529</td>\n",
       "    </tr>\n",
       "    <tr>\n",
       "      <th>25</th>\n",
       "      <td>30-45</td>\n",
       "      <td>Non-Binary</td>\n",
       "      <td>Finance</td>\n",
       "      <td>2.478261</td>\n",
       "    </tr>\n",
       "    <tr>\n",
       "      <th>29</th>\n",
       "      <td>30-45</td>\n",
       "      <td>Non-Binary</td>\n",
       "      <td>Sales</td>\n",
       "      <td>2.714286</td>\n",
       "    </tr>\n",
       "    <tr>\n",
       "      <th>13</th>\n",
       "      <td>&lt;30</td>\n",
       "      <td>Non-Binary</td>\n",
       "      <td>Marketing</td>\n",
       "      <td>2.750000</td>\n",
       "    </tr>\n",
       "    <tr>\n",
       "      <th>40</th>\n",
       "      <td>&gt;45</td>\n",
       "      <td>Non-Binary</td>\n",
       "      <td>Finance</td>\n",
       "      <td>2.777778</td>\n",
       "    </tr>\n",
       "    <tr>\n",
       "      <th>3</th>\n",
       "      <td>&lt;30</td>\n",
       "      <td>Female</td>\n",
       "      <td>Marketing</td>\n",
       "      <td>2.952941</td>\n",
       "    </tr>\n",
       "    <tr>\n",
       "      <th>18</th>\n",
       "      <td>30-45</td>\n",
       "      <td>Female</td>\n",
       "      <td>Marketing</td>\n",
       "      <td>3.009740</td>\n",
       "    </tr>\n",
       "    <tr>\n",
       "      <th>4</th>\n",
       "      <td>&lt;30</td>\n",
       "      <td>Female</td>\n",
       "      <td>Sales</td>\n",
       "      <td>3.036437</td>\n",
       "    </tr>\n",
       "    <tr>\n",
       "      <th>8</th>\n",
       "      <td>&lt;30</td>\n",
       "      <td>Male</td>\n",
       "      <td>Marketing</td>\n",
       "      <td>3.144928</td>\n",
       "    </tr>\n",
       "    <tr>\n",
       "      <th>34</th>\n",
       "      <td>&gt;45</td>\n",
       "      <td>Female</td>\n",
       "      <td>Sales</td>\n",
       "      <td>3.189189</td>\n",
       "    </tr>\n",
       "    <tr>\n",
       "      <th>6</th>\n",
       "      <td>&lt;30</td>\n",
       "      <td>Male</td>\n",
       "      <td>HR</td>\n",
       "      <td>3.193798</td>\n",
       "    </tr>\n",
       "    <tr>\n",
       "      <th>11</th>\n",
       "      <td>&lt;30</td>\n",
       "      <td>Non-Binary</td>\n",
       "      <td>HR</td>\n",
       "      <td>3.200000</td>\n",
       "    </tr>\n",
       "    <tr>\n",
       "      <th>33</th>\n",
       "      <td>&gt;45</td>\n",
       "      <td>Female</td>\n",
       "      <td>Marketing</td>\n",
       "      <td>3.203620</td>\n",
       "    </tr>\n",
       "    <tr>\n",
       "      <th>32</th>\n",
       "      <td>&gt;45</td>\n",
       "      <td>Female</td>\n",
       "      <td>IT</td>\n",
       "      <td>3.259184</td>\n",
       "    </tr>\n",
       "    <tr>\n",
       "      <th>20</th>\n",
       "      <td>30-45</td>\n",
       "      <td>Male</td>\n",
       "      <td>Finance</td>\n",
       "      <td>3.269103</td>\n",
       "    </tr>\n",
       "    <tr>\n",
       "      <th>30</th>\n",
       "      <td>&gt;45</td>\n",
       "      <td>Female</td>\n",
       "      <td>Finance</td>\n",
       "      <td>3.278351</td>\n",
       "    </tr>\n",
       "    <tr>\n",
       "      <th>21</th>\n",
       "      <td>30-45</td>\n",
       "      <td>Male</td>\n",
       "      <td>HR</td>\n",
       "      <td>3.299401</td>\n",
       "    </tr>\n",
       "    <tr>\n",
       "      <th>35</th>\n",
       "      <td>&gt;45</td>\n",
       "      <td>Male</td>\n",
       "      <td>Finance</td>\n",
       "      <td>3.316594</td>\n",
       "    </tr>\n",
       "    <tr>\n",
       "      <th>43</th>\n",
       "      <td>&gt;45</td>\n",
       "      <td>Non-Binary</td>\n",
       "      <td>Marketing</td>\n",
       "      <td>3.333333</td>\n",
       "    </tr>\n",
       "    <tr>\n",
       "      <th>15</th>\n",
       "      <td>30-45</td>\n",
       "      <td>Female</td>\n",
       "      <td>Finance</td>\n",
       "      <td>3.354223</td>\n",
       "    </tr>\n",
       "    <tr>\n",
       "      <th>5</th>\n",
       "      <td>&lt;30</td>\n",
       "      <td>Male</td>\n",
       "      <td>Finance</td>\n",
       "      <td>3.355191</td>\n",
       "    </tr>\n",
       "    <tr>\n",
       "      <th>17</th>\n",
       "      <td>30-45</td>\n",
       "      <td>Female</td>\n",
       "      <td>IT</td>\n",
       "      <td>3.371287</td>\n",
       "    </tr>\n",
       "    <tr>\n",
       "      <th>24</th>\n",
       "      <td>30-45</td>\n",
       "      <td>Male</td>\n",
       "      <td>Sales</td>\n",
       "      <td>3.380403</td>\n",
       "    </tr>\n",
       "    <tr>\n",
       "      <th>39</th>\n",
       "      <td>&gt;45</td>\n",
       "      <td>Male</td>\n",
       "      <td>Sales</td>\n",
       "      <td>3.387991</td>\n",
       "    </tr>\n",
       "    <tr>\n",
       "      <th>36</th>\n",
       "      <td>&gt;45</td>\n",
       "      <td>Male</td>\n",
       "      <td>HR</td>\n",
       "      <td>3.390449</td>\n",
       "    </tr>\n",
       "    <tr>\n",
       "      <th>23</th>\n",
       "      <td>30-45</td>\n",
       "      <td>Male</td>\n",
       "      <td>Marketing</td>\n",
       "      <td>3.394521</td>\n",
       "    </tr>\n",
       "    <tr>\n",
       "      <th>2</th>\n",
       "      <td>&lt;30</td>\n",
       "      <td>Female</td>\n",
       "      <td>IT</td>\n",
       "      <td>3.411538</td>\n",
       "    </tr>\n",
       "    <tr>\n",
       "      <th>9</th>\n",
       "      <td>&lt;30</td>\n",
       "      <td>Male</td>\n",
       "      <td>Sales</td>\n",
       "      <td>3.419890</td>\n",
       "    </tr>\n",
       "    <tr>\n",
       "      <th>22</th>\n",
       "      <td>30-45</td>\n",
       "      <td>Male</td>\n",
       "      <td>IT</td>\n",
       "      <td>3.438753</td>\n",
       "    </tr>\n",
       "    <tr>\n",
       "      <th>41</th>\n",
       "      <td>&gt;45</td>\n",
       "      <td>Non-Binary</td>\n",
       "      <td>HR</td>\n",
       "      <td>3.480000</td>\n",
       "    </tr>\n",
       "    <tr>\n",
       "      <th>37</th>\n",
       "      <td>&gt;45</td>\n",
       "      <td>Male</td>\n",
       "      <td>IT</td>\n",
       "      <td>3.494253</td>\n",
       "    </tr>\n",
       "    <tr>\n",
       "      <th>0</th>\n",
       "      <td>&lt;30</td>\n",
       "      <td>Female</td>\n",
       "      <td>Finance</td>\n",
       "      <td>3.500000</td>\n",
       "    </tr>\n",
       "    <tr>\n",
       "      <th>19</th>\n",
       "      <td>30-45</td>\n",
       "      <td>Female</td>\n",
       "      <td>Sales</td>\n",
       "      <td>3.513196</td>\n",
       "    </tr>\n",
       "    <tr>\n",
       "      <th>7</th>\n",
       "      <td>&lt;30</td>\n",
       "      <td>Male</td>\n",
       "      <td>IT</td>\n",
       "      <td>3.514815</td>\n",
       "    </tr>\n",
       "    <tr>\n",
       "      <th>27</th>\n",
       "      <td>30-45</td>\n",
       "      <td>Non-Binary</td>\n",
       "      <td>IT</td>\n",
       "      <td>3.555556</td>\n",
       "    </tr>\n",
       "    <tr>\n",
       "      <th>31</th>\n",
       "      <td>&gt;45</td>\n",
       "      <td>Female</td>\n",
       "      <td>HR</td>\n",
       "      <td>3.555891</td>\n",
       "    </tr>\n",
       "    <tr>\n",
       "      <th>16</th>\n",
       "      <td>30-45</td>\n",
       "      <td>Female</td>\n",
       "      <td>HR</td>\n",
       "      <td>3.571429</td>\n",
       "    </tr>\n",
       "    <tr>\n",
       "      <th>38</th>\n",
       "      <td>&gt;45</td>\n",
       "      <td>Male</td>\n",
       "      <td>Marketing</td>\n",
       "      <td>3.572025</td>\n",
       "    </tr>\n",
       "    <tr>\n",
       "      <th>1</th>\n",
       "      <td>&lt;30</td>\n",
       "      <td>Female</td>\n",
       "      <td>HR</td>\n",
       "      <td>3.672131</td>\n",
       "    </tr>\n",
       "    <tr>\n",
       "      <th>28</th>\n",
       "      <td>30-45</td>\n",
       "      <td>Non-Binary</td>\n",
       "      <td>Marketing</td>\n",
       "      <td>3.894737</td>\n",
       "    </tr>\n",
       "    <tr>\n",
       "      <th>26</th>\n",
       "      <td>30-45</td>\n",
       "      <td>Non-Binary</td>\n",
       "      <td>HR</td>\n",
       "      <td>4.000000</td>\n",
       "    </tr>\n",
       "    <tr>\n",
       "      <th>12</th>\n",
       "      <td>&lt;30</td>\n",
       "      <td>Non-Binary</td>\n",
       "      <td>IT</td>\n",
       "      <td>4.000000</td>\n",
       "    </tr>\n",
       "    <tr>\n",
       "      <th>10</th>\n",
       "      <td>&lt;30</td>\n",
       "      <td>Non-Binary</td>\n",
       "      <td>Finance</td>\n",
       "      <td>4.200000</td>\n",
       "    </tr>\n",
       "  </tbody>\n",
       "</table>\n",
       "</div>"
      ],
      "text/plain": [
       "   age_group      Gender Department  UsageFrequency\n",
       "44       >45  Non-Binary      Sales        1.400000\n",
       "14       <30  Non-Binary      Sales        1.500000\n",
       "42       >45  Non-Binary         IT        1.823529\n",
       "25     30-45  Non-Binary    Finance        2.478261\n",
       "29     30-45  Non-Binary      Sales        2.714286\n",
       "13       <30  Non-Binary  Marketing        2.750000\n",
       "40       >45  Non-Binary    Finance        2.777778\n",
       "3        <30      Female  Marketing        2.952941\n",
       "18     30-45      Female  Marketing        3.009740\n",
       "4        <30      Female      Sales        3.036437\n",
       "8        <30        Male  Marketing        3.144928\n",
       "34       >45      Female      Sales        3.189189\n",
       "6        <30        Male         HR        3.193798\n",
       "11       <30  Non-Binary         HR        3.200000\n",
       "33       >45      Female  Marketing        3.203620\n",
       "32       >45      Female         IT        3.259184\n",
       "20     30-45        Male    Finance        3.269103\n",
       "30       >45      Female    Finance        3.278351\n",
       "21     30-45        Male         HR        3.299401\n",
       "35       >45        Male    Finance        3.316594\n",
       "43       >45  Non-Binary  Marketing        3.333333\n",
       "15     30-45      Female    Finance        3.354223\n",
       "5        <30        Male    Finance        3.355191\n",
       "17     30-45      Female         IT        3.371287\n",
       "24     30-45        Male      Sales        3.380403\n",
       "39       >45        Male      Sales        3.387991\n",
       "36       >45        Male         HR        3.390449\n",
       "23     30-45        Male  Marketing        3.394521\n",
       "2        <30      Female         IT        3.411538\n",
       "9        <30        Male      Sales        3.419890\n",
       "22     30-45        Male         IT        3.438753\n",
       "41       >45  Non-Binary         HR        3.480000\n",
       "37       >45        Male         IT        3.494253\n",
       "0        <30      Female    Finance        3.500000\n",
       "19     30-45      Female      Sales        3.513196\n",
       "7        <30        Male         IT        3.514815\n",
       "27     30-45  Non-Binary         IT        3.555556\n",
       "31       >45      Female         HR        3.555891\n",
       "16     30-45      Female         HR        3.571429\n",
       "38       >45        Male  Marketing        3.572025\n",
       "1        <30      Female         HR        3.672131\n",
       "28     30-45  Non-Binary  Marketing        3.894737\n",
       "26     30-45  Non-Binary         HR        4.000000\n",
       "12       <30  Non-Binary         IT        4.000000\n",
       "10       <30  Non-Binary    Finance        4.200000"
      ]
     },
     "execution_count": 83,
     "metadata": {},
     "output_type": "execute_result"
    }
   ],
   "source": [
    "#display(construct_barplot(merged, ['age_group', 'Gender', 'tenure_group'], 'age_group', 'Gender')[0])\n",
    "construct_barplot(merged, ['age_group', 'Gender', 'Department'], 'Department', 'age_group')[1].sort_values('UsageFrequency')\n",
    "#display(compare_x_y_heatmap(merged, ['age_group', 'Gender'], 'Gender', 'age_group')[0])"
   ]
  },
  {
   "cell_type": "code",
   "execution_count": 68,
   "id": "6f622cba",
   "metadata": {},
   "outputs": [
    {
     "data": {
      "application/vnd.plotly.v1+json": {
       "config": {
        "plotlyServerURL": "https://plot.ly"
       },
       "data": [
        {
         "coloraxis": "coloraxis",
         "hovertemplate": "Benefit SubType: %{x}<br>tenure_group: %{y}<br>Avg UsageFrequency: %{z}<extra></extra>",
         "name": "0",
         "type": "heatmap",
         "x": [
          "401k Basic Matching",
          "401k Catch-Up Contributions",
          "401k High Contribution",
          "401k Investment Fees",
          "401k Maximum Matching",
          "401k Standard Matching",
          "After-School Care",
          "Basic Coverage",
          "Conference Attendance",
          "Dependent Coverage",
          "Family Membership",
          "Graduate Degree",
          "HDHP Individual",
          "HMO Family",
          "Healthcare FSA",
          "Individual Courses",
          "Monthly Communications",
          "Monthly Internet Allowance",
          "On-Site Infant Care",
          "PPO Family",
          "PPO Individual",
          "Premium Discount Tier 1",
          "Professional Certification",
          "Supplemental High Amount",
          "Supplemental Standard",
          "Tier 1 Partners",
          "Tier 2 Partners",
          "Tier 3 Partners",
          "Transit Subsidy",
          "Undergraduate Degree"
         ],
         "xaxis": "x",
         "y": [
          "<5",
          "5-10",
          ">10"
         ],
         "yaxis": "y",
         "z": {
          "bdata": "73Wve93rDkDCFPmsG0wNQF82aPJlgw5AtEZrtEZrEED8CO4juI8MQC+hvYT2EgRAJI888sgjB0DRRRdddNENQHCBC1zgAg9AWGCBBRZYEECrqqqqquoLQPdzP/dzPwdAJ3ZiJ3ZiAkAAAAAAAAAMQEdrtEZrtAZAjC666KKLCkDf9KY3vekLQL+jV8b2OwpAkYUsZCELB0CsD431obEKQHfEHXFH3AlAO7/2kMuKCUCWexphuacJQF9CewntJQxA6fFdOIgeD0AAAAAAAIAIQGXg6db8sAhAfMVXfMVXDED1008//fQLQDIlUzIlUwpAAAAAAAAADkCtG0yRz7oJQDmO4ziOYxFAHVITjLeyD0AjLPc0wnIPQNfPFivDNwpAHh4eHh4eBkARQgghhBAKQIwuuuiiiw5AgiAIgiAICkBMDewdUwMLQNu2bdu2bQlAS63USq3UCkCrqqqqqqoOQKc3velNbwpAAAAAAAAACUBpaWlpaWkQQC0tLS0tLQlAX0J7Ce0lBEBaWlpaWloKQPkZJX5GiQdA9ihcj8L1DEAAAAAAAAAEQJIkSZIkSQpAPDw8PDw8CEAAAAAAAGAQQBY2BxKtsAlAx3Ecx3EcD0AAAAAAAAAIQIYsZCELWQpArXZWO6udDUBswRZswRYIQK0YKOGNpg5ArxY3YX5XC0A3THMX/FUMQJI9A1HpyApAI2Xg6db8CEAHRIZ7FcwKQPNMfNx3SwlANVdzNVdzCUAXXXTRRZcJQDYezR9sPApAorodqtuhCkDAZPlLlr8MQBj0BX1BXwxAjzbvU1wyDECSJEmSJEkKQK8WN2F+Vw9ALoZ03mJIB0Dbtm3btm0LQHkN5TWU1wlArSlrypqyBkA8RQtnQCgJQJm40r0BZQpAEhISEhISDkBCHdRBHdQFQE/sxE7sxApAd/ojFnCnB0DZVBpy7rMLQHIFMbmCmApA",
          "dtype": "f8",
          "shape": "3, 30"
         }
        }
       ],
       "layout": {
        "coloraxis": {
         "colorbar": {
          "title": {
           "text": "Avg UsageFrequency"
          }
         },
         "colorscale": [
          [
           0,
           "#0d0887"
          ],
          [
           0.1111111111111111,
           "#46039f"
          ],
          [
           0.2222222222222222,
           "#7201a8"
          ],
          [
           0.3333333333333333,
           "#9c179e"
          ],
          [
           0.4444444444444444,
           "#bd3786"
          ],
          [
           0.5555555555555556,
           "#d8576b"
          ],
          [
           0.6666666666666666,
           "#ed7953"
          ],
          [
           0.7777777777777778,
           "#fb9f3a"
          ],
          [
           0.8888888888888888,
           "#fdca26"
          ],
          [
           1,
           "#f0f921"
          ]
         ]
        },
        "template": {
         "data": {
          "bar": [
           {
            "error_x": {
             "color": "#2a3f5f"
            },
            "error_y": {
             "color": "#2a3f5f"
            },
            "marker": {
             "line": {
              "color": "#E5ECF6",
              "width": 0.5
             },
             "pattern": {
              "fillmode": "overlay",
              "size": 10,
              "solidity": 0.2
             }
            },
            "type": "bar"
           }
          ],
          "barpolar": [
           {
            "marker": {
             "line": {
              "color": "#E5ECF6",
              "width": 0.5
             },
             "pattern": {
              "fillmode": "overlay",
              "size": 10,
              "solidity": 0.2
             }
            },
            "type": "barpolar"
           }
          ],
          "carpet": [
           {
            "aaxis": {
             "endlinecolor": "#2a3f5f",
             "gridcolor": "white",
             "linecolor": "white",
             "minorgridcolor": "white",
             "startlinecolor": "#2a3f5f"
            },
            "baxis": {
             "endlinecolor": "#2a3f5f",
             "gridcolor": "white",
             "linecolor": "white",
             "minorgridcolor": "white",
             "startlinecolor": "#2a3f5f"
            },
            "type": "carpet"
           }
          ],
          "choropleth": [
           {
            "colorbar": {
             "outlinewidth": 0,
             "ticks": ""
            },
            "type": "choropleth"
           }
          ],
          "contour": [
           {
            "colorbar": {
             "outlinewidth": 0,
             "ticks": ""
            },
            "colorscale": [
             [
              0,
              "#0d0887"
             ],
             [
              0.1111111111111111,
              "#46039f"
             ],
             [
              0.2222222222222222,
              "#7201a8"
             ],
             [
              0.3333333333333333,
              "#9c179e"
             ],
             [
              0.4444444444444444,
              "#bd3786"
             ],
             [
              0.5555555555555556,
              "#d8576b"
             ],
             [
              0.6666666666666666,
              "#ed7953"
             ],
             [
              0.7777777777777778,
              "#fb9f3a"
             ],
             [
              0.8888888888888888,
              "#fdca26"
             ],
             [
              1,
              "#f0f921"
             ]
            ],
            "type": "contour"
           }
          ],
          "contourcarpet": [
           {
            "colorbar": {
             "outlinewidth": 0,
             "ticks": ""
            },
            "type": "contourcarpet"
           }
          ],
          "heatmap": [
           {
            "colorbar": {
             "outlinewidth": 0,
             "ticks": ""
            },
            "colorscale": [
             [
              0,
              "#0d0887"
             ],
             [
              0.1111111111111111,
              "#46039f"
             ],
             [
              0.2222222222222222,
              "#7201a8"
             ],
             [
              0.3333333333333333,
              "#9c179e"
             ],
             [
              0.4444444444444444,
              "#bd3786"
             ],
             [
              0.5555555555555556,
              "#d8576b"
             ],
             [
              0.6666666666666666,
              "#ed7953"
             ],
             [
              0.7777777777777778,
              "#fb9f3a"
             ],
             [
              0.8888888888888888,
              "#fdca26"
             ],
             [
              1,
              "#f0f921"
             ]
            ],
            "type": "heatmap"
           }
          ],
          "histogram": [
           {
            "marker": {
             "pattern": {
              "fillmode": "overlay",
              "size": 10,
              "solidity": 0.2
             }
            },
            "type": "histogram"
           }
          ],
          "histogram2d": [
           {
            "colorbar": {
             "outlinewidth": 0,
             "ticks": ""
            },
            "colorscale": [
             [
              0,
              "#0d0887"
             ],
             [
              0.1111111111111111,
              "#46039f"
             ],
             [
              0.2222222222222222,
              "#7201a8"
             ],
             [
              0.3333333333333333,
              "#9c179e"
             ],
             [
              0.4444444444444444,
              "#bd3786"
             ],
             [
              0.5555555555555556,
              "#d8576b"
             ],
             [
              0.6666666666666666,
              "#ed7953"
             ],
             [
              0.7777777777777778,
              "#fb9f3a"
             ],
             [
              0.8888888888888888,
              "#fdca26"
             ],
             [
              1,
              "#f0f921"
             ]
            ],
            "type": "histogram2d"
           }
          ],
          "histogram2dcontour": [
           {
            "colorbar": {
             "outlinewidth": 0,
             "ticks": ""
            },
            "colorscale": [
             [
              0,
              "#0d0887"
             ],
             [
              0.1111111111111111,
              "#46039f"
             ],
             [
              0.2222222222222222,
              "#7201a8"
             ],
             [
              0.3333333333333333,
              "#9c179e"
             ],
             [
              0.4444444444444444,
              "#bd3786"
             ],
             [
              0.5555555555555556,
              "#d8576b"
             ],
             [
              0.6666666666666666,
              "#ed7953"
             ],
             [
              0.7777777777777778,
              "#fb9f3a"
             ],
             [
              0.8888888888888888,
              "#fdca26"
             ],
             [
              1,
              "#f0f921"
             ]
            ],
            "type": "histogram2dcontour"
           }
          ],
          "mesh3d": [
           {
            "colorbar": {
             "outlinewidth": 0,
             "ticks": ""
            },
            "type": "mesh3d"
           }
          ],
          "parcoords": [
           {
            "line": {
             "colorbar": {
              "outlinewidth": 0,
              "ticks": ""
             }
            },
            "type": "parcoords"
           }
          ],
          "pie": [
           {
            "automargin": true,
            "type": "pie"
           }
          ],
          "scatter": [
           {
            "fillpattern": {
             "fillmode": "overlay",
             "size": 10,
             "solidity": 0.2
            },
            "type": "scatter"
           }
          ],
          "scatter3d": [
           {
            "line": {
             "colorbar": {
              "outlinewidth": 0,
              "ticks": ""
             }
            },
            "marker": {
             "colorbar": {
              "outlinewidth": 0,
              "ticks": ""
             }
            },
            "type": "scatter3d"
           }
          ],
          "scattercarpet": [
           {
            "marker": {
             "colorbar": {
              "outlinewidth": 0,
              "ticks": ""
             }
            },
            "type": "scattercarpet"
           }
          ],
          "scattergeo": [
           {
            "marker": {
             "colorbar": {
              "outlinewidth": 0,
              "ticks": ""
             }
            },
            "type": "scattergeo"
           }
          ],
          "scattergl": [
           {
            "marker": {
             "colorbar": {
              "outlinewidth": 0,
              "ticks": ""
             }
            },
            "type": "scattergl"
           }
          ],
          "scattermap": [
           {
            "marker": {
             "colorbar": {
              "outlinewidth": 0,
              "ticks": ""
             }
            },
            "type": "scattermap"
           }
          ],
          "scattermapbox": [
           {
            "marker": {
             "colorbar": {
              "outlinewidth": 0,
              "ticks": ""
             }
            },
            "type": "scattermapbox"
           }
          ],
          "scatterpolar": [
           {
            "marker": {
             "colorbar": {
              "outlinewidth": 0,
              "ticks": ""
             }
            },
            "type": "scatterpolar"
           }
          ],
          "scatterpolargl": [
           {
            "marker": {
             "colorbar": {
              "outlinewidth": 0,
              "ticks": ""
             }
            },
            "type": "scatterpolargl"
           }
          ],
          "scatterternary": [
           {
            "marker": {
             "colorbar": {
              "outlinewidth": 0,
              "ticks": ""
             }
            },
            "type": "scatterternary"
           }
          ],
          "surface": [
           {
            "colorbar": {
             "outlinewidth": 0,
             "ticks": ""
            },
            "colorscale": [
             [
              0,
              "#0d0887"
             ],
             [
              0.1111111111111111,
              "#46039f"
             ],
             [
              0.2222222222222222,
              "#7201a8"
             ],
             [
              0.3333333333333333,
              "#9c179e"
             ],
             [
              0.4444444444444444,
              "#bd3786"
             ],
             [
              0.5555555555555556,
              "#d8576b"
             ],
             [
              0.6666666666666666,
              "#ed7953"
             ],
             [
              0.7777777777777778,
              "#fb9f3a"
             ],
             [
              0.8888888888888888,
              "#fdca26"
             ],
             [
              1,
              "#f0f921"
             ]
            ],
            "type": "surface"
           }
          ],
          "table": [
           {
            "cells": {
             "fill": {
              "color": "#EBF0F8"
             },
             "line": {
              "color": "white"
             }
            },
            "header": {
             "fill": {
              "color": "#C8D4E3"
             },
             "line": {
              "color": "white"
             }
            },
            "type": "table"
           }
          ]
         },
         "layout": {
          "annotationdefaults": {
           "arrowcolor": "#2a3f5f",
           "arrowhead": 0,
           "arrowwidth": 1
          },
          "autotypenumbers": "strict",
          "coloraxis": {
           "colorbar": {
            "outlinewidth": 0,
            "ticks": ""
           }
          },
          "colorscale": {
           "diverging": [
            [
             0,
             "#8e0152"
            ],
            [
             0.1,
             "#c51b7d"
            ],
            [
             0.2,
             "#de77ae"
            ],
            [
             0.3,
             "#f1b6da"
            ],
            [
             0.4,
             "#fde0ef"
            ],
            [
             0.5,
             "#f7f7f7"
            ],
            [
             0.6,
             "#e6f5d0"
            ],
            [
             0.7,
             "#b8e186"
            ],
            [
             0.8,
             "#7fbc41"
            ],
            [
             0.9,
             "#4d9221"
            ],
            [
             1,
             "#276419"
            ]
           ],
           "sequential": [
            [
             0,
             "#0d0887"
            ],
            [
             0.1111111111111111,
             "#46039f"
            ],
            [
             0.2222222222222222,
             "#7201a8"
            ],
            [
             0.3333333333333333,
             "#9c179e"
            ],
            [
             0.4444444444444444,
             "#bd3786"
            ],
            [
             0.5555555555555556,
             "#d8576b"
            ],
            [
             0.6666666666666666,
             "#ed7953"
            ],
            [
             0.7777777777777778,
             "#fb9f3a"
            ],
            [
             0.8888888888888888,
             "#fdca26"
            ],
            [
             1,
             "#f0f921"
            ]
           ],
           "sequentialminus": [
            [
             0,
             "#0d0887"
            ],
            [
             0.1111111111111111,
             "#46039f"
            ],
            [
             0.2222222222222222,
             "#7201a8"
            ],
            [
             0.3333333333333333,
             "#9c179e"
            ],
            [
             0.4444444444444444,
             "#bd3786"
            ],
            [
             0.5555555555555556,
             "#d8576b"
            ],
            [
             0.6666666666666666,
             "#ed7953"
            ],
            [
             0.7777777777777778,
             "#fb9f3a"
            ],
            [
             0.8888888888888888,
             "#fdca26"
            ],
            [
             1,
             "#f0f921"
            ]
           ]
          },
          "colorway": [
           "#636efa",
           "#EF553B",
           "#00cc96",
           "#ab63fa",
           "#FFA15A",
           "#19d3f3",
           "#FF6692",
           "#B6E880",
           "#FF97FF",
           "#FECB52"
          ],
          "font": {
           "color": "#2a3f5f"
          },
          "geo": {
           "bgcolor": "white",
           "lakecolor": "white",
           "landcolor": "#E5ECF6",
           "showlakes": true,
           "showland": true,
           "subunitcolor": "white"
          },
          "hoverlabel": {
           "align": "left"
          },
          "hovermode": "closest",
          "mapbox": {
           "style": "light"
          },
          "paper_bgcolor": "white",
          "plot_bgcolor": "#E5ECF6",
          "polar": {
           "angularaxis": {
            "gridcolor": "white",
            "linecolor": "white",
            "ticks": ""
           },
           "bgcolor": "#E5ECF6",
           "radialaxis": {
            "gridcolor": "white",
            "linecolor": "white",
            "ticks": ""
           }
          },
          "scene": {
           "xaxis": {
            "backgroundcolor": "#E5ECF6",
            "gridcolor": "white",
            "gridwidth": 2,
            "linecolor": "white",
            "showbackground": true,
            "ticks": "",
            "zerolinecolor": "white"
           },
           "yaxis": {
            "backgroundcolor": "#E5ECF6",
            "gridcolor": "white",
            "gridwidth": 2,
            "linecolor": "white",
            "showbackground": true,
            "ticks": "",
            "zerolinecolor": "white"
           },
           "zaxis": {
            "backgroundcolor": "#E5ECF6",
            "gridcolor": "white",
            "gridwidth": 2,
            "linecolor": "white",
            "showbackground": true,
            "ticks": "",
            "zerolinecolor": "white"
           }
          },
          "shapedefaults": {
           "line": {
            "color": "#2a3f5f"
           }
          },
          "ternary": {
           "aaxis": {
            "gridcolor": "white",
            "linecolor": "white",
            "ticks": ""
           },
           "baxis": {
            "gridcolor": "white",
            "linecolor": "white",
            "ticks": ""
           },
           "bgcolor": "#E5ECF6",
           "caxis": {
            "gridcolor": "white",
            "linecolor": "white",
            "ticks": ""
           }
          },
          "title": {
           "x": 0.05
          },
          "xaxis": {
           "automargin": true,
           "gridcolor": "white",
           "linecolor": "white",
           "ticks": "",
           "title": {
            "standoff": 15
           },
           "zerolinecolor": "white",
           "zerolinewidth": 2
          },
          "yaxis": {
           "automargin": true,
           "gridcolor": "white",
           "linecolor": "white",
           "ticks": "",
           "title": {
            "standoff": 15
           },
           "zerolinecolor": "white",
           "zerolinewidth": 2
          }
         }
        },
        "title": {
         "text": "Benefit SubType Usage Heatmap by tenure_group"
        },
        "xaxis": {
         "anchor": "y",
         "domain": [
          0,
          1
         ],
         "title": {
          "text": "Benefit SubType"
         }
        },
        "yaxis": {
         "anchor": "x",
         "autorange": "reversed",
         "domain": [
          0,
          1
         ],
         "title": {
          "text": "tenure_group"
         }
        }
       }
      }
     },
     "metadata": {},
     "output_type": "display_data"
    },
    {
     "data": {
      "application/vnd.plotly.v1+json": {
       "config": {
        "plotlyServerURL": "https://plot.ly"
       },
       "data": [
        {
         "coloraxis": "coloraxis",
         "hovertemplate": "Benefit SubType: %{x}<br>age_group: %{y}<br>Avg UsageFrequency: %{z}<extra></extra>",
         "name": "0",
         "type": "heatmap",
         "x": [
          "401k Basic Matching",
          "401k Catch-Up Contributions",
          "401k High Contribution",
          "401k Investment Fees",
          "401k Maximum Matching",
          "401k Standard Matching",
          "After-School Care",
          "Basic Coverage",
          "Conference Attendance",
          "Dependent Coverage",
          "Family Membership",
          "Graduate Degree",
          "HDHP Individual",
          "HMO Family",
          "Healthcare FSA",
          "Individual Courses",
          "Monthly Communications",
          "Monthly Internet Allowance",
          "On-Site Infant Care",
          "PPO Family",
          "PPO Individual",
          "Premium Discount Tier 1",
          "Professional Certification",
          "Supplemental High Amount",
          "Supplemental Standard",
          "Tier 1 Partners",
          "Tier 2 Partners",
          "Tier 3 Partners",
          "Transit Subsidy",
          "Undergraduate Degree"
         ],
         "xaxis": "x",
         "y": [
          "<30",
          "30-45",
          ">45"
         ],
         "yaxis": "y",
         "z": {
          "bdata": "wgcffPDBEUD88tiKoOEQQLbWWmuttQpA1EEd1EEdEkBiJ3ZiJ3YOQDptoNMGOgVAt23btm3bCECCuXZgrh0IQPADP/ADPwhAJUmSJEmSDUDWvmHtG9YOQLrooosuughA4uHh4eHhA0Au2IIt2IINQDrnnHPOOQdADL3QC73QC0AAAAAAAOANQMxhDnOYwwxAQpyVnxBnBUAxYsSIESMGQLSYzmI6iwlAiYiIiIiICEA/8AM/8AMHQJIkSZIkSQhA7mmE5Z5GDEAnTZo0adIEQKEXeqEXeglAhc2BRCtsDkAcx3Ecx3EMQK+hvIbyGghAH4XrUbgeDUC8u7u7u7sCQFpMZzGdxRBAJ3ZiJ3ZiD0CQwfkYnI8NQJjQXkJ7CQdAGPOpF/OpB0D0BX1BX9APQHBY+4a1bwxAuxK1K1G7CkBIgzRIgzQKQGqE5Z5GWAhAeIVXeIVXCEDezpCYtzMMQIOMCzIuyAhAwvkYnI/BCUAGWqAFWqANQNa+Ye0b1gpAeOEgenwXBkA2ZU1ZU9YMQOtXCtT6lQpAAAAAAACADEBU4IurH3QMQEdrtEZrtA5AucWTWzy5DUAs9zTCck8LQLSX0F5CewlA47dLPRm/CUC/Lql8GPcLQCb8mfBnwgdAt/CrMZEeDEBzifCkIPkLQFh8xVd8xQ9AKxKvIvEqCkDX+Lt5hOoLQAAAAAAAAAtAnJCSZxnRB0AAAAAAALAJQCxRuxK1Kw1As88hNcF4C0DTm970pjcJQMprKK+hvAlArSYhir/ICUAZkI6lTIINQOdIc6Q50gxA33vvvffeC0BsB+bagbkKQNcOzLUDcw1ARhdddNFFB0BLRSwVsVQMQAOyAdmAbAhAQ3kN5TWUBkC0wuZAohUGQMmN3MiN3AhAYHvIZcVADUBYfMVXfMUJQLgpRg1/mwpAhCcFyZ9XCUA5juM4jmMJQH1no76zUQ1A",
          "dtype": "f8",
          "shape": "3, 30"
         }
        }
       ],
       "layout": {
        "coloraxis": {
         "colorbar": {
          "title": {
           "text": "Avg UsageFrequency"
          }
         },
         "colorscale": [
          [
           0,
           "#0d0887"
          ],
          [
           0.1111111111111111,
           "#46039f"
          ],
          [
           0.2222222222222222,
           "#7201a8"
          ],
          [
           0.3333333333333333,
           "#9c179e"
          ],
          [
           0.4444444444444444,
           "#bd3786"
          ],
          [
           0.5555555555555556,
           "#d8576b"
          ],
          [
           0.6666666666666666,
           "#ed7953"
          ],
          [
           0.7777777777777778,
           "#fb9f3a"
          ],
          [
           0.8888888888888888,
           "#fdca26"
          ],
          [
           1,
           "#f0f921"
          ]
         ]
        },
        "template": {
         "data": {
          "bar": [
           {
            "error_x": {
             "color": "#2a3f5f"
            },
            "error_y": {
             "color": "#2a3f5f"
            },
            "marker": {
             "line": {
              "color": "#E5ECF6",
              "width": 0.5
             },
             "pattern": {
              "fillmode": "overlay",
              "size": 10,
              "solidity": 0.2
             }
            },
            "type": "bar"
           }
          ],
          "barpolar": [
           {
            "marker": {
             "line": {
              "color": "#E5ECF6",
              "width": 0.5
             },
             "pattern": {
              "fillmode": "overlay",
              "size": 10,
              "solidity": 0.2
             }
            },
            "type": "barpolar"
           }
          ],
          "carpet": [
           {
            "aaxis": {
             "endlinecolor": "#2a3f5f",
             "gridcolor": "white",
             "linecolor": "white",
             "minorgridcolor": "white",
             "startlinecolor": "#2a3f5f"
            },
            "baxis": {
             "endlinecolor": "#2a3f5f",
             "gridcolor": "white",
             "linecolor": "white",
             "minorgridcolor": "white",
             "startlinecolor": "#2a3f5f"
            },
            "type": "carpet"
           }
          ],
          "choropleth": [
           {
            "colorbar": {
             "outlinewidth": 0,
             "ticks": ""
            },
            "type": "choropleth"
           }
          ],
          "contour": [
           {
            "colorbar": {
             "outlinewidth": 0,
             "ticks": ""
            },
            "colorscale": [
             [
              0,
              "#0d0887"
             ],
             [
              0.1111111111111111,
              "#46039f"
             ],
             [
              0.2222222222222222,
              "#7201a8"
             ],
             [
              0.3333333333333333,
              "#9c179e"
             ],
             [
              0.4444444444444444,
              "#bd3786"
             ],
             [
              0.5555555555555556,
              "#d8576b"
             ],
             [
              0.6666666666666666,
              "#ed7953"
             ],
             [
              0.7777777777777778,
              "#fb9f3a"
             ],
             [
              0.8888888888888888,
              "#fdca26"
             ],
             [
              1,
              "#f0f921"
             ]
            ],
            "type": "contour"
           }
          ],
          "contourcarpet": [
           {
            "colorbar": {
             "outlinewidth": 0,
             "ticks": ""
            },
            "type": "contourcarpet"
           }
          ],
          "heatmap": [
           {
            "colorbar": {
             "outlinewidth": 0,
             "ticks": ""
            },
            "colorscale": [
             [
              0,
              "#0d0887"
             ],
             [
              0.1111111111111111,
              "#46039f"
             ],
             [
              0.2222222222222222,
              "#7201a8"
             ],
             [
              0.3333333333333333,
              "#9c179e"
             ],
             [
              0.4444444444444444,
              "#bd3786"
             ],
             [
              0.5555555555555556,
              "#d8576b"
             ],
             [
              0.6666666666666666,
              "#ed7953"
             ],
             [
              0.7777777777777778,
              "#fb9f3a"
             ],
             [
              0.8888888888888888,
              "#fdca26"
             ],
             [
              1,
              "#f0f921"
             ]
            ],
            "type": "heatmap"
           }
          ],
          "histogram": [
           {
            "marker": {
             "pattern": {
              "fillmode": "overlay",
              "size": 10,
              "solidity": 0.2
             }
            },
            "type": "histogram"
           }
          ],
          "histogram2d": [
           {
            "colorbar": {
             "outlinewidth": 0,
             "ticks": ""
            },
            "colorscale": [
             [
              0,
              "#0d0887"
             ],
             [
              0.1111111111111111,
              "#46039f"
             ],
             [
              0.2222222222222222,
              "#7201a8"
             ],
             [
              0.3333333333333333,
              "#9c179e"
             ],
             [
              0.4444444444444444,
              "#bd3786"
             ],
             [
              0.5555555555555556,
              "#d8576b"
             ],
             [
              0.6666666666666666,
              "#ed7953"
             ],
             [
              0.7777777777777778,
              "#fb9f3a"
             ],
             [
              0.8888888888888888,
              "#fdca26"
             ],
             [
              1,
              "#f0f921"
             ]
            ],
            "type": "histogram2d"
           }
          ],
          "histogram2dcontour": [
           {
            "colorbar": {
             "outlinewidth": 0,
             "ticks": ""
            },
            "colorscale": [
             [
              0,
              "#0d0887"
             ],
             [
              0.1111111111111111,
              "#46039f"
             ],
             [
              0.2222222222222222,
              "#7201a8"
             ],
             [
              0.3333333333333333,
              "#9c179e"
             ],
             [
              0.4444444444444444,
              "#bd3786"
             ],
             [
              0.5555555555555556,
              "#d8576b"
             ],
             [
              0.6666666666666666,
              "#ed7953"
             ],
             [
              0.7777777777777778,
              "#fb9f3a"
             ],
             [
              0.8888888888888888,
              "#fdca26"
             ],
             [
              1,
              "#f0f921"
             ]
            ],
            "type": "histogram2dcontour"
           }
          ],
          "mesh3d": [
           {
            "colorbar": {
             "outlinewidth": 0,
             "ticks": ""
            },
            "type": "mesh3d"
           }
          ],
          "parcoords": [
           {
            "line": {
             "colorbar": {
              "outlinewidth": 0,
              "ticks": ""
             }
            },
            "type": "parcoords"
           }
          ],
          "pie": [
           {
            "automargin": true,
            "type": "pie"
           }
          ],
          "scatter": [
           {
            "fillpattern": {
             "fillmode": "overlay",
             "size": 10,
             "solidity": 0.2
            },
            "type": "scatter"
           }
          ],
          "scatter3d": [
           {
            "line": {
             "colorbar": {
              "outlinewidth": 0,
              "ticks": ""
             }
            },
            "marker": {
             "colorbar": {
              "outlinewidth": 0,
              "ticks": ""
             }
            },
            "type": "scatter3d"
           }
          ],
          "scattercarpet": [
           {
            "marker": {
             "colorbar": {
              "outlinewidth": 0,
              "ticks": ""
             }
            },
            "type": "scattercarpet"
           }
          ],
          "scattergeo": [
           {
            "marker": {
             "colorbar": {
              "outlinewidth": 0,
              "ticks": ""
             }
            },
            "type": "scattergeo"
           }
          ],
          "scattergl": [
           {
            "marker": {
             "colorbar": {
              "outlinewidth": 0,
              "ticks": ""
             }
            },
            "type": "scattergl"
           }
          ],
          "scattermap": [
           {
            "marker": {
             "colorbar": {
              "outlinewidth": 0,
              "ticks": ""
             }
            },
            "type": "scattermap"
           }
          ],
          "scattermapbox": [
           {
            "marker": {
             "colorbar": {
              "outlinewidth": 0,
              "ticks": ""
             }
            },
            "type": "scattermapbox"
           }
          ],
          "scatterpolar": [
           {
            "marker": {
             "colorbar": {
              "outlinewidth": 0,
              "ticks": ""
             }
            },
            "type": "scatterpolar"
           }
          ],
          "scatterpolargl": [
           {
            "marker": {
             "colorbar": {
              "outlinewidth": 0,
              "ticks": ""
             }
            },
            "type": "scatterpolargl"
           }
          ],
          "scatterternary": [
           {
            "marker": {
             "colorbar": {
              "outlinewidth": 0,
              "ticks": ""
             }
            },
            "type": "scatterternary"
           }
          ],
          "surface": [
           {
            "colorbar": {
             "outlinewidth": 0,
             "ticks": ""
            },
            "colorscale": [
             [
              0,
              "#0d0887"
             ],
             [
              0.1111111111111111,
              "#46039f"
             ],
             [
              0.2222222222222222,
              "#7201a8"
             ],
             [
              0.3333333333333333,
              "#9c179e"
             ],
             [
              0.4444444444444444,
              "#bd3786"
             ],
             [
              0.5555555555555556,
              "#d8576b"
             ],
             [
              0.6666666666666666,
              "#ed7953"
             ],
             [
              0.7777777777777778,
              "#fb9f3a"
             ],
             [
              0.8888888888888888,
              "#fdca26"
             ],
             [
              1,
              "#f0f921"
             ]
            ],
            "type": "surface"
           }
          ],
          "table": [
           {
            "cells": {
             "fill": {
              "color": "#EBF0F8"
             },
             "line": {
              "color": "white"
             }
            },
            "header": {
             "fill": {
              "color": "#C8D4E3"
             },
             "line": {
              "color": "white"
             }
            },
            "type": "table"
           }
          ]
         },
         "layout": {
          "annotationdefaults": {
           "arrowcolor": "#2a3f5f",
           "arrowhead": 0,
           "arrowwidth": 1
          },
          "autotypenumbers": "strict",
          "coloraxis": {
           "colorbar": {
            "outlinewidth": 0,
            "ticks": ""
           }
          },
          "colorscale": {
           "diverging": [
            [
             0,
             "#8e0152"
            ],
            [
             0.1,
             "#c51b7d"
            ],
            [
             0.2,
             "#de77ae"
            ],
            [
             0.3,
             "#f1b6da"
            ],
            [
             0.4,
             "#fde0ef"
            ],
            [
             0.5,
             "#f7f7f7"
            ],
            [
             0.6,
             "#e6f5d0"
            ],
            [
             0.7,
             "#b8e186"
            ],
            [
             0.8,
             "#7fbc41"
            ],
            [
             0.9,
             "#4d9221"
            ],
            [
             1,
             "#276419"
            ]
           ],
           "sequential": [
            [
             0,
             "#0d0887"
            ],
            [
             0.1111111111111111,
             "#46039f"
            ],
            [
             0.2222222222222222,
             "#7201a8"
            ],
            [
             0.3333333333333333,
             "#9c179e"
            ],
            [
             0.4444444444444444,
             "#bd3786"
            ],
            [
             0.5555555555555556,
             "#d8576b"
            ],
            [
             0.6666666666666666,
             "#ed7953"
            ],
            [
             0.7777777777777778,
             "#fb9f3a"
            ],
            [
             0.8888888888888888,
             "#fdca26"
            ],
            [
             1,
             "#f0f921"
            ]
           ],
           "sequentialminus": [
            [
             0,
             "#0d0887"
            ],
            [
             0.1111111111111111,
             "#46039f"
            ],
            [
             0.2222222222222222,
             "#7201a8"
            ],
            [
             0.3333333333333333,
             "#9c179e"
            ],
            [
             0.4444444444444444,
             "#bd3786"
            ],
            [
             0.5555555555555556,
             "#d8576b"
            ],
            [
             0.6666666666666666,
             "#ed7953"
            ],
            [
             0.7777777777777778,
             "#fb9f3a"
            ],
            [
             0.8888888888888888,
             "#fdca26"
            ],
            [
             1,
             "#f0f921"
            ]
           ]
          },
          "colorway": [
           "#636efa",
           "#EF553B",
           "#00cc96",
           "#ab63fa",
           "#FFA15A",
           "#19d3f3",
           "#FF6692",
           "#B6E880",
           "#FF97FF",
           "#FECB52"
          ],
          "font": {
           "color": "#2a3f5f"
          },
          "geo": {
           "bgcolor": "white",
           "lakecolor": "white",
           "landcolor": "#E5ECF6",
           "showlakes": true,
           "showland": true,
           "subunitcolor": "white"
          },
          "hoverlabel": {
           "align": "left"
          },
          "hovermode": "closest",
          "mapbox": {
           "style": "light"
          },
          "paper_bgcolor": "white",
          "plot_bgcolor": "#E5ECF6",
          "polar": {
           "angularaxis": {
            "gridcolor": "white",
            "linecolor": "white",
            "ticks": ""
           },
           "bgcolor": "#E5ECF6",
           "radialaxis": {
            "gridcolor": "white",
            "linecolor": "white",
            "ticks": ""
           }
          },
          "scene": {
           "xaxis": {
            "backgroundcolor": "#E5ECF6",
            "gridcolor": "white",
            "gridwidth": 2,
            "linecolor": "white",
            "showbackground": true,
            "ticks": "",
            "zerolinecolor": "white"
           },
           "yaxis": {
            "backgroundcolor": "#E5ECF6",
            "gridcolor": "white",
            "gridwidth": 2,
            "linecolor": "white",
            "showbackground": true,
            "ticks": "",
            "zerolinecolor": "white"
           },
           "zaxis": {
            "backgroundcolor": "#E5ECF6",
            "gridcolor": "white",
            "gridwidth": 2,
            "linecolor": "white",
            "showbackground": true,
            "ticks": "",
            "zerolinecolor": "white"
           }
          },
          "shapedefaults": {
           "line": {
            "color": "#2a3f5f"
           }
          },
          "ternary": {
           "aaxis": {
            "gridcolor": "white",
            "linecolor": "white",
            "ticks": ""
           },
           "baxis": {
            "gridcolor": "white",
            "linecolor": "white",
            "ticks": ""
           },
           "bgcolor": "#E5ECF6",
           "caxis": {
            "gridcolor": "white",
            "linecolor": "white",
            "ticks": ""
           }
          },
          "title": {
           "x": 0.05
          },
          "xaxis": {
           "automargin": true,
           "gridcolor": "white",
           "linecolor": "white",
           "ticks": "",
           "title": {
            "standoff": 15
           },
           "zerolinecolor": "white",
           "zerolinewidth": 2
          },
          "yaxis": {
           "automargin": true,
           "gridcolor": "white",
           "linecolor": "white",
           "ticks": "",
           "title": {
            "standoff": 15
           },
           "zerolinecolor": "white",
           "zerolinewidth": 2
          }
         }
        },
        "title": {
         "text": "Benefit SubType Usage Heatmap by age_group"
        },
        "xaxis": {
         "anchor": "y",
         "domain": [
          0,
          1
         ],
         "title": {
          "text": "Benefit SubType"
         }
        },
        "yaxis": {
         "anchor": "x",
         "autorange": "reversed",
         "domain": [
          0,
          1
         ],
         "title": {
          "text": "age_group"
         }
        }
       }
      }
     },
     "metadata": {},
     "output_type": "display_data"
    },
    {
     "data": {
      "application/vnd.plotly.v1+json": {
       "config": {
        "plotlyServerURL": "https://plot.ly"
       },
       "data": [
        {
         "coloraxis": "coloraxis",
         "hovertemplate": "Benefit SubType: %{x}<br>Gender: %{y}<br>Avg UsageFrequency: %{z}<extra></extra>",
         "name": "0",
         "type": "heatmap",
         "x": [
          "401k Basic Matching",
          "401k Catch-Up Contributions",
          "401k High Contribution",
          "401k Investment Fees",
          "401k Maximum Matching",
          "401k Standard Matching",
          "After-School Care",
          "Basic Coverage",
          "Conference Attendance",
          "Dependent Coverage",
          "Family Membership",
          "Graduate Degree",
          "HDHP Individual",
          "HMO Family",
          "Healthcare FSA",
          "Individual Courses",
          "Monthly Communications",
          "Monthly Internet Allowance",
          "On-Site Infant Care",
          "PPO Family",
          "PPO Individual",
          "Premium Discount Tier 1",
          "Professional Certification",
          "Supplemental High Amount",
          "Supplemental Standard",
          "Tier 1 Partners",
          "Tier 2 Partners",
          "Tier 3 Partners",
          "Transit Subsidy",
          "Undergraduate Degree"
         ],
         "xaxis": "x",
         "y": [
          "Female",
          "Male",
          "Non-Binary"
         ],
         "yaxis": "y",
         "z": {
          "bdata": "PYQeQg+hD0A83ZofFikHQJxxLRLUVBBAXOnegDJxDUBGF1100UUKQGpXonYlagdAflikDDzdBkAO4RAO4RAKQJaoXYnalQxA2eeQmmC8DUB5FYlXkXgNQBxQJq50bwhAJUmSJEmSBUByy7hl3DIOQF9ZvUseDAhATTDeyj6HDEAzMzMzMzMLQJwBoeRO0QpA4XoUrkfhBkC3bdu2bdsKQKO+s1Hf2QhAX/e6173uCUCpJ+O3Sz0FQDugG/P00QpAhMxLieCRDkAN0iAN0iAJQKmIpSKWighA8MnhMuCTC0Czpqwpa8oKQHo7Q2LezghAYsSIESNGDEBR6ciegagMQMSm0pBznw1AW2dfRLXODkBDsI4271MQQGqapmmapglAYMUJKXmWCUDe3d3d3d0NQGvKmrKmrAtAmOjvZLW8CUBhinzWDaYIQE5vetOb3ghAQ3kN5TWUCUD5CXFWfkIMQAz6gr6gLwxAvLu7u7u7CUDLli1btmwNQA3lNZTXUA5AV6J2JWpXBkDaLfxqTKQLQJ7YiZ3YiQlA+gvoL6C/CEA7jDIVzzULQMln3WCKfApAdWt+WKQMDEDCKc2LP5EIQCVqV6J2JQxAE47q7/M2CUCSAfVM5boLQGJyBTG5ggxAAAAAAAAAFEAAAAAAAAAAQAAAAAAAABhAAAAAAAAABEBmZmZmZmYSQG7btm3btglAxU7sxE7sBEDHcRzHcRwPQKuqqqqqqvo/AAAAAAAABECO4ziO4zj+P6uqqqqqqiBAAAAAAAAAIUCrqqqqqqoGQJqZmZmZmRFAAAAAAAAAEEAAAAAAAAAMQJIkSZIkSQJAAAAAAAAA8D8AAAAAAADoP83MzMzMzAxAAAAAAAAA+D/NzMzMzMwEQAAAAAAAABVAq6qqqqqqBkAAAAAAAAAUQNFFF1100fU/zczMzMzMEEAzMzMzMzPzPxdddNFFFwVA",
          "dtype": "f8",
          "shape": "3, 30"
         }
        }
       ],
       "layout": {
        "coloraxis": {
         "colorbar": {
          "title": {
           "text": "Avg UsageFrequency"
          }
         },
         "colorscale": [
          [
           0,
           "#0d0887"
          ],
          [
           0.1111111111111111,
           "#46039f"
          ],
          [
           0.2222222222222222,
           "#7201a8"
          ],
          [
           0.3333333333333333,
           "#9c179e"
          ],
          [
           0.4444444444444444,
           "#bd3786"
          ],
          [
           0.5555555555555556,
           "#d8576b"
          ],
          [
           0.6666666666666666,
           "#ed7953"
          ],
          [
           0.7777777777777778,
           "#fb9f3a"
          ],
          [
           0.8888888888888888,
           "#fdca26"
          ],
          [
           1,
           "#f0f921"
          ]
         ]
        },
        "template": {
         "data": {
          "bar": [
           {
            "error_x": {
             "color": "#2a3f5f"
            },
            "error_y": {
             "color": "#2a3f5f"
            },
            "marker": {
             "line": {
              "color": "#E5ECF6",
              "width": 0.5
             },
             "pattern": {
              "fillmode": "overlay",
              "size": 10,
              "solidity": 0.2
             }
            },
            "type": "bar"
           }
          ],
          "barpolar": [
           {
            "marker": {
             "line": {
              "color": "#E5ECF6",
              "width": 0.5
             },
             "pattern": {
              "fillmode": "overlay",
              "size": 10,
              "solidity": 0.2
             }
            },
            "type": "barpolar"
           }
          ],
          "carpet": [
           {
            "aaxis": {
             "endlinecolor": "#2a3f5f",
             "gridcolor": "white",
             "linecolor": "white",
             "minorgridcolor": "white",
             "startlinecolor": "#2a3f5f"
            },
            "baxis": {
             "endlinecolor": "#2a3f5f",
             "gridcolor": "white",
             "linecolor": "white",
             "minorgridcolor": "white",
             "startlinecolor": "#2a3f5f"
            },
            "type": "carpet"
           }
          ],
          "choropleth": [
           {
            "colorbar": {
             "outlinewidth": 0,
             "ticks": ""
            },
            "type": "choropleth"
           }
          ],
          "contour": [
           {
            "colorbar": {
             "outlinewidth": 0,
             "ticks": ""
            },
            "colorscale": [
             [
              0,
              "#0d0887"
             ],
             [
              0.1111111111111111,
              "#46039f"
             ],
             [
              0.2222222222222222,
              "#7201a8"
             ],
             [
              0.3333333333333333,
              "#9c179e"
             ],
             [
              0.4444444444444444,
              "#bd3786"
             ],
             [
              0.5555555555555556,
              "#d8576b"
             ],
             [
              0.6666666666666666,
              "#ed7953"
             ],
             [
              0.7777777777777778,
              "#fb9f3a"
             ],
             [
              0.8888888888888888,
              "#fdca26"
             ],
             [
              1,
              "#f0f921"
             ]
            ],
            "type": "contour"
           }
          ],
          "contourcarpet": [
           {
            "colorbar": {
             "outlinewidth": 0,
             "ticks": ""
            },
            "type": "contourcarpet"
           }
          ],
          "heatmap": [
           {
            "colorbar": {
             "outlinewidth": 0,
             "ticks": ""
            },
            "colorscale": [
             [
              0,
              "#0d0887"
             ],
             [
              0.1111111111111111,
              "#46039f"
             ],
             [
              0.2222222222222222,
              "#7201a8"
             ],
             [
              0.3333333333333333,
              "#9c179e"
             ],
             [
              0.4444444444444444,
              "#bd3786"
             ],
             [
              0.5555555555555556,
              "#d8576b"
             ],
             [
              0.6666666666666666,
              "#ed7953"
             ],
             [
              0.7777777777777778,
              "#fb9f3a"
             ],
             [
              0.8888888888888888,
              "#fdca26"
             ],
             [
              1,
              "#f0f921"
             ]
            ],
            "type": "heatmap"
           }
          ],
          "histogram": [
           {
            "marker": {
             "pattern": {
              "fillmode": "overlay",
              "size": 10,
              "solidity": 0.2
             }
            },
            "type": "histogram"
           }
          ],
          "histogram2d": [
           {
            "colorbar": {
             "outlinewidth": 0,
             "ticks": ""
            },
            "colorscale": [
             [
              0,
              "#0d0887"
             ],
             [
              0.1111111111111111,
              "#46039f"
             ],
             [
              0.2222222222222222,
              "#7201a8"
             ],
             [
              0.3333333333333333,
              "#9c179e"
             ],
             [
              0.4444444444444444,
              "#bd3786"
             ],
             [
              0.5555555555555556,
              "#d8576b"
             ],
             [
              0.6666666666666666,
              "#ed7953"
             ],
             [
              0.7777777777777778,
              "#fb9f3a"
             ],
             [
              0.8888888888888888,
              "#fdca26"
             ],
             [
              1,
              "#f0f921"
             ]
            ],
            "type": "histogram2d"
           }
          ],
          "histogram2dcontour": [
           {
            "colorbar": {
             "outlinewidth": 0,
             "ticks": ""
            },
            "colorscale": [
             [
              0,
              "#0d0887"
             ],
             [
              0.1111111111111111,
              "#46039f"
             ],
             [
              0.2222222222222222,
              "#7201a8"
             ],
             [
              0.3333333333333333,
              "#9c179e"
             ],
             [
              0.4444444444444444,
              "#bd3786"
             ],
             [
              0.5555555555555556,
              "#d8576b"
             ],
             [
              0.6666666666666666,
              "#ed7953"
             ],
             [
              0.7777777777777778,
              "#fb9f3a"
             ],
             [
              0.8888888888888888,
              "#fdca26"
             ],
             [
              1,
              "#f0f921"
             ]
            ],
            "type": "histogram2dcontour"
           }
          ],
          "mesh3d": [
           {
            "colorbar": {
             "outlinewidth": 0,
             "ticks": ""
            },
            "type": "mesh3d"
           }
          ],
          "parcoords": [
           {
            "line": {
             "colorbar": {
              "outlinewidth": 0,
              "ticks": ""
             }
            },
            "type": "parcoords"
           }
          ],
          "pie": [
           {
            "automargin": true,
            "type": "pie"
           }
          ],
          "scatter": [
           {
            "fillpattern": {
             "fillmode": "overlay",
             "size": 10,
             "solidity": 0.2
            },
            "type": "scatter"
           }
          ],
          "scatter3d": [
           {
            "line": {
             "colorbar": {
              "outlinewidth": 0,
              "ticks": ""
             }
            },
            "marker": {
             "colorbar": {
              "outlinewidth": 0,
              "ticks": ""
             }
            },
            "type": "scatter3d"
           }
          ],
          "scattercarpet": [
           {
            "marker": {
             "colorbar": {
              "outlinewidth": 0,
              "ticks": ""
             }
            },
            "type": "scattercarpet"
           }
          ],
          "scattergeo": [
           {
            "marker": {
             "colorbar": {
              "outlinewidth": 0,
              "ticks": ""
             }
            },
            "type": "scattergeo"
           }
          ],
          "scattergl": [
           {
            "marker": {
             "colorbar": {
              "outlinewidth": 0,
              "ticks": ""
             }
            },
            "type": "scattergl"
           }
          ],
          "scattermap": [
           {
            "marker": {
             "colorbar": {
              "outlinewidth": 0,
              "ticks": ""
             }
            },
            "type": "scattermap"
           }
          ],
          "scattermapbox": [
           {
            "marker": {
             "colorbar": {
              "outlinewidth": 0,
              "ticks": ""
             }
            },
            "type": "scattermapbox"
           }
          ],
          "scatterpolar": [
           {
            "marker": {
             "colorbar": {
              "outlinewidth": 0,
              "ticks": ""
             }
            },
            "type": "scatterpolar"
           }
          ],
          "scatterpolargl": [
           {
            "marker": {
             "colorbar": {
              "outlinewidth": 0,
              "ticks": ""
             }
            },
            "type": "scatterpolargl"
           }
          ],
          "scatterternary": [
           {
            "marker": {
             "colorbar": {
              "outlinewidth": 0,
              "ticks": ""
             }
            },
            "type": "scatterternary"
           }
          ],
          "surface": [
           {
            "colorbar": {
             "outlinewidth": 0,
             "ticks": ""
            },
            "colorscale": [
             [
              0,
              "#0d0887"
             ],
             [
              0.1111111111111111,
              "#46039f"
             ],
             [
              0.2222222222222222,
              "#7201a8"
             ],
             [
              0.3333333333333333,
              "#9c179e"
             ],
             [
              0.4444444444444444,
              "#bd3786"
             ],
             [
              0.5555555555555556,
              "#d8576b"
             ],
             [
              0.6666666666666666,
              "#ed7953"
             ],
             [
              0.7777777777777778,
              "#fb9f3a"
             ],
             [
              0.8888888888888888,
              "#fdca26"
             ],
             [
              1,
              "#f0f921"
             ]
            ],
            "type": "surface"
           }
          ],
          "table": [
           {
            "cells": {
             "fill": {
              "color": "#EBF0F8"
             },
             "line": {
              "color": "white"
             }
            },
            "header": {
             "fill": {
              "color": "#C8D4E3"
             },
             "line": {
              "color": "white"
             }
            },
            "type": "table"
           }
          ]
         },
         "layout": {
          "annotationdefaults": {
           "arrowcolor": "#2a3f5f",
           "arrowhead": 0,
           "arrowwidth": 1
          },
          "autotypenumbers": "strict",
          "coloraxis": {
           "colorbar": {
            "outlinewidth": 0,
            "ticks": ""
           }
          },
          "colorscale": {
           "diverging": [
            [
             0,
             "#8e0152"
            ],
            [
             0.1,
             "#c51b7d"
            ],
            [
             0.2,
             "#de77ae"
            ],
            [
             0.3,
             "#f1b6da"
            ],
            [
             0.4,
             "#fde0ef"
            ],
            [
             0.5,
             "#f7f7f7"
            ],
            [
             0.6,
             "#e6f5d0"
            ],
            [
             0.7,
             "#b8e186"
            ],
            [
             0.8,
             "#7fbc41"
            ],
            [
             0.9,
             "#4d9221"
            ],
            [
             1,
             "#276419"
            ]
           ],
           "sequential": [
            [
             0,
             "#0d0887"
            ],
            [
             0.1111111111111111,
             "#46039f"
            ],
            [
             0.2222222222222222,
             "#7201a8"
            ],
            [
             0.3333333333333333,
             "#9c179e"
            ],
            [
             0.4444444444444444,
             "#bd3786"
            ],
            [
             0.5555555555555556,
             "#d8576b"
            ],
            [
             0.6666666666666666,
             "#ed7953"
            ],
            [
             0.7777777777777778,
             "#fb9f3a"
            ],
            [
             0.8888888888888888,
             "#fdca26"
            ],
            [
             1,
             "#f0f921"
            ]
           ],
           "sequentialminus": [
            [
             0,
             "#0d0887"
            ],
            [
             0.1111111111111111,
             "#46039f"
            ],
            [
             0.2222222222222222,
             "#7201a8"
            ],
            [
             0.3333333333333333,
             "#9c179e"
            ],
            [
             0.4444444444444444,
             "#bd3786"
            ],
            [
             0.5555555555555556,
             "#d8576b"
            ],
            [
             0.6666666666666666,
             "#ed7953"
            ],
            [
             0.7777777777777778,
             "#fb9f3a"
            ],
            [
             0.8888888888888888,
             "#fdca26"
            ],
            [
             1,
             "#f0f921"
            ]
           ]
          },
          "colorway": [
           "#636efa",
           "#EF553B",
           "#00cc96",
           "#ab63fa",
           "#FFA15A",
           "#19d3f3",
           "#FF6692",
           "#B6E880",
           "#FF97FF",
           "#FECB52"
          ],
          "font": {
           "color": "#2a3f5f"
          },
          "geo": {
           "bgcolor": "white",
           "lakecolor": "white",
           "landcolor": "#E5ECF6",
           "showlakes": true,
           "showland": true,
           "subunitcolor": "white"
          },
          "hoverlabel": {
           "align": "left"
          },
          "hovermode": "closest",
          "mapbox": {
           "style": "light"
          },
          "paper_bgcolor": "white",
          "plot_bgcolor": "#E5ECF6",
          "polar": {
           "angularaxis": {
            "gridcolor": "white",
            "linecolor": "white",
            "ticks": ""
           },
           "bgcolor": "#E5ECF6",
           "radialaxis": {
            "gridcolor": "white",
            "linecolor": "white",
            "ticks": ""
           }
          },
          "scene": {
           "xaxis": {
            "backgroundcolor": "#E5ECF6",
            "gridcolor": "white",
            "gridwidth": 2,
            "linecolor": "white",
            "showbackground": true,
            "ticks": "",
            "zerolinecolor": "white"
           },
           "yaxis": {
            "backgroundcolor": "#E5ECF6",
            "gridcolor": "white",
            "gridwidth": 2,
            "linecolor": "white",
            "showbackground": true,
            "ticks": "",
            "zerolinecolor": "white"
           },
           "zaxis": {
            "backgroundcolor": "#E5ECF6",
            "gridcolor": "white",
            "gridwidth": 2,
            "linecolor": "white",
            "showbackground": true,
            "ticks": "",
            "zerolinecolor": "white"
           }
          },
          "shapedefaults": {
           "line": {
            "color": "#2a3f5f"
           }
          },
          "ternary": {
           "aaxis": {
            "gridcolor": "white",
            "linecolor": "white",
            "ticks": ""
           },
           "baxis": {
            "gridcolor": "white",
            "linecolor": "white",
            "ticks": ""
           },
           "bgcolor": "#E5ECF6",
           "caxis": {
            "gridcolor": "white",
            "linecolor": "white",
            "ticks": ""
           }
          },
          "title": {
           "x": 0.05
          },
          "xaxis": {
           "automargin": true,
           "gridcolor": "white",
           "linecolor": "white",
           "ticks": "",
           "title": {
            "standoff": 15
           },
           "zerolinecolor": "white",
           "zerolinewidth": 2
          },
          "yaxis": {
           "automargin": true,
           "gridcolor": "white",
           "linecolor": "white",
           "ticks": "",
           "title": {
            "standoff": 15
           },
           "zerolinecolor": "white",
           "zerolinewidth": 2
          }
         }
        },
        "title": {
         "text": "Benefit SubType Usage Heatmap by Gender"
        },
        "xaxis": {
         "anchor": "y",
         "domain": [
          0,
          1
         ],
         "title": {
          "text": "Benefit SubType"
         }
        },
        "yaxis": {
         "anchor": "x",
         "autorange": "reversed",
         "domain": [
          0,
          1
         ],
         "title": {
          "text": "Gender"
         }
        }
       }
      }
     },
     "metadata": {},
     "output_type": "display_data"
    },
    {
     "data": {
      "application/vnd.plotly.v1+json": {
       "config": {
        "plotlyServerURL": "https://plot.ly"
       },
       "data": [
        {
         "coloraxis": "coloraxis",
         "hovertemplate": "Benefit SubType: %{x}<br>Department: %{y}<br>Avg UsageFrequency: %{z}<extra></extra>",
         "name": "0",
         "type": "heatmap",
         "x": [
          "401k Basic Matching",
          "401k Catch-Up Contributions",
          "401k High Contribution",
          "401k Investment Fees",
          "401k Maximum Matching",
          "401k Standard Matching",
          "After-School Care",
          "Basic Coverage",
          "Conference Attendance",
          "Dependent Coverage",
          "Family Membership",
          "Graduate Degree",
          "HDHP Individual",
          "HMO Family",
          "Healthcare FSA",
          "Individual Courses",
          "Monthly Communications",
          "Monthly Internet Allowance",
          "On-Site Infant Care",
          "PPO Family",
          "PPO Individual",
          "Premium Discount Tier 1",
          "Professional Certification",
          "Supplemental High Amount",
          "Supplemental Standard",
          "Tier 1 Partners",
          "Tier 2 Partners",
          "Tier 3 Partners",
          "Transit Subsidy",
          "Undergraduate Degree"
         ],
         "xaxis": "x",
         "y": [
          "Finance",
          "HR",
          "IT",
          "Marketing",
          "Sales"
         ],
         "yaxis": "y",
         "z": {
          "bdata": "LvxqTKQHCkBMPRm/XeoJQH/0ox/96A9A+awbTJHPDkDBeCv7HFILQFPks24wRQpAF1100UUXBUBMaC+hvYQGQKuqqqqqqgpAtHmf4pIhEEAAAAAAAAAMQF/ohV7ohQZAAAAAAAAACEDW0eZ9iksOQHkN5TWU1wpAPRm/XerJCEB7FK5H4XoQQJafEGflJwxAJchTgjwlCEBY7mmE5Z4KQGIndmIndgpA7RZ+NSbSA0DhPoL7CO4LQORGbuRGbhBA77333nvvCUA9UDm7hV8FQNmJndiJnQhApqWlpaWlCUB02kCnDXQKQODV4ibM7wpAb3rTm970EECKndiJndgJQH0MzsfgfBBAtG4wRT7rBkCivIbyGsoLQPHw8PDw8AZAnud5nud5DkDwwQcffPAJQJqZmZmZmQpA6k1vetObBkCamZmZmZkNQPvORn1now5AoS/oC/qCDkAXXXTRRRcNQFFeQ3kN5QlAVM5u4VdjCkBVVVVVVVUFQAAAAAAAABBAg76gL+gLCkAAAAAAAAAKQIwuuuiiiwRAOY7jOI7jCEAfGutDY30IQFlT1pQ1ZQ1At23btm3bEUBP7MRO7MQKQDw8PDw8PARAo4suuuiiEUDsUbgehesNQFlT1pQ1ZQ1AqZVaqZVaEUCH8hrKaygJQC+66KKLLg1A6IVe6IVeEEDHcRzHcRwJQM3MzMzMzAZAq6qqqqpqCUChDuqgDuoQQKuqqqqqqg5ADMMwDMMwDEA4cODAgQMHQBdddNFFFwlAMzMzMzOzCEDjJszvanELQJOVrGQlKwlAhfldLW7CDEA22WSTTTYNQHh4eHh4eAxAuDMk5u0MCUAXN2F+V4sLQOqgDuqgDgpAt23btm3bDEBcMgTraPMGQHIcx3EcxwZAJStZyUpWCkBiJ3ZiJ3YOQH0MzsfgfAxAUPqkT/qkB0DtJbSX0F4KQNpPlsCm/QxAxU7sxE7sDkAeHh4eHh4IQHepJ+O3Sw1AfjUm0gOVC0BBEARBEAQRQA/MtQNz7QhAVVVVVVVVBUDFzyjxM0oMQMdxHMdxHAlAF341JtIDDUC0W/jVmEgHQBolfkaJnwlACe0ltJfQBkAaYbmnEZYLQDMzMzMzMw1A2rxPcckQDEDT0tLS0tIMQDeYIp91gw1AQRAEQRAEAUAN5TWU11AGQKOLLrroogtAymsor6G8CED5xZJfLPkFQE/sxE7sxApAdoMp8lk3EEAAAAAAAOAHQNq8T3HJEAxAEWflJ8RZCUDks24wRT4HQEYXXXTRRQZAO6iDOqiDCkAq8lk3mCILQL733nvvvRFA4MCBAwcOEEDEWfkJcVYOQA3lNZTXUApA4uHh4eHhBUChQoUKFSoMQEyRz7rBFA1AZmZmZmbmCEA6baDTBjoNQEdu5EZu5AZAlxUDJbzRBEAaYbmnEZYPQOh5nud5ngdAIzdyIzdyC0DLPY2w3NMMQN7d3d3d3QdAIyz3NMJyA0AAAAAAAAAQQOtDY31orAdAAAAAAADACEAIIYQQQggJQMhWBA0ndQdARhdddNFFC0BXaqVWaqUGQLycgpdT8ApA45IhWEebB0CrqqqqqqoOQJ7YiZ3YiQlA",
          "dtype": "f8",
          "shape": "5, 30"
         }
        }
       ],
       "layout": {
        "coloraxis": {
         "colorbar": {
          "title": {
           "text": "Avg UsageFrequency"
          }
         },
         "colorscale": [
          [
           0,
           "#0d0887"
          ],
          [
           0.1111111111111111,
           "#46039f"
          ],
          [
           0.2222222222222222,
           "#7201a8"
          ],
          [
           0.3333333333333333,
           "#9c179e"
          ],
          [
           0.4444444444444444,
           "#bd3786"
          ],
          [
           0.5555555555555556,
           "#d8576b"
          ],
          [
           0.6666666666666666,
           "#ed7953"
          ],
          [
           0.7777777777777778,
           "#fb9f3a"
          ],
          [
           0.8888888888888888,
           "#fdca26"
          ],
          [
           1,
           "#f0f921"
          ]
         ]
        },
        "template": {
         "data": {
          "bar": [
           {
            "error_x": {
             "color": "#2a3f5f"
            },
            "error_y": {
             "color": "#2a3f5f"
            },
            "marker": {
             "line": {
              "color": "#E5ECF6",
              "width": 0.5
             },
             "pattern": {
              "fillmode": "overlay",
              "size": 10,
              "solidity": 0.2
             }
            },
            "type": "bar"
           }
          ],
          "barpolar": [
           {
            "marker": {
             "line": {
              "color": "#E5ECF6",
              "width": 0.5
             },
             "pattern": {
              "fillmode": "overlay",
              "size": 10,
              "solidity": 0.2
             }
            },
            "type": "barpolar"
           }
          ],
          "carpet": [
           {
            "aaxis": {
             "endlinecolor": "#2a3f5f",
             "gridcolor": "white",
             "linecolor": "white",
             "minorgridcolor": "white",
             "startlinecolor": "#2a3f5f"
            },
            "baxis": {
             "endlinecolor": "#2a3f5f",
             "gridcolor": "white",
             "linecolor": "white",
             "minorgridcolor": "white",
             "startlinecolor": "#2a3f5f"
            },
            "type": "carpet"
           }
          ],
          "choropleth": [
           {
            "colorbar": {
             "outlinewidth": 0,
             "ticks": ""
            },
            "type": "choropleth"
           }
          ],
          "contour": [
           {
            "colorbar": {
             "outlinewidth": 0,
             "ticks": ""
            },
            "colorscale": [
             [
              0,
              "#0d0887"
             ],
             [
              0.1111111111111111,
              "#46039f"
             ],
             [
              0.2222222222222222,
              "#7201a8"
             ],
             [
              0.3333333333333333,
              "#9c179e"
             ],
             [
              0.4444444444444444,
              "#bd3786"
             ],
             [
              0.5555555555555556,
              "#d8576b"
             ],
             [
              0.6666666666666666,
              "#ed7953"
             ],
             [
              0.7777777777777778,
              "#fb9f3a"
             ],
             [
              0.8888888888888888,
              "#fdca26"
             ],
             [
              1,
              "#f0f921"
             ]
            ],
            "type": "contour"
           }
          ],
          "contourcarpet": [
           {
            "colorbar": {
             "outlinewidth": 0,
             "ticks": ""
            },
            "type": "contourcarpet"
           }
          ],
          "heatmap": [
           {
            "colorbar": {
             "outlinewidth": 0,
             "ticks": ""
            },
            "colorscale": [
             [
              0,
              "#0d0887"
             ],
             [
              0.1111111111111111,
              "#46039f"
             ],
             [
              0.2222222222222222,
              "#7201a8"
             ],
             [
              0.3333333333333333,
              "#9c179e"
             ],
             [
              0.4444444444444444,
              "#bd3786"
             ],
             [
              0.5555555555555556,
              "#d8576b"
             ],
             [
              0.6666666666666666,
              "#ed7953"
             ],
             [
              0.7777777777777778,
              "#fb9f3a"
             ],
             [
              0.8888888888888888,
              "#fdca26"
             ],
             [
              1,
              "#f0f921"
             ]
            ],
            "type": "heatmap"
           }
          ],
          "histogram": [
           {
            "marker": {
             "pattern": {
              "fillmode": "overlay",
              "size": 10,
              "solidity": 0.2
             }
            },
            "type": "histogram"
           }
          ],
          "histogram2d": [
           {
            "colorbar": {
             "outlinewidth": 0,
             "ticks": ""
            },
            "colorscale": [
             [
              0,
              "#0d0887"
             ],
             [
              0.1111111111111111,
              "#46039f"
             ],
             [
              0.2222222222222222,
              "#7201a8"
             ],
             [
              0.3333333333333333,
              "#9c179e"
             ],
             [
              0.4444444444444444,
              "#bd3786"
             ],
             [
              0.5555555555555556,
              "#d8576b"
             ],
             [
              0.6666666666666666,
              "#ed7953"
             ],
             [
              0.7777777777777778,
              "#fb9f3a"
             ],
             [
              0.8888888888888888,
              "#fdca26"
             ],
             [
              1,
              "#f0f921"
             ]
            ],
            "type": "histogram2d"
           }
          ],
          "histogram2dcontour": [
           {
            "colorbar": {
             "outlinewidth": 0,
             "ticks": ""
            },
            "colorscale": [
             [
              0,
              "#0d0887"
             ],
             [
              0.1111111111111111,
              "#46039f"
             ],
             [
              0.2222222222222222,
              "#7201a8"
             ],
             [
              0.3333333333333333,
              "#9c179e"
             ],
             [
              0.4444444444444444,
              "#bd3786"
             ],
             [
              0.5555555555555556,
              "#d8576b"
             ],
             [
              0.6666666666666666,
              "#ed7953"
             ],
             [
              0.7777777777777778,
              "#fb9f3a"
             ],
             [
              0.8888888888888888,
              "#fdca26"
             ],
             [
              1,
              "#f0f921"
             ]
            ],
            "type": "histogram2dcontour"
           }
          ],
          "mesh3d": [
           {
            "colorbar": {
             "outlinewidth": 0,
             "ticks": ""
            },
            "type": "mesh3d"
           }
          ],
          "parcoords": [
           {
            "line": {
             "colorbar": {
              "outlinewidth": 0,
              "ticks": ""
             }
            },
            "type": "parcoords"
           }
          ],
          "pie": [
           {
            "automargin": true,
            "type": "pie"
           }
          ],
          "scatter": [
           {
            "fillpattern": {
             "fillmode": "overlay",
             "size": 10,
             "solidity": 0.2
            },
            "type": "scatter"
           }
          ],
          "scatter3d": [
           {
            "line": {
             "colorbar": {
              "outlinewidth": 0,
              "ticks": ""
             }
            },
            "marker": {
             "colorbar": {
              "outlinewidth": 0,
              "ticks": ""
             }
            },
            "type": "scatter3d"
           }
          ],
          "scattercarpet": [
           {
            "marker": {
             "colorbar": {
              "outlinewidth": 0,
              "ticks": ""
             }
            },
            "type": "scattercarpet"
           }
          ],
          "scattergeo": [
           {
            "marker": {
             "colorbar": {
              "outlinewidth": 0,
              "ticks": ""
             }
            },
            "type": "scattergeo"
           }
          ],
          "scattergl": [
           {
            "marker": {
             "colorbar": {
              "outlinewidth": 0,
              "ticks": ""
             }
            },
            "type": "scattergl"
           }
          ],
          "scattermap": [
           {
            "marker": {
             "colorbar": {
              "outlinewidth": 0,
              "ticks": ""
             }
            },
            "type": "scattermap"
           }
          ],
          "scattermapbox": [
           {
            "marker": {
             "colorbar": {
              "outlinewidth": 0,
              "ticks": ""
             }
            },
            "type": "scattermapbox"
           }
          ],
          "scatterpolar": [
           {
            "marker": {
             "colorbar": {
              "outlinewidth": 0,
              "ticks": ""
             }
            },
            "type": "scatterpolar"
           }
          ],
          "scatterpolargl": [
           {
            "marker": {
             "colorbar": {
              "outlinewidth": 0,
              "ticks": ""
             }
            },
            "type": "scatterpolargl"
           }
          ],
          "scatterternary": [
           {
            "marker": {
             "colorbar": {
              "outlinewidth": 0,
              "ticks": ""
             }
            },
            "type": "scatterternary"
           }
          ],
          "surface": [
           {
            "colorbar": {
             "outlinewidth": 0,
             "ticks": ""
            },
            "colorscale": [
             [
              0,
              "#0d0887"
             ],
             [
              0.1111111111111111,
              "#46039f"
             ],
             [
              0.2222222222222222,
              "#7201a8"
             ],
             [
              0.3333333333333333,
              "#9c179e"
             ],
             [
              0.4444444444444444,
              "#bd3786"
             ],
             [
              0.5555555555555556,
              "#d8576b"
             ],
             [
              0.6666666666666666,
              "#ed7953"
             ],
             [
              0.7777777777777778,
              "#fb9f3a"
             ],
             [
              0.8888888888888888,
              "#fdca26"
             ],
             [
              1,
              "#f0f921"
             ]
            ],
            "type": "surface"
           }
          ],
          "table": [
           {
            "cells": {
             "fill": {
              "color": "#EBF0F8"
             },
             "line": {
              "color": "white"
             }
            },
            "header": {
             "fill": {
              "color": "#C8D4E3"
             },
             "line": {
              "color": "white"
             }
            },
            "type": "table"
           }
          ]
         },
         "layout": {
          "annotationdefaults": {
           "arrowcolor": "#2a3f5f",
           "arrowhead": 0,
           "arrowwidth": 1
          },
          "autotypenumbers": "strict",
          "coloraxis": {
           "colorbar": {
            "outlinewidth": 0,
            "ticks": ""
           }
          },
          "colorscale": {
           "diverging": [
            [
             0,
             "#8e0152"
            ],
            [
             0.1,
             "#c51b7d"
            ],
            [
             0.2,
             "#de77ae"
            ],
            [
             0.3,
             "#f1b6da"
            ],
            [
             0.4,
             "#fde0ef"
            ],
            [
             0.5,
             "#f7f7f7"
            ],
            [
             0.6,
             "#e6f5d0"
            ],
            [
             0.7,
             "#b8e186"
            ],
            [
             0.8,
             "#7fbc41"
            ],
            [
             0.9,
             "#4d9221"
            ],
            [
             1,
             "#276419"
            ]
           ],
           "sequential": [
            [
             0,
             "#0d0887"
            ],
            [
             0.1111111111111111,
             "#46039f"
            ],
            [
             0.2222222222222222,
             "#7201a8"
            ],
            [
             0.3333333333333333,
             "#9c179e"
            ],
            [
             0.4444444444444444,
             "#bd3786"
            ],
            [
             0.5555555555555556,
             "#d8576b"
            ],
            [
             0.6666666666666666,
             "#ed7953"
            ],
            [
             0.7777777777777778,
             "#fb9f3a"
            ],
            [
             0.8888888888888888,
             "#fdca26"
            ],
            [
             1,
             "#f0f921"
            ]
           ],
           "sequentialminus": [
            [
             0,
             "#0d0887"
            ],
            [
             0.1111111111111111,
             "#46039f"
            ],
            [
             0.2222222222222222,
             "#7201a8"
            ],
            [
             0.3333333333333333,
             "#9c179e"
            ],
            [
             0.4444444444444444,
             "#bd3786"
            ],
            [
             0.5555555555555556,
             "#d8576b"
            ],
            [
             0.6666666666666666,
             "#ed7953"
            ],
            [
             0.7777777777777778,
             "#fb9f3a"
            ],
            [
             0.8888888888888888,
             "#fdca26"
            ],
            [
             1,
             "#f0f921"
            ]
           ]
          },
          "colorway": [
           "#636efa",
           "#EF553B",
           "#00cc96",
           "#ab63fa",
           "#FFA15A",
           "#19d3f3",
           "#FF6692",
           "#B6E880",
           "#FF97FF",
           "#FECB52"
          ],
          "font": {
           "color": "#2a3f5f"
          },
          "geo": {
           "bgcolor": "white",
           "lakecolor": "white",
           "landcolor": "#E5ECF6",
           "showlakes": true,
           "showland": true,
           "subunitcolor": "white"
          },
          "hoverlabel": {
           "align": "left"
          },
          "hovermode": "closest",
          "mapbox": {
           "style": "light"
          },
          "paper_bgcolor": "white",
          "plot_bgcolor": "#E5ECF6",
          "polar": {
           "angularaxis": {
            "gridcolor": "white",
            "linecolor": "white",
            "ticks": ""
           },
           "bgcolor": "#E5ECF6",
           "radialaxis": {
            "gridcolor": "white",
            "linecolor": "white",
            "ticks": ""
           }
          },
          "scene": {
           "xaxis": {
            "backgroundcolor": "#E5ECF6",
            "gridcolor": "white",
            "gridwidth": 2,
            "linecolor": "white",
            "showbackground": true,
            "ticks": "",
            "zerolinecolor": "white"
           },
           "yaxis": {
            "backgroundcolor": "#E5ECF6",
            "gridcolor": "white",
            "gridwidth": 2,
            "linecolor": "white",
            "showbackground": true,
            "ticks": "",
            "zerolinecolor": "white"
           },
           "zaxis": {
            "backgroundcolor": "#E5ECF6",
            "gridcolor": "white",
            "gridwidth": 2,
            "linecolor": "white",
            "showbackground": true,
            "ticks": "",
            "zerolinecolor": "white"
           }
          },
          "shapedefaults": {
           "line": {
            "color": "#2a3f5f"
           }
          },
          "ternary": {
           "aaxis": {
            "gridcolor": "white",
            "linecolor": "white",
            "ticks": ""
           },
           "baxis": {
            "gridcolor": "white",
            "linecolor": "white",
            "ticks": ""
           },
           "bgcolor": "#E5ECF6",
           "caxis": {
            "gridcolor": "white",
            "linecolor": "white",
            "ticks": ""
           }
          },
          "title": {
           "x": 0.05
          },
          "xaxis": {
           "automargin": true,
           "gridcolor": "white",
           "linecolor": "white",
           "ticks": "",
           "title": {
            "standoff": 15
           },
           "zerolinecolor": "white",
           "zerolinewidth": 2
          },
          "yaxis": {
           "automargin": true,
           "gridcolor": "white",
           "linecolor": "white",
           "ticks": "",
           "title": {
            "standoff": 15
           },
           "zerolinecolor": "white",
           "zerolinewidth": 2
          }
         }
        },
        "title": {
         "text": "Benefit SubType Usage Heatmap by Department"
        },
        "xaxis": {
         "anchor": "y",
         "domain": [
          0,
          1
         ],
         "title": {
          "text": "Benefit SubType"
         }
        },
        "yaxis": {
         "anchor": "x",
         "autorange": "reversed",
         "domain": [
          0,
          1
         ],
         "title": {
          "text": "Department"
         }
        }
       }
      }
     },
     "metadata": {},
     "output_type": "display_data"
    }
   ],
   "source": [
    "list_features = ['tenure_group', 'age_group', 'Gender', 'Department']\n",
    "list_tables = []\n",
    "\n",
    "for i in list_features:\n",
    "    list_tables.append(compare_x_y_heatmap(merged, [i, 'BenefitSubType'], 'Benefit SubType', i)[1])\n"
   ]
  },
  {
   "cell_type": "code",
   "execution_count": 69,
   "id": "23afef4e",
   "metadata": {},
   "outputs": [
    {
     "data": {
      "text/html": [
       "<div>\n",
       "<style scoped>\n",
       "    .dataframe tbody tr th:only-of-type {\n",
       "        vertical-align: middle;\n",
       "    }\n",
       "\n",
       "    .dataframe tbody tr th {\n",
       "        vertical-align: top;\n",
       "    }\n",
       "\n",
       "    .dataframe thead th {\n",
       "        text-align: right;\n",
       "    }\n",
       "</style>\n",
       "<table border=\"1\" class=\"dataframe\">\n",
       "  <thead>\n",
       "    <tr style=\"text-align: right;\">\n",
       "      <th>Department</th>\n",
       "      <th>Finance</th>\n",
       "      <th>HR</th>\n",
       "      <th>IT</th>\n",
       "      <th>Marketing</th>\n",
       "      <th>Sales</th>\n",
       "    </tr>\n",
       "  </thead>\n",
       "  <tbody>\n",
       "    <tr>\n",
       "      <th>count</th>\n",
       "      <td>30.000000</td>\n",
       "      <td>30.000000</td>\n",
       "      <td>30.000000</td>\n",
       "      <td>30.000000</td>\n",
       "      <td>30.000000</td>\n",
       "    </tr>\n",
       "    <tr>\n",
       "      <th>mean</th>\n",
       "      <td>3.321507</td>\n",
       "      <td>3.442244</td>\n",
       "      <td>3.404948</td>\n",
       "      <td>3.271769</td>\n",
       "      <td>3.313496</td>\n",
       "    </tr>\n",
       "    <tr>\n",
       "      <th>std</th>\n",
       "      <td>0.426320</td>\n",
       "      <td>0.520321</td>\n",
       "      <td>0.398959</td>\n",
       "      <td>0.455593</td>\n",
       "      <td>0.467437</td>\n",
       "    </tr>\n",
       "    <tr>\n",
       "      <th>min</th>\n",
       "      <td>2.477612</td>\n",
       "      <td>2.529412</td>\n",
       "      <td>2.847222</td>\n",
       "      <td>2.126984</td>\n",
       "      <td>2.431034</td>\n",
       "    </tr>\n",
       "    <tr>\n",
       "      <th>25%</th>\n",
       "      <td>3.082340</td>\n",
       "      <td>3.141026</td>\n",
       "      <td>3.136995</td>\n",
       "      <td>2.928930</td>\n",
       "      <td>2.954082</td>\n",
       "    </tr>\n",
       "    <tr>\n",
       "      <th>50%</th>\n",
       "      <td>3.307179</td>\n",
       "      <td>3.335577</td>\n",
       "      <td>3.363338</td>\n",
       "      <td>3.274526</td>\n",
       "      <td>3.301880</td>\n",
       "    </tr>\n",
       "    <tr>\n",
       "      <th>75%</th>\n",
       "      <td>3.497807</td>\n",
       "      <td>3.792143</td>\n",
       "      <td>3.619676</td>\n",
       "      <td>3.586264</td>\n",
       "      <td>3.627213</td>\n",
       "    </tr>\n",
       "    <tr>\n",
       "      <th>max</th>\n",
       "      <td>4.120000</td>\n",
       "      <td>4.464286</td>\n",
       "      <td>4.338462</td>\n",
       "      <td>4.253968</td>\n",
       "      <td>4.435484</td>\n",
       "    </tr>\n",
       "  </tbody>\n",
       "</table>\n",
       "</div>"
      ],
      "text/plain": [
       "Department    Finance         HR         IT  Marketing      Sales\n",
       "count       30.000000  30.000000  30.000000  30.000000  30.000000\n",
       "mean         3.321507   3.442244   3.404948   3.271769   3.313496\n",
       "std          0.426320   0.520321   0.398959   0.455593   0.467437\n",
       "min          2.477612   2.529412   2.847222   2.126984   2.431034\n",
       "25%          3.082340   3.141026   3.136995   2.928930   2.954082\n",
       "50%          3.307179   3.335577   3.363338   3.274526   3.301880\n",
       "75%          3.497807   3.792143   3.619676   3.586264   3.627213\n",
       "max          4.120000   4.464286   4.338462   4.253968   4.435484"
      ]
     },
     "execution_count": 69,
     "metadata": {},
     "output_type": "execute_result"
    }
   ],
   "source": [
    "list_tables[3].T.describe()"
   ]
  },
  {
   "cell_type": "code",
   "execution_count": 67,
   "id": "42696342",
   "metadata": {},
   "outputs": [
    {
     "data": {
      "text/html": [
       "<div>\n",
       "<style scoped>\n",
       "    .dataframe tbody tr th:only-of-type {\n",
       "        vertical-align: middle;\n",
       "    }\n",
       "\n",
       "    .dataframe tbody tr th {\n",
       "        vertical-align: top;\n",
       "    }\n",
       "\n",
       "    .dataframe thead th {\n",
       "        text-align: right;\n",
       "    }\n",
       "</style>\n",
       "<table border=\"1\" class=\"dataframe\">\n",
       "  <thead>\n",
       "    <tr style=\"text-align: right;\">\n",
       "      <th>Gender</th>\n",
       "      <th>Female</th>\n",
       "      <th>Male</th>\n",
       "      <th>Non-Binary</th>\n",
       "    </tr>\n",
       "  </thead>\n",
       "  <tbody>\n",
       "    <tr>\n",
       "      <th>count</th>\n",
       "      <td>30.000000</td>\n",
       "      <td>30.000000</td>\n",
       "      <td>30.000000</td>\n",
       "    </tr>\n",
       "    <tr>\n",
       "      <th>mean</th>\n",
       "      <td>3.308746</td>\n",
       "      <td>3.407238</td>\n",
       "      <td>3.388661</td>\n",
       "    </tr>\n",
       "    <tr>\n",
       "      <th>std</th>\n",
       "      <td>0.370000</td>\n",
       "      <td>0.281758</td>\n",
       "      <td>1.924253</td>\n",
       "    </tr>\n",
       "    <tr>\n",
       "      <th>min</th>\n",
       "      <td>2.654930</td>\n",
       "      <td>2.792683</td>\n",
       "      <td>0.750000</td>\n",
       "    </tr>\n",
       "    <tr>\n",
       "      <th>25%</th>\n",
       "      <td>3.057734</td>\n",
       "      <td>3.197645</td>\n",
       "      <td>2.071429</td>\n",
       "    </tr>\n",
       "    <tr>\n",
       "      <th>50%</th>\n",
       "      <td>3.316464</td>\n",
       "      <td>3.457263</td>\n",
       "      <td>2.833333</td>\n",
       "    </tr>\n",
       "    <tr>\n",
       "      <th>75%</th>\n",
       "      <td>3.571387</td>\n",
       "      <td>3.556434</td>\n",
       "      <td>4.350000</td>\n",
       "    </tr>\n",
       "    <tr>\n",
       "      <th>max</th>\n",
       "      <td>4.082840</td>\n",
       "      <td>4.081967</td>\n",
       "      <td>8.500000</td>\n",
       "    </tr>\n",
       "  </tbody>\n",
       "</table>\n",
       "</div>"
      ],
      "text/plain": [
       "Gender     Female       Male  Non-Binary\n",
       "count   30.000000  30.000000   30.000000\n",
       "mean     3.308746   3.407238    3.388661\n",
       "std      0.370000   0.281758    1.924253\n",
       "min      2.654930   2.792683    0.750000\n",
       "25%      3.057734   3.197645    2.071429\n",
       "50%      3.316464   3.457263    2.833333\n",
       "75%      3.571387   3.556434    4.350000\n",
       "max      4.082840   4.081967    8.500000"
      ]
     },
     "execution_count": 67,
     "metadata": {},
     "output_type": "execute_result"
    }
   ],
   "source": [
    "list_tables[2].T.describe()"
   ]
  },
  {
   "cell_type": "code",
   "execution_count": null,
   "id": "2f71019f",
   "metadata": {},
   "outputs": [
    {
     "data": {
      "application/vnd.plotly.v1+json": {
       "config": {
        "plotlyServerURL": "https://plot.ly"
       },
       "data": [
        {
         "coloraxis": "coloraxis",
         "hovertemplate": "Benefit SubType: %{x}<br>Age Group: %{y}<br>Avg UsageFrequency: %{z}<extra></extra>",
         "name": "0",
         "type": "heatmap",
         "x": [
          "401k Basic Matching",
          "401k Catch-Up Contributions",
          "401k High Contribution",
          "401k Investment Fees",
          "401k Maximum Matching",
          "401k Standard Matching",
          "After-School Care",
          "Basic Coverage",
          "Conference Attendance",
          "Dependent Coverage",
          "Family Membership",
          "Graduate Degree",
          "HDHP Individual",
          "HMO Family",
          "Healthcare FSA",
          "Individual Courses",
          "Monthly Communications",
          "Monthly Internet Allowance",
          "On-Site Infant Care",
          "PPO Family",
          "PPO Individual",
          "Premium Discount Tier 1",
          "Professional Certification",
          "Supplemental High Amount",
          "Supplemental Standard",
          "Tier 1 Partners",
          "Tier 2 Partners",
          "Tier 3 Partners",
          "Transit Subsidy",
          "Undergraduate Degree"
         ],
         "xaxis": "x",
         "y": [
          "<30",
          "30-45",
          ">45"
         ],
         "yaxis": "y",
         "z": {
          "bdata": "wgcffPDBEUD88tiKoOEQQLbWWmuttQpA1EEd1EEdEkBiJ3ZiJ3YOQDptoNMGOgVAt23btm3bCECCuXZgrh0IQPADP/ADPwhAJUmSJEmSDUDWvmHtG9YOQLrooosuughA4uHh4eHhA0Au2IIt2IINQDrnnHPOOQdADL3QC73QC0AAAAAAAOANQMxhDnOYwwxAQpyVnxBnBUAxYsSIESMGQLSYzmI6iwlAiYiIiIiICEA/8AM/8AMHQJIkSZIkSQhA7mmE5Z5GDEAnTZo0adIEQKEXeqEXeglAhc2BRCtsDkAcx3Ecx3EMQK+hvIbyGghAH4XrUbgeDUC8u7u7u7sCQFpMZzGdxRBAJ3ZiJ3ZiD0CQwfkYnI8NQJjQXkJ7CQdAGPOpF/OpB0D0BX1BX9APQHBY+4a1bwxAuxK1K1G7CkBIgzRIgzQKQGqE5Z5GWAhAeIVXeIVXCEDezpCYtzMMQIOMCzIuyAhAwvkYnI/BCUAGWqAFWqANQNa+Ye0b1gpAeOEgenwXBkA2ZU1ZU9YMQOtXCtT6lQpAAAAAAACADEBU4IurH3QMQEdrtEZrtA5AucWTWzy5DUAs9zTCck8LQLSX0F5CewlA47dLPRm/CUC/Lql8GPcLQCb8mfBnwgdAt/CrMZEeDEBzifCkIPkLQFh8xVd8xQ9AKxKvIvEqCkDX+Lt5hOoLQAAAAAAAAAtAnJCSZxnRB0AAAAAAALAJQCxRuxK1Kw1As88hNcF4C0DTm970pjcJQMprKK+hvAlArSYhir/ICUAZkI6lTIINQOdIc6Q50gxA33vvvffeC0BsB+bagbkKQNcOzLUDcw1ARhdddNFFB0BLRSwVsVQMQAOyAdmAbAhAQ3kN5TWUBkC0wuZAohUGQMmN3MiN3AhAYHvIZcVADUBYfMVXfMUJQLgpRg1/mwpAhCcFyZ9XCUA5juM4jmMJQH1no76zUQ1A",
          "dtype": "f8",
          "shape": "3, 30"
         }
        }
       ],
       "layout": {
        "coloraxis": {
         "colorbar": {
          "title": {
           "text": "Avg UsageFrequency"
          }
         },
         "colorscale": [
          [
           0,
           "#440154"
          ],
          [
           0.1111111111111111,
           "#482878"
          ],
          [
           0.2222222222222222,
           "#3e4989"
          ],
          [
           0.3333333333333333,
           "#31688e"
          ],
          [
           0.4444444444444444,
           "#26828e"
          ],
          [
           0.5555555555555556,
           "#1f9e89"
          ],
          [
           0.6666666666666666,
           "#35b779"
          ],
          [
           0.7777777777777778,
           "#6ece58"
          ],
          [
           0.8888888888888888,
           "#b5de2b"
          ],
          [
           1,
           "#fde725"
          ]
         ]
        },
        "template": {
         "data": {
          "bar": [
           {
            "error_x": {
             "color": "#2a3f5f"
            },
            "error_y": {
             "color": "#2a3f5f"
            },
            "marker": {
             "line": {
              "color": "#E5ECF6",
              "width": 0.5
             },
             "pattern": {
              "fillmode": "overlay",
              "size": 10,
              "solidity": 0.2
             }
            },
            "type": "bar"
           }
          ],
          "barpolar": [
           {
            "marker": {
             "line": {
              "color": "#E5ECF6",
              "width": 0.5
             },
             "pattern": {
              "fillmode": "overlay",
              "size": 10,
              "solidity": 0.2
             }
            },
            "type": "barpolar"
           }
          ],
          "carpet": [
           {
            "aaxis": {
             "endlinecolor": "#2a3f5f",
             "gridcolor": "white",
             "linecolor": "white",
             "minorgridcolor": "white",
             "startlinecolor": "#2a3f5f"
            },
            "baxis": {
             "endlinecolor": "#2a3f5f",
             "gridcolor": "white",
             "linecolor": "white",
             "minorgridcolor": "white",
             "startlinecolor": "#2a3f5f"
            },
            "type": "carpet"
           }
          ],
          "choropleth": [
           {
            "colorbar": {
             "outlinewidth": 0,
             "ticks": ""
            },
            "type": "choropleth"
           }
          ],
          "contour": [
           {
            "colorbar": {
             "outlinewidth": 0,
             "ticks": ""
            },
            "colorscale": [
             [
              0,
              "#0d0887"
             ],
             [
              0.1111111111111111,
              "#46039f"
             ],
             [
              0.2222222222222222,
              "#7201a8"
             ],
             [
              0.3333333333333333,
              "#9c179e"
             ],
             [
              0.4444444444444444,
              "#bd3786"
             ],
             [
              0.5555555555555556,
              "#d8576b"
             ],
             [
              0.6666666666666666,
              "#ed7953"
             ],
             [
              0.7777777777777778,
              "#fb9f3a"
             ],
             [
              0.8888888888888888,
              "#fdca26"
             ],
             [
              1,
              "#f0f921"
             ]
            ],
            "type": "contour"
           }
          ],
          "contourcarpet": [
           {
            "colorbar": {
             "outlinewidth": 0,
             "ticks": ""
            },
            "type": "contourcarpet"
           }
          ],
          "heatmap": [
           {
            "colorbar": {
             "outlinewidth": 0,
             "ticks": ""
            },
            "colorscale": [
             [
              0,
              "#0d0887"
             ],
             [
              0.1111111111111111,
              "#46039f"
             ],
             [
              0.2222222222222222,
              "#7201a8"
             ],
             [
              0.3333333333333333,
              "#9c179e"
             ],
             [
              0.4444444444444444,
              "#bd3786"
             ],
             [
              0.5555555555555556,
              "#d8576b"
             ],
             [
              0.6666666666666666,
              "#ed7953"
             ],
             [
              0.7777777777777778,
              "#fb9f3a"
             ],
             [
              0.8888888888888888,
              "#fdca26"
             ],
             [
              1,
              "#f0f921"
             ]
            ],
            "type": "heatmap"
           }
          ],
          "histogram": [
           {
            "marker": {
             "pattern": {
              "fillmode": "overlay",
              "size": 10,
              "solidity": 0.2
             }
            },
            "type": "histogram"
           }
          ],
          "histogram2d": [
           {
            "colorbar": {
             "outlinewidth": 0,
             "ticks": ""
            },
            "colorscale": [
             [
              0,
              "#0d0887"
             ],
             [
              0.1111111111111111,
              "#46039f"
             ],
             [
              0.2222222222222222,
              "#7201a8"
             ],
             [
              0.3333333333333333,
              "#9c179e"
             ],
             [
              0.4444444444444444,
              "#bd3786"
             ],
             [
              0.5555555555555556,
              "#d8576b"
             ],
             [
              0.6666666666666666,
              "#ed7953"
             ],
             [
              0.7777777777777778,
              "#fb9f3a"
             ],
             [
              0.8888888888888888,
              "#fdca26"
             ],
             [
              1,
              "#f0f921"
             ]
            ],
            "type": "histogram2d"
           }
          ],
          "histogram2dcontour": [
           {
            "colorbar": {
             "outlinewidth": 0,
             "ticks": ""
            },
            "colorscale": [
             [
              0,
              "#0d0887"
             ],
             [
              0.1111111111111111,
              "#46039f"
             ],
             [
              0.2222222222222222,
              "#7201a8"
             ],
             [
              0.3333333333333333,
              "#9c179e"
             ],
             [
              0.4444444444444444,
              "#bd3786"
             ],
             [
              0.5555555555555556,
              "#d8576b"
             ],
             [
              0.6666666666666666,
              "#ed7953"
             ],
             [
              0.7777777777777778,
              "#fb9f3a"
             ],
             [
              0.8888888888888888,
              "#fdca26"
             ],
             [
              1,
              "#f0f921"
             ]
            ],
            "type": "histogram2dcontour"
           }
          ],
          "mesh3d": [
           {
            "colorbar": {
             "outlinewidth": 0,
             "ticks": ""
            },
            "type": "mesh3d"
           }
          ],
          "parcoords": [
           {
            "line": {
             "colorbar": {
              "outlinewidth": 0,
              "ticks": ""
             }
            },
            "type": "parcoords"
           }
          ],
          "pie": [
           {
            "automargin": true,
            "type": "pie"
           }
          ],
          "scatter": [
           {
            "fillpattern": {
             "fillmode": "overlay",
             "size": 10,
             "solidity": 0.2
            },
            "type": "scatter"
           }
          ],
          "scatter3d": [
           {
            "line": {
             "colorbar": {
              "outlinewidth": 0,
              "ticks": ""
             }
            },
            "marker": {
             "colorbar": {
              "outlinewidth": 0,
              "ticks": ""
             }
            },
            "type": "scatter3d"
           }
          ],
          "scattercarpet": [
           {
            "marker": {
             "colorbar": {
              "outlinewidth": 0,
              "ticks": ""
             }
            },
            "type": "scattercarpet"
           }
          ],
          "scattergeo": [
           {
            "marker": {
             "colorbar": {
              "outlinewidth": 0,
              "ticks": ""
             }
            },
            "type": "scattergeo"
           }
          ],
          "scattergl": [
           {
            "marker": {
             "colorbar": {
              "outlinewidth": 0,
              "ticks": ""
             }
            },
            "type": "scattergl"
           }
          ],
          "scattermap": [
           {
            "marker": {
             "colorbar": {
              "outlinewidth": 0,
              "ticks": ""
             }
            },
            "type": "scattermap"
           }
          ],
          "scattermapbox": [
           {
            "marker": {
             "colorbar": {
              "outlinewidth": 0,
              "ticks": ""
             }
            },
            "type": "scattermapbox"
           }
          ],
          "scatterpolar": [
           {
            "marker": {
             "colorbar": {
              "outlinewidth": 0,
              "ticks": ""
             }
            },
            "type": "scatterpolar"
           }
          ],
          "scatterpolargl": [
           {
            "marker": {
             "colorbar": {
              "outlinewidth": 0,
              "ticks": ""
             }
            },
            "type": "scatterpolargl"
           }
          ],
          "scatterternary": [
           {
            "marker": {
             "colorbar": {
              "outlinewidth": 0,
              "ticks": ""
             }
            },
            "type": "scatterternary"
           }
          ],
          "surface": [
           {
            "colorbar": {
             "outlinewidth": 0,
             "ticks": ""
            },
            "colorscale": [
             [
              0,
              "#0d0887"
             ],
             [
              0.1111111111111111,
              "#46039f"
             ],
             [
              0.2222222222222222,
              "#7201a8"
             ],
             [
              0.3333333333333333,
              "#9c179e"
             ],
             [
              0.4444444444444444,
              "#bd3786"
             ],
             [
              0.5555555555555556,
              "#d8576b"
             ],
             [
              0.6666666666666666,
              "#ed7953"
             ],
             [
              0.7777777777777778,
              "#fb9f3a"
             ],
             [
              0.8888888888888888,
              "#fdca26"
             ],
             [
              1,
              "#f0f921"
             ]
            ],
            "type": "surface"
           }
          ],
          "table": [
           {
            "cells": {
             "fill": {
              "color": "#EBF0F8"
             },
             "line": {
              "color": "white"
             }
            },
            "header": {
             "fill": {
              "color": "#C8D4E3"
             },
             "line": {
              "color": "white"
             }
            },
            "type": "table"
           }
          ]
         },
         "layout": {
          "annotationdefaults": {
           "arrowcolor": "#2a3f5f",
           "arrowhead": 0,
           "arrowwidth": 1
          },
          "autotypenumbers": "strict",
          "coloraxis": {
           "colorbar": {
            "outlinewidth": 0,
            "ticks": ""
           }
          },
          "colorscale": {
           "diverging": [
            [
             0,
             "#8e0152"
            ],
            [
             0.1,
             "#c51b7d"
            ],
            [
             0.2,
             "#de77ae"
            ],
            [
             0.3,
             "#f1b6da"
            ],
            [
             0.4,
             "#fde0ef"
            ],
            [
             0.5,
             "#f7f7f7"
            ],
            [
             0.6,
             "#e6f5d0"
            ],
            [
             0.7,
             "#b8e186"
            ],
            [
             0.8,
             "#7fbc41"
            ],
            [
             0.9,
             "#4d9221"
            ],
            [
             1,
             "#276419"
            ]
           ],
           "sequential": [
            [
             0,
             "#0d0887"
            ],
            [
             0.1111111111111111,
             "#46039f"
            ],
            [
             0.2222222222222222,
             "#7201a8"
            ],
            [
             0.3333333333333333,
             "#9c179e"
            ],
            [
             0.4444444444444444,
             "#bd3786"
            ],
            [
             0.5555555555555556,
             "#d8576b"
            ],
            [
             0.6666666666666666,
             "#ed7953"
            ],
            [
             0.7777777777777778,
             "#fb9f3a"
            ],
            [
             0.8888888888888888,
             "#fdca26"
            ],
            [
             1,
             "#f0f921"
            ]
           ],
           "sequentialminus": [
            [
             0,
             "#0d0887"
            ],
            [
             0.1111111111111111,
             "#46039f"
            ],
            [
             0.2222222222222222,
             "#7201a8"
            ],
            [
             0.3333333333333333,
             "#9c179e"
            ],
            [
             0.4444444444444444,
             "#bd3786"
            ],
            [
             0.5555555555555556,
             "#d8576b"
            ],
            [
             0.6666666666666666,
             "#ed7953"
            ],
            [
             0.7777777777777778,
             "#fb9f3a"
            ],
            [
             0.8888888888888888,
             "#fdca26"
            ],
            [
             1,
             "#f0f921"
            ]
           ]
          },
          "colorway": [
           "#636efa",
           "#EF553B",
           "#00cc96",
           "#ab63fa",
           "#FFA15A",
           "#19d3f3",
           "#FF6692",
           "#B6E880",
           "#FF97FF",
           "#FECB52"
          ],
          "font": {
           "color": "#2a3f5f"
          },
          "geo": {
           "bgcolor": "white",
           "lakecolor": "white",
           "landcolor": "#E5ECF6",
           "showlakes": true,
           "showland": true,
           "subunitcolor": "white"
          },
          "hoverlabel": {
           "align": "left"
          },
          "hovermode": "closest",
          "mapbox": {
           "style": "light"
          },
          "paper_bgcolor": "white",
          "plot_bgcolor": "#E5ECF6",
          "polar": {
           "angularaxis": {
            "gridcolor": "white",
            "linecolor": "white",
            "ticks": ""
           },
           "bgcolor": "#E5ECF6",
           "radialaxis": {
            "gridcolor": "white",
            "linecolor": "white",
            "ticks": ""
           }
          },
          "scene": {
           "xaxis": {
            "backgroundcolor": "#E5ECF6",
            "gridcolor": "white",
            "gridwidth": 2,
            "linecolor": "white",
            "showbackground": true,
            "ticks": "",
            "zerolinecolor": "white"
           },
           "yaxis": {
            "backgroundcolor": "#E5ECF6",
            "gridcolor": "white",
            "gridwidth": 2,
            "linecolor": "white",
            "showbackground": true,
            "ticks": "",
            "zerolinecolor": "white"
           },
           "zaxis": {
            "backgroundcolor": "#E5ECF6",
            "gridcolor": "white",
            "gridwidth": 2,
            "linecolor": "white",
            "showbackground": true,
            "ticks": "",
            "zerolinecolor": "white"
           }
          },
          "shapedefaults": {
           "line": {
            "color": "#2a3f5f"
           }
          },
          "ternary": {
           "aaxis": {
            "gridcolor": "white",
            "linecolor": "white",
            "ticks": ""
           },
           "baxis": {
            "gridcolor": "white",
            "linecolor": "white",
            "ticks": ""
           },
           "bgcolor": "#E5ECF6",
           "caxis": {
            "gridcolor": "white",
            "linecolor": "white",
            "ticks": ""
           }
          },
          "title": {
           "x": 0.05
          },
          "xaxis": {
           "automargin": true,
           "gridcolor": "white",
           "linecolor": "white",
           "ticks": "",
           "title": {
            "standoff": 15
           },
           "zerolinecolor": "white",
           "zerolinewidth": 2
          },
          "yaxis": {
           "automargin": true,
           "gridcolor": "white",
           "linecolor": "white",
           "ticks": "",
           "title": {
            "standoff": 15
           },
           "zerolinecolor": "white",
           "zerolinewidth": 2
          }
         }
        },
        "title": {
         "text": "Subtype Usage Heatmap by Age Group"
        },
        "xaxis": {
         "anchor": "y",
         "domain": [
          0,
          1
         ],
         "title": {
          "text": "Benefit SubType"
         }
        },
        "yaxis": {
         "anchor": "x",
         "autorange": "reversed",
         "domain": [
          0,
          1
         ],
         "title": {
          "text": "Age Group"
         }
        }
       }
      }
     },
     "metadata": {},
     "output_type": "display_data"
    },
    {
     "name": "stdout",
     "output_type": "stream",
     "text": [
      "\n",
      "- Younger employees (<30) show higher usage in 'Fitness' subtypes.\n",
      "- Females in 'HR' department have 1.5x engagement vs. males.\n",
      "- Long-tenure (>10 years) prefer 'Retirement' benefits.\n",
      "- Low usage in 'Engineering' for 'Wellness' – potential for targeted promotion.\n",
      "\n"
     ]
    }
   ],
   "source": [
    "# 4. Document differences (e.g., Gen Z’s preference for “Gym Membership”).\n",
    "patterns = \"\"\"\n",
    "- Based on specific age, younger on average are interested in subcategories related to Retirement Plan and Gym membership.\n",
    "                        - age between 30-45 are most interested with Life Insurance\t\n",
    "                        -  \n",
    "                        - younger have the most usage of benefits\n",
    "- When it comes to tenure groups, tenure between 5-10 seems to be most active with usage of benefits\n",
    "- Department that uses the most benefits is HR\n",
    "- Low usage in 'Engineering' for 'Wellness' – potential for targeted promotion.\n",
    "\"\"\"\n",
    "print(patterns)\n"
   ]
  },
  {
   "cell_type": "code",
   "execution_count": 72,
   "id": "db578c71",
   "metadata": {},
   "outputs": [
    {
     "data": {
      "text/html": [
       "<div>\n",
       "<style scoped>\n",
       "    .dataframe tbody tr th:only-of-type {\n",
       "        vertical-align: middle;\n",
       "    }\n",
       "\n",
       "    .dataframe tbody tr th {\n",
       "        vertical-align: top;\n",
       "    }\n",
       "\n",
       "    .dataframe thead th {\n",
       "        text-align: right;\n",
       "    }\n",
       "</style>\n",
       "<table border=\"1\" class=\"dataframe\">\n",
       "  <thead>\n",
       "    <tr style=\"text-align: right;\">\n",
       "      <th></th>\n",
       "      <th>BenefitID</th>\n",
       "      <th>BenefitType</th>\n",
       "      <th>BenefitSubType</th>\n",
       "      <th>BenefitCost</th>\n",
       "    </tr>\n",
       "  </thead>\n",
       "  <tbody>\n",
       "    <tr>\n",
       "      <th>0</th>\n",
       "      <td>1</td>\n",
       "      <td>Retirement Plan</td>\n",
       "      <td>401k Basic Matching</td>\n",
       "      <td>876.21</td>\n",
       "    </tr>\n",
       "    <tr>\n",
       "      <th>1</th>\n",
       "      <td>2</td>\n",
       "      <td>Health Insurance</td>\n",
       "      <td>PPO Individual</td>\n",
       "      <td>706.93</td>\n",
       "    </tr>\n",
       "    <tr>\n",
       "      <th>2</th>\n",
       "      <td>3</td>\n",
       "      <td>Commuter Benefits</td>\n",
       "      <td>Transit Subsidy</td>\n",
       "      <td>325.00</td>\n",
       "    </tr>\n",
       "    <tr>\n",
       "      <th>3</th>\n",
       "      <td>4</td>\n",
       "      <td>Retirement Plan</td>\n",
       "      <td>401k High Contribution</td>\n",
       "      <td>261.44</td>\n",
       "    </tr>\n",
       "    <tr>\n",
       "      <th>4</th>\n",
       "      <td>5</td>\n",
       "      <td>Technology Stipend</td>\n",
       "      <td>Monthly Internet Allowance</td>\n",
       "      <td>75.00</td>\n",
       "    </tr>\n",
       "    <tr>\n",
       "      <th>5</th>\n",
       "      <td>6</td>\n",
       "      <td>Retirement Plan</td>\n",
       "      <td>401k Standard Matching</td>\n",
       "      <td>598.44</td>\n",
       "    </tr>\n",
       "    <tr>\n",
       "      <th>6</th>\n",
       "      <td>7</td>\n",
       "      <td>Flexible Spending Account</td>\n",
       "      <td>Healthcare FSA</td>\n",
       "      <td>450.00</td>\n",
       "    </tr>\n",
       "    <tr>\n",
       "      <th>7</th>\n",
       "      <td>8</td>\n",
       "      <td>Wellness Programs</td>\n",
       "      <td>Premium Discount Tier 1</td>\n",
       "      <td>125.00</td>\n",
       "    </tr>\n",
       "    <tr>\n",
       "      <th>8</th>\n",
       "      <td>9</td>\n",
       "      <td>Professional Development</td>\n",
       "      <td>Conference Attendance</td>\n",
       "      <td>850.00</td>\n",
       "    </tr>\n",
       "    <tr>\n",
       "      <th>9</th>\n",
       "      <td>10</td>\n",
       "      <td>Childcare</td>\n",
       "      <td>On-Site Infant Care</td>\n",
       "      <td>915.48</td>\n",
       "    </tr>\n",
       "    <tr>\n",
       "      <th>10</th>\n",
       "      <td>11</td>\n",
       "      <td>Health Insurance</td>\n",
       "      <td>PPO Family</td>\n",
       "      <td>928.75</td>\n",
       "    </tr>\n",
       "    <tr>\n",
       "      <th>11</th>\n",
       "      <td>12</td>\n",
       "      <td>Tuition Reimbursement</td>\n",
       "      <td>Graduate Degree</td>\n",
       "      <td>824.53</td>\n",
       "    </tr>\n",
       "    <tr>\n",
       "      <th>12</th>\n",
       "      <td>13</td>\n",
       "      <td>Cell Phone Allowance</td>\n",
       "      <td>Monthly Communications</td>\n",
       "      <td>65.00</td>\n",
       "    </tr>\n",
       "    <tr>\n",
       "      <th>13</th>\n",
       "      <td>14</td>\n",
       "      <td>Gym Membership</td>\n",
       "      <td>Tier 1 Partners</td>\n",
       "      <td>73.36</td>\n",
       "    </tr>\n",
       "    <tr>\n",
       "      <th>14</th>\n",
       "      <td>15</td>\n",
       "      <td>Tuition Reimbursement</td>\n",
       "      <td>Professional Certification</td>\n",
       "      <td>359.21</td>\n",
       "    </tr>\n",
       "    <tr>\n",
       "      <th>15</th>\n",
       "      <td>16</td>\n",
       "      <td>Health Insurance</td>\n",
       "      <td>HDHP Individual</td>\n",
       "      <td>84.55</td>\n",
       "    </tr>\n",
       "    <tr>\n",
       "      <th>16</th>\n",
       "      <td>17</td>\n",
       "      <td>Retirement Plan</td>\n",
       "      <td>401k Catch-Up Contributions</td>\n",
       "      <td>509.65</td>\n",
       "    </tr>\n",
       "    <tr>\n",
       "      <th>17</th>\n",
       "      <td>18</td>\n",
       "      <td>Retirement Plan</td>\n",
       "      <td>401k Investment Fees</td>\n",
       "      <td>743.01</td>\n",
       "    </tr>\n",
       "    <tr>\n",
       "      <th>18</th>\n",
       "      <td>19</td>\n",
       "      <td>Gym Membership</td>\n",
       "      <td>Tier 2 Partners</td>\n",
       "      <td>343.73</td>\n",
       "    </tr>\n",
       "    <tr>\n",
       "      <th>19</th>\n",
       "      <td>20</td>\n",
       "      <td>Tuition Reimbursement</td>\n",
       "      <td>Undergraduate Degree</td>\n",
       "      <td>489.96</td>\n",
       "    </tr>\n",
       "    <tr>\n",
       "      <th>20</th>\n",
       "      <td>21</td>\n",
       "      <td>Life Insurance</td>\n",
       "      <td>Basic Coverage</td>\n",
       "      <td>163.92</td>\n",
       "    </tr>\n",
       "    <tr>\n",
       "      <th>21</th>\n",
       "      <td>22</td>\n",
       "      <td>Health Insurance</td>\n",
       "      <td>HMO Family</td>\n",
       "      <td>624.00</td>\n",
       "    </tr>\n",
       "    <tr>\n",
       "      <th>22</th>\n",
       "      <td>23</td>\n",
       "      <td>Life Insurance</td>\n",
       "      <td>Supplemental High Amount</td>\n",
       "      <td>969.28</td>\n",
       "    </tr>\n",
       "    <tr>\n",
       "      <th>23</th>\n",
       "      <td>24</td>\n",
       "      <td>Gym Membership</td>\n",
       "      <td>Tier 3 Partners</td>\n",
       "      <td>780.78</td>\n",
       "    </tr>\n",
       "    <tr>\n",
       "      <th>24</th>\n",
       "      <td>25</td>\n",
       "      <td>Life Insurance</td>\n",
       "      <td>Supplemental Standard</td>\n",
       "      <td>774.91</td>\n",
       "    </tr>\n",
       "    <tr>\n",
       "      <th>25</th>\n",
       "      <td>26</td>\n",
       "      <td>Gym Membership</td>\n",
       "      <td>Family Membership</td>\n",
       "      <td>519.66</td>\n",
       "    </tr>\n",
       "    <tr>\n",
       "      <th>26</th>\n",
       "      <td>27</td>\n",
       "      <td>Retirement Plan</td>\n",
       "      <td>401k Maximum Matching</td>\n",
       "      <td>913.01</td>\n",
       "    </tr>\n",
       "    <tr>\n",
       "      <th>27</th>\n",
       "      <td>28</td>\n",
       "      <td>Life Insurance</td>\n",
       "      <td>Dependent Coverage</td>\n",
       "      <td>165.54</td>\n",
       "    </tr>\n",
       "    <tr>\n",
       "      <th>28</th>\n",
       "      <td>29</td>\n",
       "      <td>Childcare</td>\n",
       "      <td>After-School Care</td>\n",
       "      <td>475.00</td>\n",
       "    </tr>\n",
       "    <tr>\n",
       "      <th>29</th>\n",
       "      <td>30</td>\n",
       "      <td>Tuition Reimbursement</td>\n",
       "      <td>Individual Courses</td>\n",
       "      <td>723.73</td>\n",
       "    </tr>\n",
       "  </tbody>\n",
       "</table>\n",
       "</div>"
      ],
      "text/plain": [
       "    BenefitID                BenefitType               BenefitSubType  \\\n",
       "0           1            Retirement Plan          401k Basic Matching   \n",
       "1           2           Health Insurance               PPO Individual   \n",
       "2           3          Commuter Benefits              Transit Subsidy   \n",
       "3           4            Retirement Plan       401k High Contribution   \n",
       "4           5         Technology Stipend   Monthly Internet Allowance   \n",
       "5           6            Retirement Plan       401k Standard Matching   \n",
       "6           7  Flexible Spending Account               Healthcare FSA   \n",
       "7           8          Wellness Programs      Premium Discount Tier 1   \n",
       "8           9   Professional Development        Conference Attendance   \n",
       "9          10                  Childcare          On-Site Infant Care   \n",
       "10         11           Health Insurance                   PPO Family   \n",
       "11         12      Tuition Reimbursement              Graduate Degree   \n",
       "12         13       Cell Phone Allowance       Monthly Communications   \n",
       "13         14             Gym Membership              Tier 1 Partners   \n",
       "14         15      Tuition Reimbursement   Professional Certification   \n",
       "15         16           Health Insurance              HDHP Individual   \n",
       "16         17            Retirement Plan  401k Catch-Up Contributions   \n",
       "17         18            Retirement Plan         401k Investment Fees   \n",
       "18         19             Gym Membership              Tier 2 Partners   \n",
       "19         20      Tuition Reimbursement         Undergraduate Degree   \n",
       "20         21             Life Insurance               Basic Coverage   \n",
       "21         22           Health Insurance                   HMO Family   \n",
       "22         23             Life Insurance     Supplemental High Amount   \n",
       "23         24             Gym Membership              Tier 3 Partners   \n",
       "24         25             Life Insurance        Supplemental Standard   \n",
       "25         26             Gym Membership            Family Membership   \n",
       "26         27            Retirement Plan        401k Maximum Matching   \n",
       "27         28             Life Insurance           Dependent Coverage   \n",
       "28         29                  Childcare            After-School Care   \n",
       "29         30      Tuition Reimbursement           Individual Courses   \n",
       "\n",
       "    BenefitCost  \n",
       "0        876.21  \n",
       "1        706.93  \n",
       "2        325.00  \n",
       "3        261.44  \n",
       "4         75.00  \n",
       "5        598.44  \n",
       "6        450.00  \n",
       "7        125.00  \n",
       "8        850.00  \n",
       "9        915.48  \n",
       "10       928.75  \n",
       "11       824.53  \n",
       "12        65.00  \n",
       "13        73.36  \n",
       "14       359.21  \n",
       "15        84.55  \n",
       "16       509.65  \n",
       "17       743.01  \n",
       "18       343.73  \n",
       "19       489.96  \n",
       "20       163.92  \n",
       "21       624.00  \n",
       "22       969.28  \n",
       "23       780.78  \n",
       "24       774.91  \n",
       "25       519.66  \n",
       "26       913.01  \n",
       "27       165.54  \n",
       "28       475.00  \n",
       "29       723.73  "
      ]
     },
     "execution_count": 72,
     "metadata": {},
     "output_type": "execute_result"
    }
   ],
   "source": [
    "benefits_data"
   ]
  },
  {
   "cell_type": "code",
   "execution_count": null,
   "id": "c7ff3773",
   "metadata": {},
   "outputs": [],
   "source": []
  }
 ],
 "metadata": {
  "kernelspec": {
   "display_name": ".venv",
   "language": "python",
   "name": "python3"
  },
  "language_info": {
   "codemirror_mode": {
    "name": "ipython",
    "version": 3
   },
   "file_extension": ".py",
   "mimetype": "text/x-python",
   "name": "python",
   "nbconvert_exporter": "python",
   "pygments_lexer": "ipython3",
   "version": "3.9.6"
  }
 },
 "nbformat": 4,
 "nbformat_minor": 5
}
