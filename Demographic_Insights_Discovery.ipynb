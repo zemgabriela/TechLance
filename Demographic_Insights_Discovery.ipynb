{
 "cells": [
  {
   "cell_type": "code",
   "execution_count": 17,
   "id": "760ed6b6",
   "metadata": {},
   "outputs": [],
   "source": [
    "import pandas as pd\n",
    "import numpy as np\n",
    "\n",
    "# Load the datasets\n",
    "merged = pd.read_csv('data/cleaned_data.csv')"
   ]
  },
  {
   "cell_type": "code",
   "execution_count": 18,
   "id": "9922d6b8",
   "metadata": {},
   "outputs": [],
   "source": [
    "# Prepare data for analysis\n",
    "# Combine Gender_Female, Gender_Male, Gender_Non-Binary into single column\n",
    "merged['Gender'] = merged.apply(\n",
    "    lambda row: 'Female' if row['Gender_Female'] else ('Male' if row['Gender_Male'] else ('Non-Binary' if row['Gender_Non-Binary'] else 'Unknown')),\n",
    "    axis=1)\n",
    "\n",
    "# Convert one-hot encoded generation columns to a single 'age_group' column\n",
    "def get_age_group(row):\n",
    "    if row['Age_Gen_Boomer']:\n",
    "        return '58+'\n",
    "    elif row['Age_Gen_Gen_X']:\n",
    "        return '42-57'\n",
    "    elif row['Age_Gen_Millenial']:\n",
    "        return '26-41'\n",
    "    elif row['Age_Gen_Gen_Z']:\n",
    "        return '18-25'\n",
    "    else:\n",
    "        return 'Unknown'\n",
    "    \n",
    "merged['age_group'] = merged.apply(get_age_group, axis=1)\n",
    "\n",
    "# Convert one-hot encoded tenure group columns to a single 'tenure_group' column\n",
    "def get_tenure_group(row):\n",
    "    if row['TenureGroups_ >25_years']:\n",
    "        return '>25'\n",
    "    elif row['TenureGroups_16-25_years']:\n",
    "        return '16-25'\n",
    "    elif row['TenureGroups_5-15_years']:\n",
    "        return '5-15'\n",
    "    elif row['TenureGroups_<5_years']:\n",
    "        return '<5'\n",
    "    else:\n",
    "        return 'Unknown'\n",
    "\n",
    "merged['tenure_group'] = merged.apply(get_tenure_group, axis=1)\n",
    "\n",
    "# Convert one-hot encoded department columns to a single 'Department' column\n",
    "def get_department(row):\n",
    "    if row['Department_Finance']:\n",
    "        return 'Finance'\n",
    "    elif row['Department_HR']:\n",
    "        return 'HR'\n",
    "    elif row['Department_IT']:\n",
    "        return 'IT'\n",
    "    elif row['Department_Marketing']:\n",
    "        return 'Marketing'\n",
    "    elif row['Department_Sales']:\n",
    "        return 'Sales'\n",
    "    else:\n",
    "        return 'Unknown'\n",
    "\n",
    "merged['Department'] = merged.apply(get_department, axis=1)\n",
    "\n"
   ]
  },
  {
   "cell_type": "markdown",
   "id": "53641a25",
   "metadata": {},
   "source": [
    "## Demographic Insights Discovery\n",
    "This section analyzes benefit usage across demographic groups (age, gender, department, tenure), visualizes patterns, and highlights actionable insights."
   ]
  },
  {
   "cell_type": "code",
   "execution_count": 19,
   "id": "5302b062",
   "metadata": {},
   "outputs": [
    {
     "data": {
      "application/vnd.plotly.v1+json": {
       "config": {
        "plotlyServerURL": "https://plot.ly"
       },
       "data": [
        {
         "alignmentgroup": "True",
         "customdata": [
          [
           "18-25"
          ],
          [
           "18-25"
          ],
          [
           "18-25"
          ],
          [
           "18-25"
          ],
          [
           "18-25"
          ],
          [
           "26-41"
          ],
          [
           "26-41"
          ],
          [
           "26-41"
          ],
          [
           "26-41"
          ],
          [
           "26-41"
          ],
          [
           "42-57"
          ],
          [
           "42-57"
          ],
          [
           "42-57"
          ],
          [
           "42-57"
          ],
          [
           "42-57"
          ],
          [
           "58+"
          ],
          [
           "58+"
          ],
          [
           "58+"
          ],
          [
           "58+"
          ],
          [
           "58+"
          ]
         ],
         "hovertemplate": "Gender=Female<br>Department=%{x}<br>mean=%{y}<br>age_group=%{customdata[0]}<extra></extra>",
         "legendgroup": "Female",
         "marker": {
          "color": "rgb(102,194,165)",
          "pattern": {
           "shape": ""
          }
         },
         "name": "Female",
         "offsetgroup": "Female",
         "orientation": "v",
         "showlegend": true,
         "textposition": "auto",
         "type": "bar",
         "x": [
          "Finance",
          "HR",
          "IT",
          "Marketing",
          "Sales",
          "Finance",
          "HR",
          "IT",
          "Marketing",
          "Sales",
          "Finance",
          "HR",
          "IT",
          "Marketing",
          "Sales",
          "Finance",
          "HR",
          "IT",
          "Marketing",
          "Sales"
         ],
         "xaxis": "x",
         "y": {
          "bdata": "4eUUvJyCB0D3NMJyTyMMQM3MzMzMzAxA11prrbXWAkAyxhhjjDEKQM7Q2n24BQxA0iAN0iANDkCIRcrA060JQO2DZEA9UwlAt7ykoS0vCUBm9MyFGT0LQAAAAAAAoAtAU3i8rcX+CUC2C2G2C2EKQOTcZxcQmwpA95faX2p/CUAAAAAAANAKQHV1dXV1dQ1AUaR6D0WqB0CCEt5o6vwKQA==",
          "dtype": "f8"
         },
         "yaxis": "y"
        },
        {
         "alignmentgroup": "True",
         "customdata": [
          [
           "18-25"
          ],
          [
           "18-25"
          ],
          [
           "18-25"
          ],
          [
           "18-25"
          ],
          [
           "18-25"
          ],
          [
           "26-41"
          ],
          [
           "26-41"
          ],
          [
           "26-41"
          ],
          [
           "26-41"
          ],
          [
           "26-41"
          ],
          [
           "42-57"
          ],
          [
           "42-57"
          ],
          [
           "42-57"
          ],
          [
           "42-57"
          ],
          [
           "42-57"
          ],
          [
           "58+"
          ],
          [
           "58+"
          ],
          [
           "58+"
          ],
          [
           "58+"
          ],
          [
           "58+"
          ]
         ],
         "hovertemplate": "Gender=Male<br>Department=%{x}<br>mean=%{y}<br>age_group=%{customdata[0]}<extra></extra>",
         "legendgroup": "Male",
         "marker": {
          "color": "rgb(252,141,98)",
          "pattern": {
           "shape": ""
          }
         },
         "name": "Male",
         "offsetgroup": "Male",
         "orientation": "v",
         "showlegend": true,
         "textposition": "auto",
         "type": "bar",
         "x": [
          "Finance",
          "HR",
          "IT",
          "Marketing",
          "Sales",
          "Finance",
          "HR",
          "IT",
          "Marketing",
          "Sales",
          "Finance",
          "HR",
          "IT",
          "Marketing",
          "Sales",
          "Finance",
          "HR",
          "IT",
          "Marketing",
          "Sales"
         ],
         "xaxis": "x",
         "y": {
          "bdata": "SD/60Y9+DECVIE8J8pQIQBQ7sRM7sQtAAAAAAAAACEC1tLS0tLQMQLl42QboUwpAuB6F61G4CEBIt+pjh4sMQJcTuWqG2wlAKh/G/bqkCkBcAW7OUJEKQF0TgVwTgQxA1FiQKmUkC0Cg1q8UqPULQBphuacRlgtAeQ3lNZTXCUCtsDmQaIUJQOeSWKY+HgxAVVVVVVVVD0CJ2pWoXYkKQA==",
          "dtype": "f8"
         },
         "yaxis": "y"
        },
        {
         "alignmentgroup": "True",
         "customdata": [
          [
           "18-25"
          ],
          [
           "18-25"
          ],
          [
           "18-25"
          ],
          [
           "18-25"
          ],
          [
           "26-41"
          ],
          [
           "26-41"
          ],
          [
           "26-41"
          ],
          [
           "26-41"
          ],
          [
           "26-41"
          ],
          [
           "42-57"
          ],
          [
           "42-57"
          ],
          [
           "42-57"
          ],
          [
           "42-57"
          ],
          [
           "42-57"
          ],
          [
           "58+"
          ],
          [
           "58+"
          ],
          [
           "58+"
          ],
          [
           "58+"
          ],
          [
           "58+"
          ]
         ],
         "hovertemplate": "Gender=Non-Binary<br>Department=%{x}<br>mean=%{y}<br>age_group=%{customdata[0]}<extra></extra>",
         "legendgroup": "Non-Binary",
         "marker": {
          "color": "rgb(141,160,203)",
          "pattern": {
           "shape": ""
          }
         },
         "name": "Non-Binary",
         "offsetgroup": "Non-Binary",
         "orientation": "v",
         "showlegend": true,
         "textposition": "auto",
         "type": "bar",
         "x": [
          "Finance",
          "HR",
          "IT",
          "Marketing",
          "Finance",
          "HR",
          "IT",
          "Marketing",
          "Sales",
          "Finance",
          "HR",
          "IT",
          "Marketing",
          "Sales",
          "Finance",
          "HR",
          "IT",
          "Marketing",
          "Sales"
         ],
         "xaxis": "x",
         "y": {
          "bdata": "AAAAAAAAEECamZmZmZkJQJqZmZmZmQlAZmZmZmZmBkCamZmZmZkFQAAAAAAAgAxAzczMzMzMEEDNzMzMzMwMQKuqqqqqqv4/AAAAAAAA+D9ddNFFF10MQFVVVVVVVf0/AAAAAAAAEECrqqqqqqoOQAAAAAAAAAhAAAAAAAAACECe2Imd2In9P6uqqqqqqgpAAAAAAAAA8D8=",
          "dtype": "f8"
         },
         "yaxis": "y"
        }
       ],
       "layout": {
        "barmode": "group",
        "legend": {
         "title": {
          "text": "Gender"
         },
         "tracegroupgap": 0
        },
        "template": {
         "data": {
          "bar": [
           {
            "error_x": {
             "color": "#2a3f5f"
            },
            "error_y": {
             "color": "#2a3f5f"
            },
            "marker": {
             "line": {
              "color": "#E5ECF6",
              "width": 0.5
             },
             "pattern": {
              "fillmode": "overlay",
              "size": 10,
              "solidity": 0.2
             }
            },
            "type": "bar"
           }
          ],
          "barpolar": [
           {
            "marker": {
             "line": {
              "color": "#E5ECF6",
              "width": 0.5
             },
             "pattern": {
              "fillmode": "overlay",
              "size": 10,
              "solidity": 0.2
             }
            },
            "type": "barpolar"
           }
          ],
          "carpet": [
           {
            "aaxis": {
             "endlinecolor": "#2a3f5f",
             "gridcolor": "white",
             "linecolor": "white",
             "minorgridcolor": "white",
             "startlinecolor": "#2a3f5f"
            },
            "baxis": {
             "endlinecolor": "#2a3f5f",
             "gridcolor": "white",
             "linecolor": "white",
             "minorgridcolor": "white",
             "startlinecolor": "#2a3f5f"
            },
            "type": "carpet"
           }
          ],
          "choropleth": [
           {
            "colorbar": {
             "outlinewidth": 0,
             "ticks": ""
            },
            "type": "choropleth"
           }
          ],
          "contour": [
           {
            "colorbar": {
             "outlinewidth": 0,
             "ticks": ""
            },
            "colorscale": [
             [
              0,
              "#0d0887"
             ],
             [
              0.1111111111111111,
              "#46039f"
             ],
             [
              0.2222222222222222,
              "#7201a8"
             ],
             [
              0.3333333333333333,
              "#9c179e"
             ],
             [
              0.4444444444444444,
              "#bd3786"
             ],
             [
              0.5555555555555556,
              "#d8576b"
             ],
             [
              0.6666666666666666,
              "#ed7953"
             ],
             [
              0.7777777777777778,
              "#fb9f3a"
             ],
             [
              0.8888888888888888,
              "#fdca26"
             ],
             [
              1,
              "#f0f921"
             ]
            ],
            "type": "contour"
           }
          ],
          "contourcarpet": [
           {
            "colorbar": {
             "outlinewidth": 0,
             "ticks": ""
            },
            "type": "contourcarpet"
           }
          ],
          "heatmap": [
           {
            "colorbar": {
             "outlinewidth": 0,
             "ticks": ""
            },
            "colorscale": [
             [
              0,
              "#0d0887"
             ],
             [
              0.1111111111111111,
              "#46039f"
             ],
             [
              0.2222222222222222,
              "#7201a8"
             ],
             [
              0.3333333333333333,
              "#9c179e"
             ],
             [
              0.4444444444444444,
              "#bd3786"
             ],
             [
              0.5555555555555556,
              "#d8576b"
             ],
             [
              0.6666666666666666,
              "#ed7953"
             ],
             [
              0.7777777777777778,
              "#fb9f3a"
             ],
             [
              0.8888888888888888,
              "#fdca26"
             ],
             [
              1,
              "#f0f921"
             ]
            ],
            "type": "heatmap"
           }
          ],
          "histogram": [
           {
            "marker": {
             "pattern": {
              "fillmode": "overlay",
              "size": 10,
              "solidity": 0.2
             }
            },
            "type": "histogram"
           }
          ],
          "histogram2d": [
           {
            "colorbar": {
             "outlinewidth": 0,
             "ticks": ""
            },
            "colorscale": [
             [
              0,
              "#0d0887"
             ],
             [
              0.1111111111111111,
              "#46039f"
             ],
             [
              0.2222222222222222,
              "#7201a8"
             ],
             [
              0.3333333333333333,
              "#9c179e"
             ],
             [
              0.4444444444444444,
              "#bd3786"
             ],
             [
              0.5555555555555556,
              "#d8576b"
             ],
             [
              0.6666666666666666,
              "#ed7953"
             ],
             [
              0.7777777777777778,
              "#fb9f3a"
             ],
             [
              0.8888888888888888,
              "#fdca26"
             ],
             [
              1,
              "#f0f921"
             ]
            ],
            "type": "histogram2d"
           }
          ],
          "histogram2dcontour": [
           {
            "colorbar": {
             "outlinewidth": 0,
             "ticks": ""
            },
            "colorscale": [
             [
              0,
              "#0d0887"
             ],
             [
              0.1111111111111111,
              "#46039f"
             ],
             [
              0.2222222222222222,
              "#7201a8"
             ],
             [
              0.3333333333333333,
              "#9c179e"
             ],
             [
              0.4444444444444444,
              "#bd3786"
             ],
             [
              0.5555555555555556,
              "#d8576b"
             ],
             [
              0.6666666666666666,
              "#ed7953"
             ],
             [
              0.7777777777777778,
              "#fb9f3a"
             ],
             [
              0.8888888888888888,
              "#fdca26"
             ],
             [
              1,
              "#f0f921"
             ]
            ],
            "type": "histogram2dcontour"
           }
          ],
          "mesh3d": [
           {
            "colorbar": {
             "outlinewidth": 0,
             "ticks": ""
            },
            "type": "mesh3d"
           }
          ],
          "parcoords": [
           {
            "line": {
             "colorbar": {
              "outlinewidth": 0,
              "ticks": ""
             }
            },
            "type": "parcoords"
           }
          ],
          "pie": [
           {
            "automargin": true,
            "type": "pie"
           }
          ],
          "scatter": [
           {
            "fillpattern": {
             "fillmode": "overlay",
             "size": 10,
             "solidity": 0.2
            },
            "type": "scatter"
           }
          ],
          "scatter3d": [
           {
            "line": {
             "colorbar": {
              "outlinewidth": 0,
              "ticks": ""
             }
            },
            "marker": {
             "colorbar": {
              "outlinewidth": 0,
              "ticks": ""
             }
            },
            "type": "scatter3d"
           }
          ],
          "scattercarpet": [
           {
            "marker": {
             "colorbar": {
              "outlinewidth": 0,
              "ticks": ""
             }
            },
            "type": "scattercarpet"
           }
          ],
          "scattergeo": [
           {
            "marker": {
             "colorbar": {
              "outlinewidth": 0,
              "ticks": ""
             }
            },
            "type": "scattergeo"
           }
          ],
          "scattergl": [
           {
            "marker": {
             "colorbar": {
              "outlinewidth": 0,
              "ticks": ""
             }
            },
            "type": "scattergl"
           }
          ],
          "scattermap": [
           {
            "marker": {
             "colorbar": {
              "outlinewidth": 0,
              "ticks": ""
             }
            },
            "type": "scattermap"
           }
          ],
          "scattermapbox": [
           {
            "marker": {
             "colorbar": {
              "outlinewidth": 0,
              "ticks": ""
             }
            },
            "type": "scattermapbox"
           }
          ],
          "scatterpolar": [
           {
            "marker": {
             "colorbar": {
              "outlinewidth": 0,
              "ticks": ""
             }
            },
            "type": "scatterpolar"
           }
          ],
          "scatterpolargl": [
           {
            "marker": {
             "colorbar": {
              "outlinewidth": 0,
              "ticks": ""
             }
            },
            "type": "scatterpolargl"
           }
          ],
          "scatterternary": [
           {
            "marker": {
             "colorbar": {
              "outlinewidth": 0,
              "ticks": ""
             }
            },
            "type": "scatterternary"
           }
          ],
          "surface": [
           {
            "colorbar": {
             "outlinewidth": 0,
             "ticks": ""
            },
            "colorscale": [
             [
              0,
              "#0d0887"
             ],
             [
              0.1111111111111111,
              "#46039f"
             ],
             [
              0.2222222222222222,
              "#7201a8"
             ],
             [
              0.3333333333333333,
              "#9c179e"
             ],
             [
              0.4444444444444444,
              "#bd3786"
             ],
             [
              0.5555555555555556,
              "#d8576b"
             ],
             [
              0.6666666666666666,
              "#ed7953"
             ],
             [
              0.7777777777777778,
              "#fb9f3a"
             ],
             [
              0.8888888888888888,
              "#fdca26"
             ],
             [
              1,
              "#f0f921"
             ]
            ],
            "type": "surface"
           }
          ],
          "table": [
           {
            "cells": {
             "fill": {
              "color": "#EBF0F8"
             },
             "line": {
              "color": "white"
             }
            },
            "header": {
             "fill": {
              "color": "#C8D4E3"
             },
             "line": {
              "color": "white"
             }
            },
            "type": "table"
           }
          ]
         },
         "layout": {
          "annotationdefaults": {
           "arrowcolor": "#2a3f5f",
           "arrowhead": 0,
           "arrowwidth": 1
          },
          "autotypenumbers": "strict",
          "coloraxis": {
           "colorbar": {
            "outlinewidth": 0,
            "ticks": ""
           }
          },
          "colorscale": {
           "diverging": [
            [
             0,
             "#8e0152"
            ],
            [
             0.1,
             "#c51b7d"
            ],
            [
             0.2,
             "#de77ae"
            ],
            [
             0.3,
             "#f1b6da"
            ],
            [
             0.4,
             "#fde0ef"
            ],
            [
             0.5,
             "#f7f7f7"
            ],
            [
             0.6,
             "#e6f5d0"
            ],
            [
             0.7,
             "#b8e186"
            ],
            [
             0.8,
             "#7fbc41"
            ],
            [
             0.9,
             "#4d9221"
            ],
            [
             1,
             "#276419"
            ]
           ],
           "sequential": [
            [
             0,
             "#0d0887"
            ],
            [
             0.1111111111111111,
             "#46039f"
            ],
            [
             0.2222222222222222,
             "#7201a8"
            ],
            [
             0.3333333333333333,
             "#9c179e"
            ],
            [
             0.4444444444444444,
             "#bd3786"
            ],
            [
             0.5555555555555556,
             "#d8576b"
            ],
            [
             0.6666666666666666,
             "#ed7953"
            ],
            [
             0.7777777777777778,
             "#fb9f3a"
            ],
            [
             0.8888888888888888,
             "#fdca26"
            ],
            [
             1,
             "#f0f921"
            ]
           ],
           "sequentialminus": [
            [
             0,
             "#0d0887"
            ],
            [
             0.1111111111111111,
             "#46039f"
            ],
            [
             0.2222222222222222,
             "#7201a8"
            ],
            [
             0.3333333333333333,
             "#9c179e"
            ],
            [
             0.4444444444444444,
             "#bd3786"
            ],
            [
             0.5555555555555556,
             "#d8576b"
            ],
            [
             0.6666666666666666,
             "#ed7953"
            ],
            [
             0.7777777777777778,
             "#fb9f3a"
            ],
            [
             0.8888888888888888,
             "#fdca26"
            ],
            [
             1,
             "#f0f921"
            ]
           ]
          },
          "colorway": [
           "#636efa",
           "#EF553B",
           "#00cc96",
           "#ab63fa",
           "#FFA15A",
           "#19d3f3",
           "#FF6692",
           "#B6E880",
           "#FF97FF",
           "#FECB52"
          ],
          "font": {
           "color": "#2a3f5f"
          },
          "geo": {
           "bgcolor": "white",
           "lakecolor": "white",
           "landcolor": "#E5ECF6",
           "showlakes": true,
           "showland": true,
           "subunitcolor": "white"
          },
          "hoverlabel": {
           "align": "left"
          },
          "hovermode": "closest",
          "mapbox": {
           "style": "light"
          },
          "paper_bgcolor": "white",
          "plot_bgcolor": "#E5ECF6",
          "polar": {
           "angularaxis": {
            "gridcolor": "white",
            "linecolor": "white",
            "ticks": ""
           },
           "bgcolor": "#E5ECF6",
           "radialaxis": {
            "gridcolor": "white",
            "linecolor": "white",
            "ticks": ""
           }
          },
          "scene": {
           "xaxis": {
            "backgroundcolor": "#E5ECF6",
            "gridcolor": "white",
            "gridwidth": 2,
            "linecolor": "white",
            "showbackground": true,
            "ticks": "",
            "zerolinecolor": "white"
           },
           "yaxis": {
            "backgroundcolor": "#E5ECF6",
            "gridcolor": "white",
            "gridwidth": 2,
            "linecolor": "white",
            "showbackground": true,
            "ticks": "",
            "zerolinecolor": "white"
           },
           "zaxis": {
            "backgroundcolor": "#E5ECF6",
            "gridcolor": "white",
            "gridwidth": 2,
            "linecolor": "white",
            "showbackground": true,
            "ticks": "",
            "zerolinecolor": "white"
           }
          },
          "shapedefaults": {
           "line": {
            "color": "#2a3f5f"
           }
          },
          "ternary": {
           "aaxis": {
            "gridcolor": "white",
            "linecolor": "white",
            "ticks": ""
           },
           "baxis": {
            "gridcolor": "white",
            "linecolor": "white",
            "ticks": ""
           },
           "bgcolor": "#E5ECF6",
           "caxis": {
            "gridcolor": "white",
            "linecolor": "white",
            "ticks": ""
           }
          },
          "title": {
           "x": 0.05
          },
          "xaxis": {
           "automargin": true,
           "gridcolor": "white",
           "linecolor": "white",
           "ticks": "",
           "title": {
            "standoff": 15
           },
           "zerolinecolor": "white",
           "zerolinewidth": 2
          },
          "yaxis": {
           "automargin": true,
           "gridcolor": "white",
           "linecolor": "white",
           "ticks": "",
           "title": {
            "standoff": 15
           },
           "zerolinecolor": "white",
           "zerolinewidth": 2
          }
         }
        },
        "title": {
         "text": "Mean Usage Frequency by Department and Gender"
        },
        "xaxis": {
         "anchor": "y",
         "domain": [
          0,
          1
         ],
         "title": {
          "text": "Department"
         }
        },
        "yaxis": {
         "anchor": "x",
         "domain": [
          0,
          1
         ],
         "title": {
          "text": "mean"
         }
        }
       }
      }
     },
     "metadata": {},
     "output_type": "display_data"
    },
    {
     "data": {
      "application/vnd.plotly.v1+json": {
       "config": {
        "plotlyServerURL": "https://plot.ly"
       },
       "data": [
        {
         "alignmentgroup": "True",
         "customdata": [
          [
           "Female"
          ],
          [
           "Female"
          ],
          [
           "Female"
          ],
          [
           "Female"
          ],
          [
           "Female"
          ],
          [
           "Male"
          ],
          [
           "Male"
          ],
          [
           "Male"
          ],
          [
           "Male"
          ],
          [
           "Male"
          ],
          [
           "Non-Binary"
          ],
          [
           "Non-Binary"
          ],
          [
           "Non-Binary"
          ],
          [
           "Non-Binary"
          ],
          [
           "Non-Binary"
          ]
         ],
         "hovertemplate": "tenure_group=16-25<br>Department=%{x}<br>mean=%{y}<br>Gender=%{customdata[0]}<extra></extra>",
         "legendgroup": "16-25",
         "marker": {
          "color": "rgb(228,26,28)",
          "pattern": {
           "shape": ""
          }
         },
         "name": "16-25",
         "offsetgroup": "16-25",
         "orientation": "v",
         "showlegend": true,
         "textposition": "auto",
         "type": "bar",
         "x": [
          "Finance",
          "HR",
          "IT",
          "Marketing",
          "Sales",
          "Finance",
          "HR",
          "IT",
          "Marketing",
          "Sales",
          "Finance",
          "HR",
          "IT",
          "Marketing",
          "Sales"
         ],
         "xaxis": "x",
         "y": {
          "bdata": "I0rAIkrACkBJkiRJkiQNQFCKehmJ1QhAfBG6F6F7CUC9U9dycLMLQIZYURofmQhAh9QE463sB0BS2o2AlHYLQFNPxm+XegpAy4RtEJzKDEAUO7ETO7HzPwAAAAAAAApAAAAAAAAACEAAAAAAAAAMQKuqqqqqqvo/",
          "dtype": "f8"
         },
         "yaxis": "y"
        },
        {
         "alignmentgroup": "True",
         "customdata": [
          [
           "Female"
          ],
          [
           "Female"
          ],
          [
           "Female"
          ],
          [
           "Female"
          ],
          [
           "Female"
          ],
          [
           "Male"
          ],
          [
           "Male"
          ],
          [
           "Male"
          ],
          [
           "Male"
          ],
          [
           "Male"
          ],
          [
           "Non-Binary"
          ],
          [
           "Non-Binary"
          ],
          [
           "Non-Binary"
          ],
          [
           "Non-Binary"
          ],
          [
           "Non-Binary"
          ]
         ],
         "hovertemplate": "tenure_group=5-15<br>Department=%{x}<br>mean=%{y}<br>Gender=%{customdata[0]}<extra></extra>",
         "legendgroup": "5-15",
         "marker": {
          "color": "rgb(55,126,184)",
          "pattern": {
           "shape": ""
          }
         },
         "name": "5-15",
         "offsetgroup": "5-15",
         "orientation": "v",
         "showlegend": true,
         "textposition": "auto",
         "type": "bar",
         "x": [
          "Finance",
          "HR",
          "IT",
          "Marketing",
          "Sales",
          "Finance",
          "HR",
          "IT",
          "Marketing",
          "Sales",
          "Finance",
          "HR",
          "IT",
          "Marketing",
          "Sales"
         ],
         "xaxis": "x",
         "y": {
          "bdata": "pPr7vE26C0DEkWAG4XELQGgWeVJLsgpAI3JLdyMtCkDJQE/OCN4JQHXKH3XKHwlALt/yLd/yCEDLNVA1jfILQJDntxHBbApAyAjpxSEKC0BGF1100UURQD3P8zzP8xBAkiRJkiRJEkDT0tLS0tIKQCVJkiRJkvw/",
          "dtype": "f8"
         },
         "yaxis": "y"
        },
        {
         "alignmentgroup": "True",
         "customdata": [
          [
           "Female"
          ],
          [
           "Female"
          ],
          [
           "Female"
          ],
          [
           "Female"
          ],
          [
           "Female"
          ],
          [
           "Male"
          ],
          [
           "Male"
          ],
          [
           "Male"
          ],
          [
           "Male"
          ],
          [
           "Male"
          ],
          [
           "Non-Binary"
          ],
          [
           "Non-Binary"
          ],
          [
           "Non-Binary"
          ],
          [
           "Non-Binary"
          ],
          [
           "Non-Binary"
          ]
         ],
         "hovertemplate": "tenure_group=<5<br>Department=%{x}<br>mean=%{y}<br>Gender=%{customdata[0]}<extra></extra>",
         "legendgroup": "<5",
         "marker": {
          "color": "rgb(77,175,74)",
          "pattern": {
           "shape": ""
          }
         },
         "name": "<5",
         "offsetgroup": "<5",
         "orientation": "v",
         "showlegend": true,
         "textposition": "auto",
         "type": "bar",
         "x": [
          "Finance",
          "HR",
          "IT",
          "Marketing",
          "Sales",
          "Finance",
          "HR",
          "IT",
          "Marketing",
          "Sales",
          "Finance",
          "HR",
          "IT",
          "Marketing",
          "Sales"
         ],
         "xaxis": "x",
         "y": {
          "bdata": "xvIRQ7fiCECn4OUUvJwKQJzUfXlsRQxA39mo72zUBUDSLdIt0i0KQCxRuxK1Kw1ApqWlpaWlDUCO4ziO4zgOQL+FgFGqyQtARC4rBkp4C0AAAAAAAAAIQAAAAAAAAAZAh/IaymsoB0AAAAAAAAAQQAAAAAAAABNA",
          "dtype": "f8"
         },
         "yaxis": "y"
        },
        {
         "alignmentgroup": "True",
         "customdata": [
          [
           "Female"
          ],
          [
           "Female"
          ],
          [
           "Female"
          ],
          [
           "Female"
          ],
          [
           "Female"
          ],
          [
           "Male"
          ],
          [
           "Male"
          ],
          [
           "Male"
          ],
          [
           "Male"
          ],
          [
           "Male"
          ],
          [
           "Non-Binary"
          ],
          [
           "Non-Binary"
          ],
          [
           "Non-Binary"
          ]
         ],
         "hovertemplate": "tenure_group=>25<br>Department=%{x}<br>mean=%{y}<br>Gender=%{customdata[0]}<extra></extra>",
         "legendgroup": ">25",
         "marker": {
          "color": "rgb(152,78,163)",
          "pattern": {
           "shape": ""
          }
         },
         "name": ">25",
         "offsetgroup": ">25",
         "orientation": "v",
         "showlegend": true,
         "textposition": "auto",
         "type": "bar",
         "x": [
          "Finance",
          "HR",
          "IT",
          "Marketing",
          "Sales",
          "Finance",
          "HR",
          "IT",
          "Marketing",
          "Sales",
          "Finance",
          "HR",
          "IT"
         ],
         "xaxis": "x",
         "y": {
          "bdata": "8MEHH3zwC0CXDME62rwPQLKQhSxkIQtAyDURyDURCECSRx555JEHQODkb/I3+QtASZIkSZIkDUAH71sjq8sIQIJwN/Y9Ig9AIBAIBAKBCEAAAAAAAADwP2ZmZmZmZgZAzczMzMzM/D8=",
          "dtype": "f8"
         },
         "yaxis": "y"
        }
       ],
       "layout": {
        "barmode": "group",
        "legend": {
         "title": {
          "text": "tenure_group"
         },
         "tracegroupgap": 0
        },
        "template": {
         "data": {
          "bar": [
           {
            "error_x": {
             "color": "#2a3f5f"
            },
            "error_y": {
             "color": "#2a3f5f"
            },
            "marker": {
             "line": {
              "color": "#E5ECF6",
              "width": 0.5
             },
             "pattern": {
              "fillmode": "overlay",
              "size": 10,
              "solidity": 0.2
             }
            },
            "type": "bar"
           }
          ],
          "barpolar": [
           {
            "marker": {
             "line": {
              "color": "#E5ECF6",
              "width": 0.5
             },
             "pattern": {
              "fillmode": "overlay",
              "size": 10,
              "solidity": 0.2
             }
            },
            "type": "barpolar"
           }
          ],
          "carpet": [
           {
            "aaxis": {
             "endlinecolor": "#2a3f5f",
             "gridcolor": "white",
             "linecolor": "white",
             "minorgridcolor": "white",
             "startlinecolor": "#2a3f5f"
            },
            "baxis": {
             "endlinecolor": "#2a3f5f",
             "gridcolor": "white",
             "linecolor": "white",
             "minorgridcolor": "white",
             "startlinecolor": "#2a3f5f"
            },
            "type": "carpet"
           }
          ],
          "choropleth": [
           {
            "colorbar": {
             "outlinewidth": 0,
             "ticks": ""
            },
            "type": "choropleth"
           }
          ],
          "contour": [
           {
            "colorbar": {
             "outlinewidth": 0,
             "ticks": ""
            },
            "colorscale": [
             [
              0,
              "#0d0887"
             ],
             [
              0.1111111111111111,
              "#46039f"
             ],
             [
              0.2222222222222222,
              "#7201a8"
             ],
             [
              0.3333333333333333,
              "#9c179e"
             ],
             [
              0.4444444444444444,
              "#bd3786"
             ],
             [
              0.5555555555555556,
              "#d8576b"
             ],
             [
              0.6666666666666666,
              "#ed7953"
             ],
             [
              0.7777777777777778,
              "#fb9f3a"
             ],
             [
              0.8888888888888888,
              "#fdca26"
             ],
             [
              1,
              "#f0f921"
             ]
            ],
            "type": "contour"
           }
          ],
          "contourcarpet": [
           {
            "colorbar": {
             "outlinewidth": 0,
             "ticks": ""
            },
            "type": "contourcarpet"
           }
          ],
          "heatmap": [
           {
            "colorbar": {
             "outlinewidth": 0,
             "ticks": ""
            },
            "colorscale": [
             [
              0,
              "#0d0887"
             ],
             [
              0.1111111111111111,
              "#46039f"
             ],
             [
              0.2222222222222222,
              "#7201a8"
             ],
             [
              0.3333333333333333,
              "#9c179e"
             ],
             [
              0.4444444444444444,
              "#bd3786"
             ],
             [
              0.5555555555555556,
              "#d8576b"
             ],
             [
              0.6666666666666666,
              "#ed7953"
             ],
             [
              0.7777777777777778,
              "#fb9f3a"
             ],
             [
              0.8888888888888888,
              "#fdca26"
             ],
             [
              1,
              "#f0f921"
             ]
            ],
            "type": "heatmap"
           }
          ],
          "histogram": [
           {
            "marker": {
             "pattern": {
              "fillmode": "overlay",
              "size": 10,
              "solidity": 0.2
             }
            },
            "type": "histogram"
           }
          ],
          "histogram2d": [
           {
            "colorbar": {
             "outlinewidth": 0,
             "ticks": ""
            },
            "colorscale": [
             [
              0,
              "#0d0887"
             ],
             [
              0.1111111111111111,
              "#46039f"
             ],
             [
              0.2222222222222222,
              "#7201a8"
             ],
             [
              0.3333333333333333,
              "#9c179e"
             ],
             [
              0.4444444444444444,
              "#bd3786"
             ],
             [
              0.5555555555555556,
              "#d8576b"
             ],
             [
              0.6666666666666666,
              "#ed7953"
             ],
             [
              0.7777777777777778,
              "#fb9f3a"
             ],
             [
              0.8888888888888888,
              "#fdca26"
             ],
             [
              1,
              "#f0f921"
             ]
            ],
            "type": "histogram2d"
           }
          ],
          "histogram2dcontour": [
           {
            "colorbar": {
             "outlinewidth": 0,
             "ticks": ""
            },
            "colorscale": [
             [
              0,
              "#0d0887"
             ],
             [
              0.1111111111111111,
              "#46039f"
             ],
             [
              0.2222222222222222,
              "#7201a8"
             ],
             [
              0.3333333333333333,
              "#9c179e"
             ],
             [
              0.4444444444444444,
              "#bd3786"
             ],
             [
              0.5555555555555556,
              "#d8576b"
             ],
             [
              0.6666666666666666,
              "#ed7953"
             ],
             [
              0.7777777777777778,
              "#fb9f3a"
             ],
             [
              0.8888888888888888,
              "#fdca26"
             ],
             [
              1,
              "#f0f921"
             ]
            ],
            "type": "histogram2dcontour"
           }
          ],
          "mesh3d": [
           {
            "colorbar": {
             "outlinewidth": 0,
             "ticks": ""
            },
            "type": "mesh3d"
           }
          ],
          "parcoords": [
           {
            "line": {
             "colorbar": {
              "outlinewidth": 0,
              "ticks": ""
             }
            },
            "type": "parcoords"
           }
          ],
          "pie": [
           {
            "automargin": true,
            "type": "pie"
           }
          ],
          "scatter": [
           {
            "fillpattern": {
             "fillmode": "overlay",
             "size": 10,
             "solidity": 0.2
            },
            "type": "scatter"
           }
          ],
          "scatter3d": [
           {
            "line": {
             "colorbar": {
              "outlinewidth": 0,
              "ticks": ""
             }
            },
            "marker": {
             "colorbar": {
              "outlinewidth": 0,
              "ticks": ""
             }
            },
            "type": "scatter3d"
           }
          ],
          "scattercarpet": [
           {
            "marker": {
             "colorbar": {
              "outlinewidth": 0,
              "ticks": ""
             }
            },
            "type": "scattercarpet"
           }
          ],
          "scattergeo": [
           {
            "marker": {
             "colorbar": {
              "outlinewidth": 0,
              "ticks": ""
             }
            },
            "type": "scattergeo"
           }
          ],
          "scattergl": [
           {
            "marker": {
             "colorbar": {
              "outlinewidth": 0,
              "ticks": ""
             }
            },
            "type": "scattergl"
           }
          ],
          "scattermap": [
           {
            "marker": {
             "colorbar": {
              "outlinewidth": 0,
              "ticks": ""
             }
            },
            "type": "scattermap"
           }
          ],
          "scattermapbox": [
           {
            "marker": {
             "colorbar": {
              "outlinewidth": 0,
              "ticks": ""
             }
            },
            "type": "scattermapbox"
           }
          ],
          "scatterpolar": [
           {
            "marker": {
             "colorbar": {
              "outlinewidth": 0,
              "ticks": ""
             }
            },
            "type": "scatterpolar"
           }
          ],
          "scatterpolargl": [
           {
            "marker": {
             "colorbar": {
              "outlinewidth": 0,
              "ticks": ""
             }
            },
            "type": "scatterpolargl"
           }
          ],
          "scatterternary": [
           {
            "marker": {
             "colorbar": {
              "outlinewidth": 0,
              "ticks": ""
             }
            },
            "type": "scatterternary"
           }
          ],
          "surface": [
           {
            "colorbar": {
             "outlinewidth": 0,
             "ticks": ""
            },
            "colorscale": [
             [
              0,
              "#0d0887"
             ],
             [
              0.1111111111111111,
              "#46039f"
             ],
             [
              0.2222222222222222,
              "#7201a8"
             ],
             [
              0.3333333333333333,
              "#9c179e"
             ],
             [
              0.4444444444444444,
              "#bd3786"
             ],
             [
              0.5555555555555556,
              "#d8576b"
             ],
             [
              0.6666666666666666,
              "#ed7953"
             ],
             [
              0.7777777777777778,
              "#fb9f3a"
             ],
             [
              0.8888888888888888,
              "#fdca26"
             ],
             [
              1,
              "#f0f921"
             ]
            ],
            "type": "surface"
           }
          ],
          "table": [
           {
            "cells": {
             "fill": {
              "color": "#EBF0F8"
             },
             "line": {
              "color": "white"
             }
            },
            "header": {
             "fill": {
              "color": "#C8D4E3"
             },
             "line": {
              "color": "white"
             }
            },
            "type": "table"
           }
          ]
         },
         "layout": {
          "annotationdefaults": {
           "arrowcolor": "#2a3f5f",
           "arrowhead": 0,
           "arrowwidth": 1
          },
          "autotypenumbers": "strict",
          "coloraxis": {
           "colorbar": {
            "outlinewidth": 0,
            "ticks": ""
           }
          },
          "colorscale": {
           "diverging": [
            [
             0,
             "#8e0152"
            ],
            [
             0.1,
             "#c51b7d"
            ],
            [
             0.2,
             "#de77ae"
            ],
            [
             0.3,
             "#f1b6da"
            ],
            [
             0.4,
             "#fde0ef"
            ],
            [
             0.5,
             "#f7f7f7"
            ],
            [
             0.6,
             "#e6f5d0"
            ],
            [
             0.7,
             "#b8e186"
            ],
            [
             0.8,
             "#7fbc41"
            ],
            [
             0.9,
             "#4d9221"
            ],
            [
             1,
             "#276419"
            ]
           ],
           "sequential": [
            [
             0,
             "#0d0887"
            ],
            [
             0.1111111111111111,
             "#46039f"
            ],
            [
             0.2222222222222222,
             "#7201a8"
            ],
            [
             0.3333333333333333,
             "#9c179e"
            ],
            [
             0.4444444444444444,
             "#bd3786"
            ],
            [
             0.5555555555555556,
             "#d8576b"
            ],
            [
             0.6666666666666666,
             "#ed7953"
            ],
            [
             0.7777777777777778,
             "#fb9f3a"
            ],
            [
             0.8888888888888888,
             "#fdca26"
            ],
            [
             1,
             "#f0f921"
            ]
           ],
           "sequentialminus": [
            [
             0,
             "#0d0887"
            ],
            [
             0.1111111111111111,
             "#46039f"
            ],
            [
             0.2222222222222222,
             "#7201a8"
            ],
            [
             0.3333333333333333,
             "#9c179e"
            ],
            [
             0.4444444444444444,
             "#bd3786"
            ],
            [
             0.5555555555555556,
             "#d8576b"
            ],
            [
             0.6666666666666666,
             "#ed7953"
            ],
            [
             0.7777777777777778,
             "#fb9f3a"
            ],
            [
             0.8888888888888888,
             "#fdca26"
            ],
            [
             1,
             "#f0f921"
            ]
           ]
          },
          "colorway": [
           "#636efa",
           "#EF553B",
           "#00cc96",
           "#ab63fa",
           "#FFA15A",
           "#19d3f3",
           "#FF6692",
           "#B6E880",
           "#FF97FF",
           "#FECB52"
          ],
          "font": {
           "color": "#2a3f5f"
          },
          "geo": {
           "bgcolor": "white",
           "lakecolor": "white",
           "landcolor": "#E5ECF6",
           "showlakes": true,
           "showland": true,
           "subunitcolor": "white"
          },
          "hoverlabel": {
           "align": "left"
          },
          "hovermode": "closest",
          "mapbox": {
           "style": "light"
          },
          "paper_bgcolor": "white",
          "plot_bgcolor": "#E5ECF6",
          "polar": {
           "angularaxis": {
            "gridcolor": "white",
            "linecolor": "white",
            "ticks": ""
           },
           "bgcolor": "#E5ECF6",
           "radialaxis": {
            "gridcolor": "white",
            "linecolor": "white",
            "ticks": ""
           }
          },
          "scene": {
           "xaxis": {
            "backgroundcolor": "#E5ECF6",
            "gridcolor": "white",
            "gridwidth": 2,
            "linecolor": "white",
            "showbackground": true,
            "ticks": "",
            "zerolinecolor": "white"
           },
           "yaxis": {
            "backgroundcolor": "#E5ECF6",
            "gridcolor": "white",
            "gridwidth": 2,
            "linecolor": "white",
            "showbackground": true,
            "ticks": "",
            "zerolinecolor": "white"
           },
           "zaxis": {
            "backgroundcolor": "#E5ECF6",
            "gridcolor": "white",
            "gridwidth": 2,
            "linecolor": "white",
            "showbackground": true,
            "ticks": "",
            "zerolinecolor": "white"
           }
          },
          "shapedefaults": {
           "line": {
            "color": "#2a3f5f"
           }
          },
          "ternary": {
           "aaxis": {
            "gridcolor": "white",
            "linecolor": "white",
            "ticks": ""
           },
           "baxis": {
            "gridcolor": "white",
            "linecolor": "white",
            "ticks": ""
           },
           "bgcolor": "#E5ECF6",
           "caxis": {
            "gridcolor": "white",
            "linecolor": "white",
            "ticks": ""
           }
          },
          "title": {
           "x": 0.05
          },
          "xaxis": {
           "automargin": true,
           "gridcolor": "white",
           "linecolor": "white",
           "ticks": "",
           "title": {
            "standoff": 15
           },
           "zerolinecolor": "white",
           "zerolinewidth": 2
          },
          "yaxis": {
           "automargin": true,
           "gridcolor": "white",
           "linecolor": "white",
           "ticks": "",
           "title": {
            "standoff": 15
           },
           "zerolinecolor": "white",
           "zerolinewidth": 2
          }
         }
        },
        "title": {
         "text": "Mean UsageFrequency by Department and Tenure Group"
        },
        "xaxis": {
         "anchor": "y",
         "domain": [
          0,
          1
         ],
         "title": {
          "text": "Department"
         }
        },
        "yaxis": {
         "anchor": "x",
         "domain": [
          0,
          1
         ],
         "title": {
          "text": "mean"
         }
        }
       }
      }
     },
     "metadata": {},
     "output_type": "display_data"
    },
    {
     "data": {
      "application/vnd.plotly.v1+json": {
       "config": {
        "plotlyServerURL": "https://plot.ly"
       },
       "data": [
        {
         "hovertemplate": "age_group=18-25<br>Department=%{x}<br>mean=%{y}<extra></extra>",
         "legendgroup": "18-25",
         "marker": {
          "color": "rgb(153,153,153)",
          "pattern": {
           "shape": ""
          }
         },
         "name": "18-25",
         "orientation": "v",
         "showlegend": true,
         "textposition": "auto",
         "type": "bar",
         "x": [
          "Finance",
          "HR",
          "IT",
          "Marketing",
          "Sales"
         ],
         "xaxis": "x",
         "y": {
          "bdata": "zCI+gVRyCkBXBA0ndV8KQAdx8+Q7MgxADhw4cODABUDmBDyfHjcLQA==",
          "dtype": "f8"
         },
         "yaxis": "y"
        },
        {
         "hovertemplate": "age_group=26-41<br>Department=%{x}<br>mean=%{y}<extra></extra>",
         "legendgroup": "26-41",
         "marker": {
          "color": "rgb(247,129,191)",
          "pattern": {
           "shape": ""
          }
         },
         "name": "26-41",
         "orientation": "v",
         "showlegend": true,
         "textposition": "auto",
         "type": "bar",
         "x": [
          "Finance",
          "HR",
          "IT",
          "Marketing",
          "Sales"
         ],
         "xaxis": "x",
         "y": {
          "bdata": "MVNUzY0VC0Cg0wY6baALQM4NimTtRQtA2IIt2IKtCUAw6Av6gr4JQA==",
          "dtype": "f8"
         },
         "yaxis": "y"
        },
        {
         "hovertemplate": "age_group=42-57<br>Department=%{x}<br>mean=%{y}<extra></extra>",
         "legendgroup": "42-57",
         "marker": {
          "color": "rgb(166,86,40)",
          "pattern": {
           "shape": ""
          }
         },
         "name": "42-57",
         "orientation": "v",
         "showlegend": true,
         "textposition": "auto",
         "type": "bar",
         "x": [
          "Finance",
          "HR",
          "IT",
          "Marketing",
          "Sales"
         ],
         "xaxis": "x",
         "y": {
          "bdata": "C53BCp3BCkAE/oA/4A8MQBZ01utqewpAwO9Ivj1RC0AAAAAAACALQA==",
          "dtype": "f8"
         },
         "yaxis": "y"
        },
        {
         "hovertemplate": "age_group=58+<br>Department=%{x}<br>mean=%{y}<extra></extra>",
         "legendgroup": "58+",
         "marker": {
          "color": "rgb(255,255,51)",
          "pattern": {
           "shape": ""
          }
         },
         "name": "58+",
         "orientation": "v",
         "showlegend": true,
         "textposition": "auto",
         "type": "bar",
         "x": [
          "Finance",
          "HR",
          "IT",
          "Marketing",
          "Sales"
         ],
         "xaxis": "x",
         "y": {
          "bdata": "0pSKsw+fCUDCIRzCIRwKQPZjP/ZjPwxAdCopIOEnC0CDKfJZN5gKQA==",
          "dtype": "f8"
         },
         "yaxis": "y"
        }
       ],
       "layout": {
        "barmode": "stack",
        "legend": {
         "title": {
          "text": "age_group"
         },
         "tracegroupgap": 0
        },
        "template": {
         "data": {
          "bar": [
           {
            "error_x": {
             "color": "#2a3f5f"
            },
            "error_y": {
             "color": "#2a3f5f"
            },
            "marker": {
             "line": {
              "color": "#E5ECF6",
              "width": 0.5
             },
             "pattern": {
              "fillmode": "overlay",
              "size": 10,
              "solidity": 0.2
             }
            },
            "type": "bar"
           }
          ],
          "barpolar": [
           {
            "marker": {
             "line": {
              "color": "#E5ECF6",
              "width": 0.5
             },
             "pattern": {
              "fillmode": "overlay",
              "size": 10,
              "solidity": 0.2
             }
            },
            "type": "barpolar"
           }
          ],
          "carpet": [
           {
            "aaxis": {
             "endlinecolor": "#2a3f5f",
             "gridcolor": "white",
             "linecolor": "white",
             "minorgridcolor": "white",
             "startlinecolor": "#2a3f5f"
            },
            "baxis": {
             "endlinecolor": "#2a3f5f",
             "gridcolor": "white",
             "linecolor": "white",
             "minorgridcolor": "white",
             "startlinecolor": "#2a3f5f"
            },
            "type": "carpet"
           }
          ],
          "choropleth": [
           {
            "colorbar": {
             "outlinewidth": 0,
             "ticks": ""
            },
            "type": "choropleth"
           }
          ],
          "contour": [
           {
            "colorbar": {
             "outlinewidth": 0,
             "ticks": ""
            },
            "colorscale": [
             [
              0,
              "#0d0887"
             ],
             [
              0.1111111111111111,
              "#46039f"
             ],
             [
              0.2222222222222222,
              "#7201a8"
             ],
             [
              0.3333333333333333,
              "#9c179e"
             ],
             [
              0.4444444444444444,
              "#bd3786"
             ],
             [
              0.5555555555555556,
              "#d8576b"
             ],
             [
              0.6666666666666666,
              "#ed7953"
             ],
             [
              0.7777777777777778,
              "#fb9f3a"
             ],
             [
              0.8888888888888888,
              "#fdca26"
             ],
             [
              1,
              "#f0f921"
             ]
            ],
            "type": "contour"
           }
          ],
          "contourcarpet": [
           {
            "colorbar": {
             "outlinewidth": 0,
             "ticks": ""
            },
            "type": "contourcarpet"
           }
          ],
          "heatmap": [
           {
            "colorbar": {
             "outlinewidth": 0,
             "ticks": ""
            },
            "colorscale": [
             [
              0,
              "#0d0887"
             ],
             [
              0.1111111111111111,
              "#46039f"
             ],
             [
              0.2222222222222222,
              "#7201a8"
             ],
             [
              0.3333333333333333,
              "#9c179e"
             ],
             [
              0.4444444444444444,
              "#bd3786"
             ],
             [
              0.5555555555555556,
              "#d8576b"
             ],
             [
              0.6666666666666666,
              "#ed7953"
             ],
             [
              0.7777777777777778,
              "#fb9f3a"
             ],
             [
              0.8888888888888888,
              "#fdca26"
             ],
             [
              1,
              "#f0f921"
             ]
            ],
            "type": "heatmap"
           }
          ],
          "histogram": [
           {
            "marker": {
             "pattern": {
              "fillmode": "overlay",
              "size": 10,
              "solidity": 0.2
             }
            },
            "type": "histogram"
           }
          ],
          "histogram2d": [
           {
            "colorbar": {
             "outlinewidth": 0,
             "ticks": ""
            },
            "colorscale": [
             [
              0,
              "#0d0887"
             ],
             [
              0.1111111111111111,
              "#46039f"
             ],
             [
              0.2222222222222222,
              "#7201a8"
             ],
             [
              0.3333333333333333,
              "#9c179e"
             ],
             [
              0.4444444444444444,
              "#bd3786"
             ],
             [
              0.5555555555555556,
              "#d8576b"
             ],
             [
              0.6666666666666666,
              "#ed7953"
             ],
             [
              0.7777777777777778,
              "#fb9f3a"
             ],
             [
              0.8888888888888888,
              "#fdca26"
             ],
             [
              1,
              "#f0f921"
             ]
            ],
            "type": "histogram2d"
           }
          ],
          "histogram2dcontour": [
           {
            "colorbar": {
             "outlinewidth": 0,
             "ticks": ""
            },
            "colorscale": [
             [
              0,
              "#0d0887"
             ],
             [
              0.1111111111111111,
              "#46039f"
             ],
             [
              0.2222222222222222,
              "#7201a8"
             ],
             [
              0.3333333333333333,
              "#9c179e"
             ],
             [
              0.4444444444444444,
              "#bd3786"
             ],
             [
              0.5555555555555556,
              "#d8576b"
             ],
             [
              0.6666666666666666,
              "#ed7953"
             ],
             [
              0.7777777777777778,
              "#fb9f3a"
             ],
             [
              0.8888888888888888,
              "#fdca26"
             ],
             [
              1,
              "#f0f921"
             ]
            ],
            "type": "histogram2dcontour"
           }
          ],
          "mesh3d": [
           {
            "colorbar": {
             "outlinewidth": 0,
             "ticks": ""
            },
            "type": "mesh3d"
           }
          ],
          "parcoords": [
           {
            "line": {
             "colorbar": {
              "outlinewidth": 0,
              "ticks": ""
             }
            },
            "type": "parcoords"
           }
          ],
          "pie": [
           {
            "automargin": true,
            "type": "pie"
           }
          ],
          "scatter": [
           {
            "fillpattern": {
             "fillmode": "overlay",
             "size": 10,
             "solidity": 0.2
            },
            "type": "scatter"
           }
          ],
          "scatter3d": [
           {
            "line": {
             "colorbar": {
              "outlinewidth": 0,
              "ticks": ""
             }
            },
            "marker": {
             "colorbar": {
              "outlinewidth": 0,
              "ticks": ""
             }
            },
            "type": "scatter3d"
           }
          ],
          "scattercarpet": [
           {
            "marker": {
             "colorbar": {
              "outlinewidth": 0,
              "ticks": ""
             }
            },
            "type": "scattercarpet"
           }
          ],
          "scattergeo": [
           {
            "marker": {
             "colorbar": {
              "outlinewidth": 0,
              "ticks": ""
             }
            },
            "type": "scattergeo"
           }
          ],
          "scattergl": [
           {
            "marker": {
             "colorbar": {
              "outlinewidth": 0,
              "ticks": ""
             }
            },
            "type": "scattergl"
           }
          ],
          "scattermap": [
           {
            "marker": {
             "colorbar": {
              "outlinewidth": 0,
              "ticks": ""
             }
            },
            "type": "scattermap"
           }
          ],
          "scattermapbox": [
           {
            "marker": {
             "colorbar": {
              "outlinewidth": 0,
              "ticks": ""
             }
            },
            "type": "scattermapbox"
           }
          ],
          "scatterpolar": [
           {
            "marker": {
             "colorbar": {
              "outlinewidth": 0,
              "ticks": ""
             }
            },
            "type": "scatterpolar"
           }
          ],
          "scatterpolargl": [
           {
            "marker": {
             "colorbar": {
              "outlinewidth": 0,
              "ticks": ""
             }
            },
            "type": "scatterpolargl"
           }
          ],
          "scatterternary": [
           {
            "marker": {
             "colorbar": {
              "outlinewidth": 0,
              "ticks": ""
             }
            },
            "type": "scatterternary"
           }
          ],
          "surface": [
           {
            "colorbar": {
             "outlinewidth": 0,
             "ticks": ""
            },
            "colorscale": [
             [
              0,
              "#0d0887"
             ],
             [
              0.1111111111111111,
              "#46039f"
             ],
             [
              0.2222222222222222,
              "#7201a8"
             ],
             [
              0.3333333333333333,
              "#9c179e"
             ],
             [
              0.4444444444444444,
              "#bd3786"
             ],
             [
              0.5555555555555556,
              "#d8576b"
             ],
             [
              0.6666666666666666,
              "#ed7953"
             ],
             [
              0.7777777777777778,
              "#fb9f3a"
             ],
             [
              0.8888888888888888,
              "#fdca26"
             ],
             [
              1,
              "#f0f921"
             ]
            ],
            "type": "surface"
           }
          ],
          "table": [
           {
            "cells": {
             "fill": {
              "color": "#EBF0F8"
             },
             "line": {
              "color": "white"
             }
            },
            "header": {
             "fill": {
              "color": "#C8D4E3"
             },
             "line": {
              "color": "white"
             }
            },
            "type": "table"
           }
          ]
         },
         "layout": {
          "annotationdefaults": {
           "arrowcolor": "#2a3f5f",
           "arrowhead": 0,
           "arrowwidth": 1
          },
          "autotypenumbers": "strict",
          "coloraxis": {
           "colorbar": {
            "outlinewidth": 0,
            "ticks": ""
           }
          },
          "colorscale": {
           "diverging": [
            [
             0,
             "#8e0152"
            ],
            [
             0.1,
             "#c51b7d"
            ],
            [
             0.2,
             "#de77ae"
            ],
            [
             0.3,
             "#f1b6da"
            ],
            [
             0.4,
             "#fde0ef"
            ],
            [
             0.5,
             "#f7f7f7"
            ],
            [
             0.6,
             "#e6f5d0"
            ],
            [
             0.7,
             "#b8e186"
            ],
            [
             0.8,
             "#7fbc41"
            ],
            [
             0.9,
             "#4d9221"
            ],
            [
             1,
             "#276419"
            ]
           ],
           "sequential": [
            [
             0,
             "#0d0887"
            ],
            [
             0.1111111111111111,
             "#46039f"
            ],
            [
             0.2222222222222222,
             "#7201a8"
            ],
            [
             0.3333333333333333,
             "#9c179e"
            ],
            [
             0.4444444444444444,
             "#bd3786"
            ],
            [
             0.5555555555555556,
             "#d8576b"
            ],
            [
             0.6666666666666666,
             "#ed7953"
            ],
            [
             0.7777777777777778,
             "#fb9f3a"
            ],
            [
             0.8888888888888888,
             "#fdca26"
            ],
            [
             1,
             "#f0f921"
            ]
           ],
           "sequentialminus": [
            [
             0,
             "#0d0887"
            ],
            [
             0.1111111111111111,
             "#46039f"
            ],
            [
             0.2222222222222222,
             "#7201a8"
            ],
            [
             0.3333333333333333,
             "#9c179e"
            ],
            [
             0.4444444444444444,
             "#bd3786"
            ],
            [
             0.5555555555555556,
             "#d8576b"
            ],
            [
             0.6666666666666666,
             "#ed7953"
            ],
            [
             0.7777777777777778,
             "#fb9f3a"
            ],
            [
             0.8888888888888888,
             "#fdca26"
            ],
            [
             1,
             "#f0f921"
            ]
           ]
          },
          "colorway": [
           "#636efa",
           "#EF553B",
           "#00cc96",
           "#ab63fa",
           "#FFA15A",
           "#19d3f3",
           "#FF6692",
           "#B6E880",
           "#FF97FF",
           "#FECB52"
          ],
          "font": {
           "color": "#2a3f5f"
          },
          "geo": {
           "bgcolor": "white",
           "lakecolor": "white",
           "landcolor": "#E5ECF6",
           "showlakes": true,
           "showland": true,
           "subunitcolor": "white"
          },
          "hoverlabel": {
           "align": "left"
          },
          "hovermode": "closest",
          "mapbox": {
           "style": "light"
          },
          "paper_bgcolor": "white",
          "plot_bgcolor": "#E5ECF6",
          "polar": {
           "angularaxis": {
            "gridcolor": "white",
            "linecolor": "white",
            "ticks": ""
           },
           "bgcolor": "#E5ECF6",
           "radialaxis": {
            "gridcolor": "white",
            "linecolor": "white",
            "ticks": ""
           }
          },
          "scene": {
           "xaxis": {
            "backgroundcolor": "#E5ECF6",
            "gridcolor": "white",
            "gridwidth": 2,
            "linecolor": "white",
            "showbackground": true,
            "ticks": "",
            "zerolinecolor": "white"
           },
           "yaxis": {
            "backgroundcolor": "#E5ECF6",
            "gridcolor": "white",
            "gridwidth": 2,
            "linecolor": "white",
            "showbackground": true,
            "ticks": "",
            "zerolinecolor": "white"
           },
           "zaxis": {
            "backgroundcolor": "#E5ECF6",
            "gridcolor": "white",
            "gridwidth": 2,
            "linecolor": "white",
            "showbackground": true,
            "ticks": "",
            "zerolinecolor": "white"
           }
          },
          "shapedefaults": {
           "line": {
            "color": "#2a3f5f"
           }
          },
          "ternary": {
           "aaxis": {
            "gridcolor": "white",
            "linecolor": "white",
            "ticks": ""
           },
           "baxis": {
            "gridcolor": "white",
            "linecolor": "white",
            "ticks": ""
           },
           "bgcolor": "#E5ECF6",
           "caxis": {
            "gridcolor": "white",
            "linecolor": "white",
            "ticks": ""
           }
          },
          "title": {
           "x": 0.05
          },
          "xaxis": {
           "automargin": true,
           "gridcolor": "white",
           "linecolor": "white",
           "ticks": "",
           "title": {
            "standoff": 15
           },
           "zerolinecolor": "white",
           "zerolinewidth": 2
          },
          "yaxis": {
           "automargin": true,
           "gridcolor": "white",
           "linecolor": "white",
           "ticks": "",
           "title": {
            "standoff": 15
           },
           "zerolinecolor": "white",
           "zerolinewidth": 2
          }
         }
        },
        "title": {
         "text": "Mean Usage Frequency by Department and Gender"
        },
        "xaxis": {
         "anchor": "y",
         "domain": [
          0,
          1
         ],
         "title": {
          "text": "Department"
         }
        },
        "yaxis": {
         "anchor": "x",
         "domain": [
          0,
          1
         ],
         "title": {
          "text": "mean"
         }
        }
       }
      }
     },
     "metadata": {},
     "output_type": "display_data"
    }
   ],
   "source": [
    "# Demographic Analysis: Usage by Age, Gender, Department, Tenure\n",
    "import warnings\n",
    "warnings.filterwarnings(\"ignore\")\n",
    "import plotly.express as px\n",
    "\n",
    "# 1. Analyze benefit usage by demographics (Age, Gender, Department, Tenure)\n",
    "# Group by demographic features and calculate usage statistics\n",
    "demographics_usage = merged.groupby(['age_group', 'Gender', 'Department', 'tenure_group'])['UsageFrequency'].agg(['mean', 'median', 'std', 'count']).reset_index()\n",
    "demographics_usage  # View summary statistics\n",
    "\n",
    "from plotly.subplots import make_subplots\n",
    "import plotly.graph_objects as go\n",
    "\n",
    "# categories = ['age_group', 'Gender', 'Department', 'tenure_group']\n",
    "# fig = make_subplots(rows=2, cols=2, subplot_titles=categories)\n",
    "\n",
    "# for i, cat in enumerate(categories):\n",
    "#     row = i // 2 + 1\n",
    "#     col = i % 2 + 1\n",
    "#     fig.add_trace(\n",
    "#         go.Box(\n",
    "#             y=merged['UsageFrequency'],\n",
    "#             x=merged[cat],\n",
    "#             name=cat,\n",
    "#             hovertemplate='UsageFrequency: %{y:.2f}<br>' + ': %{x}<extra></extra>'\n",
    "#         ),\n",
    "#         row=row, col=col\n",
    "#     )\n",
    "\n",
    "# fig.update_layout(\n",
    "#     height=800,\n",
    "#     width=1000,\n",
    "#     title_text='UsageFrequency Distribution by Demographic Categories',\n",
    "#     yaxis=dict(tickformat=\".2f\"),\n",
    "#     yaxis2=dict(tickformat=\".2f\"),\n",
    "#     yaxis3=dict(tickformat=\".2f\"),\n",
    "#     yaxis4=dict(tickformat=\".2f\")\n",
    "# )\n",
    "# fig.show()\n",
    "\n",
    "# # Compare subtypes across segments (e.g., by age_group, departments)\n",
    "# def construct_barplot(df, groupby_list, x, color):\n",
    "#     df_group = df.groupby(groupby_list)['UsageFrequency'].mean().reset_index()\n",
    "#     return px.bar(df_group, x=x, y='UsageFrequency', color=color, barmode='stack', title=f'Usage by {x} and {color}', hover_data=groupby_list), df_group\n",
    "\n",
    "# def compare_x_y_heatmap(df, groupby_list, x, y, color='Avg UsageFrequency'):\n",
    "#     subtype_df = df.groupby(groupby_list)['UsageFrequency'].mean().unstack().reset_index()\n",
    "#     return px.imshow(\n",
    "#                 subtype_df.set_index(y),\n",
    "#                 labels=dict(x=x, y=y, color=\"Avg UsageFrequency\"),\n",
    "#                 title=f'{x} Usage Heatmap by {y}',\n",
    "#                 aspect=\"auto\",\n",
    "#             ).show(), subtype_df.set_index(y)\n",
    "\n",
    "# Visualize usage by department and age group and gender\n",
    "fig1 = px.bar(\n",
    "    merged.groupby(['age_group', 'Gender', 'Department'])['UsageFrequency'].agg(['mean']).reset_index(),\n",
    "    x='Department',\n",
    "    y='mean',\n",
    "    color='Gender',\n",
    "    barmode='group',\n",
    "    title='Mean Usage Frequency by Department and Gender',\n",
    "    hover_data=['age_group'],\n",
    "    color_discrete_sequence=px.colors.qualitative.Set2)\n",
    "fig1.show()\n",
    "\n",
    "# Visualize usage by gender and tenure group\n",
    "fig2 = px.bar(\n",
    "        merged.groupby(['tenure_group', 'Gender', 'Department'])['UsageFrequency'].agg(['mean']).reset_index(),\n",
    "        x='Department', \n",
    "        y='mean', \n",
    "        color='tenure_group', \n",
    "        barmode='group', \n",
    "        title='Mean UsageFrequency by Department and Tenure Group', \n",
    "        hover_data=['Gender'],\n",
    "        color_discrete_sequence=px.colors.qualitative.Set1)\n",
    "fig2.show()\n",
    "\n",
    "# Visualize usage by gender and tenure group\n",
    "fig3 = px.bar(\n",
    "    merged.groupby(['age_group', 'Department'])['UsageFrequency'].agg(['mean']).reset_index(),\n",
    "    x='Department',\n",
    "    y='mean',\n",
    "    color='age_group',\n",
    "    barmode='stack',\n",
    "    title='Mean Usage Frequency by Department and Gender',\n",
    "    color_discrete_sequence=px.colors.qualitative.Set1[::-1])\n",
    "fig3.show()\n"
   ]
  },
  {
   "cell_type": "code",
   "execution_count": 20,
   "id": "374478d1",
   "metadata": {},
   "outputs": [
    {
     "data": {
      "application/vnd.plotly.v1+json": {
       "config": {
        "plotlyServerURL": "https://plot.ly"
       },
       "data": [
        {
         "alignmentgroup": "True",
         "customdata": [
          [
           "Female"
          ],
          [
           "Female"
          ],
          [
           "Female"
          ],
          [
           "Female"
          ],
          [
           "Female"
          ]
         ],
         "hovertemplate": "Gender=%{customdata[0]}<br>Department=%{x}<br>UsageFrequency=%{y}<extra></extra>",
         "legendgroup": "Female",
         "marker": {
          "color": "rgb(102,194,165)",
          "pattern": {
           "shape": ""
          }
         },
         "name": "Female",
         "offsetgroup": "Female",
         "orientation": "v",
         "showlegend": true,
         "textposition": "auto",
         "type": "bar",
         "x": [
          "Finance",
          "HR",
          "IT",
          "Marketing",
          "Sales"
         ],
         "xaxis": "x",
         "y": {
          "bdata": "7FBnM33GCkBMHgw441oMQLtGdS8YuwpAFcmOWUrYCEATKDghRiIKQA==",
          "dtype": "f8"
         },
         "yaxis": "y"
        },
        {
         "alignmentgroup": "True",
         "customdata": [
          [
           "Male"
          ],
          [
           "Male"
          ],
          [
           "Male"
          ],
          [
           "Male"
          ],
          [
           "Male"
          ]
         ],
         "hovertemplate": "Gender=%{customdata[0]}<br>Department=%{x}<br>UsageFrequency=%{y}<extra></extra>",
         "legendgroup": "Male",
         "marker": {
          "color": "rgb(252,141,98)",
          "pattern": {
           "shape": ""
          }
         },
         "name": "Male",
         "offsetgroup": "Male",
         "orientation": "v",
         "showlegend": true,
         "textposition": "auto",
         "type": "bar",
         "x": [
          "Finance",
          "HR",
          "IT",
          "Marketing",
          "Sales"
         ],
         "xaxis": "x",
         "y": {
          "bdata": "3H/el2COCkBg46QFNk4KQJgTHQow5AtA4XI4tlB5C0AVzzWrwygLQA==",
          "dtype": "f8"
         },
         "yaxis": "y"
        },
        {
         "alignmentgroup": "True",
         "customdata": [
          [
           "Non-Binary"
          ],
          [
           "Non-Binary"
          ],
          [
           "Non-Binary"
          ],
          [
           "Non-Binary"
          ],
          [
           "Non-Binary"
          ]
         ],
         "hovertemplate": "Gender=%{customdata[0]}<br>Department=%{x}<br>UsageFrequency=%{y}<extra></extra>",
         "legendgroup": "Non-Binary",
         "marker": {
          "color": "rgb(141,160,203)",
          "pattern": {
           "shape": ""
          }
         },
         "name": "Non-Binary",
         "offsetgroup": "Non-Binary",
         "orientation": "v",
         "showlegend": true,
         "textposition": "auto",
         "type": "bar",
         "x": [
          "Finance",
          "HR",
          "IT",
          "Marketing",
          "Sales"
         ],
         "xaxis": "x",
         "y": {
          "bdata": "Kng5BS+nCEC96U1vetMLQCd2Yid2YgdAREREREREDECrqqqqqqoCQA==",
          "dtype": "f8"
         },
         "yaxis": "y"
        }
       ],
       "layout": {
        "barmode": "group",
        "legend": {
         "title": {
          "text": "Gender"
         },
         "tracegroupgap": 0
        },
        "template": {
         "data": {
          "bar": [
           {
            "error_x": {
             "color": "#2a3f5f"
            },
            "error_y": {
             "color": "#2a3f5f"
            },
            "marker": {
             "line": {
              "color": "#E5ECF6",
              "width": 0.5
             },
             "pattern": {
              "fillmode": "overlay",
              "size": 10,
              "solidity": 0.2
             }
            },
            "type": "bar"
           }
          ],
          "barpolar": [
           {
            "marker": {
             "line": {
              "color": "#E5ECF6",
              "width": 0.5
             },
             "pattern": {
              "fillmode": "overlay",
              "size": 10,
              "solidity": 0.2
             }
            },
            "type": "barpolar"
           }
          ],
          "carpet": [
           {
            "aaxis": {
             "endlinecolor": "#2a3f5f",
             "gridcolor": "white",
             "linecolor": "white",
             "minorgridcolor": "white",
             "startlinecolor": "#2a3f5f"
            },
            "baxis": {
             "endlinecolor": "#2a3f5f",
             "gridcolor": "white",
             "linecolor": "white",
             "minorgridcolor": "white",
             "startlinecolor": "#2a3f5f"
            },
            "type": "carpet"
           }
          ],
          "choropleth": [
           {
            "colorbar": {
             "outlinewidth": 0,
             "ticks": ""
            },
            "type": "choropleth"
           }
          ],
          "contour": [
           {
            "colorbar": {
             "outlinewidth": 0,
             "ticks": ""
            },
            "colorscale": [
             [
              0,
              "#0d0887"
             ],
             [
              0.1111111111111111,
              "#46039f"
             ],
             [
              0.2222222222222222,
              "#7201a8"
             ],
             [
              0.3333333333333333,
              "#9c179e"
             ],
             [
              0.4444444444444444,
              "#bd3786"
             ],
             [
              0.5555555555555556,
              "#d8576b"
             ],
             [
              0.6666666666666666,
              "#ed7953"
             ],
             [
              0.7777777777777778,
              "#fb9f3a"
             ],
             [
              0.8888888888888888,
              "#fdca26"
             ],
             [
              1,
              "#f0f921"
             ]
            ],
            "type": "contour"
           }
          ],
          "contourcarpet": [
           {
            "colorbar": {
             "outlinewidth": 0,
             "ticks": ""
            },
            "type": "contourcarpet"
           }
          ],
          "heatmap": [
           {
            "colorbar": {
             "outlinewidth": 0,
             "ticks": ""
            },
            "colorscale": [
             [
              0,
              "#0d0887"
             ],
             [
              0.1111111111111111,
              "#46039f"
             ],
             [
              0.2222222222222222,
              "#7201a8"
             ],
             [
              0.3333333333333333,
              "#9c179e"
             ],
             [
              0.4444444444444444,
              "#bd3786"
             ],
             [
              0.5555555555555556,
              "#d8576b"
             ],
             [
              0.6666666666666666,
              "#ed7953"
             ],
             [
              0.7777777777777778,
              "#fb9f3a"
             ],
             [
              0.8888888888888888,
              "#fdca26"
             ],
             [
              1,
              "#f0f921"
             ]
            ],
            "type": "heatmap"
           }
          ],
          "histogram": [
           {
            "marker": {
             "pattern": {
              "fillmode": "overlay",
              "size": 10,
              "solidity": 0.2
             }
            },
            "type": "histogram"
           }
          ],
          "histogram2d": [
           {
            "colorbar": {
             "outlinewidth": 0,
             "ticks": ""
            },
            "colorscale": [
             [
              0,
              "#0d0887"
             ],
             [
              0.1111111111111111,
              "#46039f"
             ],
             [
              0.2222222222222222,
              "#7201a8"
             ],
             [
              0.3333333333333333,
              "#9c179e"
             ],
             [
              0.4444444444444444,
              "#bd3786"
             ],
             [
              0.5555555555555556,
              "#d8576b"
             ],
             [
              0.6666666666666666,
              "#ed7953"
             ],
             [
              0.7777777777777778,
              "#fb9f3a"
             ],
             [
              0.8888888888888888,
              "#fdca26"
             ],
             [
              1,
              "#f0f921"
             ]
            ],
            "type": "histogram2d"
           }
          ],
          "histogram2dcontour": [
           {
            "colorbar": {
             "outlinewidth": 0,
             "ticks": ""
            },
            "colorscale": [
             [
              0,
              "#0d0887"
             ],
             [
              0.1111111111111111,
              "#46039f"
             ],
             [
              0.2222222222222222,
              "#7201a8"
             ],
             [
              0.3333333333333333,
              "#9c179e"
             ],
             [
              0.4444444444444444,
              "#bd3786"
             ],
             [
              0.5555555555555556,
              "#d8576b"
             ],
             [
              0.6666666666666666,
              "#ed7953"
             ],
             [
              0.7777777777777778,
              "#fb9f3a"
             ],
             [
              0.8888888888888888,
              "#fdca26"
             ],
             [
              1,
              "#f0f921"
             ]
            ],
            "type": "histogram2dcontour"
           }
          ],
          "mesh3d": [
           {
            "colorbar": {
             "outlinewidth": 0,
             "ticks": ""
            },
            "type": "mesh3d"
           }
          ],
          "parcoords": [
           {
            "line": {
             "colorbar": {
              "outlinewidth": 0,
              "ticks": ""
             }
            },
            "type": "parcoords"
           }
          ],
          "pie": [
           {
            "automargin": true,
            "type": "pie"
           }
          ],
          "scatter": [
           {
            "fillpattern": {
             "fillmode": "overlay",
             "size": 10,
             "solidity": 0.2
            },
            "type": "scatter"
           }
          ],
          "scatter3d": [
           {
            "line": {
             "colorbar": {
              "outlinewidth": 0,
              "ticks": ""
             }
            },
            "marker": {
             "colorbar": {
              "outlinewidth": 0,
              "ticks": ""
             }
            },
            "type": "scatter3d"
           }
          ],
          "scattercarpet": [
           {
            "marker": {
             "colorbar": {
              "outlinewidth": 0,
              "ticks": ""
             }
            },
            "type": "scattercarpet"
           }
          ],
          "scattergeo": [
           {
            "marker": {
             "colorbar": {
              "outlinewidth": 0,
              "ticks": ""
             }
            },
            "type": "scattergeo"
           }
          ],
          "scattergl": [
           {
            "marker": {
             "colorbar": {
              "outlinewidth": 0,
              "ticks": ""
             }
            },
            "type": "scattergl"
           }
          ],
          "scattermap": [
           {
            "marker": {
             "colorbar": {
              "outlinewidth": 0,
              "ticks": ""
             }
            },
            "type": "scattermap"
           }
          ],
          "scattermapbox": [
           {
            "marker": {
             "colorbar": {
              "outlinewidth": 0,
              "ticks": ""
             }
            },
            "type": "scattermapbox"
           }
          ],
          "scatterpolar": [
           {
            "marker": {
             "colorbar": {
              "outlinewidth": 0,
              "ticks": ""
             }
            },
            "type": "scatterpolar"
           }
          ],
          "scatterpolargl": [
           {
            "marker": {
             "colorbar": {
              "outlinewidth": 0,
              "ticks": ""
             }
            },
            "type": "scatterpolargl"
           }
          ],
          "scatterternary": [
           {
            "marker": {
             "colorbar": {
              "outlinewidth": 0,
              "ticks": ""
             }
            },
            "type": "scatterternary"
           }
          ],
          "surface": [
           {
            "colorbar": {
             "outlinewidth": 0,
             "ticks": ""
            },
            "colorscale": [
             [
              0,
              "#0d0887"
             ],
             [
              0.1111111111111111,
              "#46039f"
             ],
             [
              0.2222222222222222,
              "#7201a8"
             ],
             [
              0.3333333333333333,
              "#9c179e"
             ],
             [
              0.4444444444444444,
              "#bd3786"
             ],
             [
              0.5555555555555556,
              "#d8576b"
             ],
             [
              0.6666666666666666,
              "#ed7953"
             ],
             [
              0.7777777777777778,
              "#fb9f3a"
             ],
             [
              0.8888888888888888,
              "#fdca26"
             ],
             [
              1,
              "#f0f921"
             ]
            ],
            "type": "surface"
           }
          ],
          "table": [
           {
            "cells": {
             "fill": {
              "color": "#EBF0F8"
             },
             "line": {
              "color": "white"
             }
            },
            "header": {
             "fill": {
              "color": "#C8D4E3"
             },
             "line": {
              "color": "white"
             }
            },
            "type": "table"
           }
          ]
         },
         "layout": {
          "annotationdefaults": {
           "arrowcolor": "#2a3f5f",
           "arrowhead": 0,
           "arrowwidth": 1
          },
          "autotypenumbers": "strict",
          "coloraxis": {
           "colorbar": {
            "outlinewidth": 0,
            "ticks": ""
           }
          },
          "colorscale": {
           "diverging": [
            [
             0,
             "#8e0152"
            ],
            [
             0.1,
             "#c51b7d"
            ],
            [
             0.2,
             "#de77ae"
            ],
            [
             0.3,
             "#f1b6da"
            ],
            [
             0.4,
             "#fde0ef"
            ],
            [
             0.5,
             "#f7f7f7"
            ],
            [
             0.6,
             "#e6f5d0"
            ],
            [
             0.7,
             "#b8e186"
            ],
            [
             0.8,
             "#7fbc41"
            ],
            [
             0.9,
             "#4d9221"
            ],
            [
             1,
             "#276419"
            ]
           ],
           "sequential": [
            [
             0,
             "#0d0887"
            ],
            [
             0.1111111111111111,
             "#46039f"
            ],
            [
             0.2222222222222222,
             "#7201a8"
            ],
            [
             0.3333333333333333,
             "#9c179e"
            ],
            [
             0.4444444444444444,
             "#bd3786"
            ],
            [
             0.5555555555555556,
             "#d8576b"
            ],
            [
             0.6666666666666666,
             "#ed7953"
            ],
            [
             0.7777777777777778,
             "#fb9f3a"
            ],
            [
             0.8888888888888888,
             "#fdca26"
            ],
            [
             1,
             "#f0f921"
            ]
           ],
           "sequentialminus": [
            [
             0,
             "#0d0887"
            ],
            [
             0.1111111111111111,
             "#46039f"
            ],
            [
             0.2222222222222222,
             "#7201a8"
            ],
            [
             0.3333333333333333,
             "#9c179e"
            ],
            [
             0.4444444444444444,
             "#bd3786"
            ],
            [
             0.5555555555555556,
             "#d8576b"
            ],
            [
             0.6666666666666666,
             "#ed7953"
            ],
            [
             0.7777777777777778,
             "#fb9f3a"
            ],
            [
             0.8888888888888888,
             "#fdca26"
            ],
            [
             1,
             "#f0f921"
            ]
           ]
          },
          "colorway": [
           "#636efa",
           "#EF553B",
           "#00cc96",
           "#ab63fa",
           "#FFA15A",
           "#19d3f3",
           "#FF6692",
           "#B6E880",
           "#FF97FF",
           "#FECB52"
          ],
          "font": {
           "color": "#2a3f5f"
          },
          "geo": {
           "bgcolor": "white",
           "lakecolor": "white",
           "landcolor": "#E5ECF6",
           "showlakes": true,
           "showland": true,
           "subunitcolor": "white"
          },
          "hoverlabel": {
           "align": "left"
          },
          "hovermode": "closest",
          "mapbox": {
           "style": "light"
          },
          "paper_bgcolor": "white",
          "plot_bgcolor": "#E5ECF6",
          "polar": {
           "angularaxis": {
            "gridcolor": "white",
            "linecolor": "white",
            "ticks": ""
           },
           "bgcolor": "#E5ECF6",
           "radialaxis": {
            "gridcolor": "white",
            "linecolor": "white",
            "ticks": ""
           }
          },
          "scene": {
           "xaxis": {
            "backgroundcolor": "#E5ECF6",
            "gridcolor": "white",
            "gridwidth": 2,
            "linecolor": "white",
            "showbackground": true,
            "ticks": "",
            "zerolinecolor": "white"
           },
           "yaxis": {
            "backgroundcolor": "#E5ECF6",
            "gridcolor": "white",
            "gridwidth": 2,
            "linecolor": "white",
            "showbackground": true,
            "ticks": "",
            "zerolinecolor": "white"
           },
           "zaxis": {
            "backgroundcolor": "#E5ECF6",
            "gridcolor": "white",
            "gridwidth": 2,
            "linecolor": "white",
            "showbackground": true,
            "ticks": "",
            "zerolinecolor": "white"
           }
          },
          "shapedefaults": {
           "line": {
            "color": "#2a3f5f"
           }
          },
          "ternary": {
           "aaxis": {
            "gridcolor": "white",
            "linecolor": "white",
            "ticks": ""
           },
           "baxis": {
            "gridcolor": "white",
            "linecolor": "white",
            "ticks": ""
           },
           "bgcolor": "#E5ECF6",
           "caxis": {
            "gridcolor": "white",
            "linecolor": "white",
            "ticks": ""
           }
          },
          "title": {
           "x": 0.05
          },
          "xaxis": {
           "automargin": true,
           "gridcolor": "white",
           "linecolor": "white",
           "ticks": "",
           "title": {
            "standoff": 15
           },
           "zerolinecolor": "white",
           "zerolinewidth": 2
          },
          "yaxis": {
           "automargin": true,
           "gridcolor": "white",
           "linecolor": "white",
           "ticks": "",
           "title": {
            "standoff": 15
           },
           "zerolinecolor": "white",
           "zerolinewidth": 2
          }
         }
        },
        "title": {
         "text": "Mean UsageFrequency by Department and Gender"
        },
        "xaxis": {
         "anchor": "y",
         "domain": [
          0,
          1
         ],
         "title": {
          "text": "Department"
         }
        },
        "yaxis": {
         "anchor": "x",
         "domain": [
          0,
          1
         ],
         "tickformat": ".2f",
         "title": {
          "text": "Mean UsageFrequency"
         }
        }
       }
      }
     },
     "metadata": {},
     "output_type": "display_data"
    }
   ],
   "source": [
    "# Barplot: Mean UsageFrequency by Department and Gender\n",
    "import plotly.express as px\n",
    "dept_gender_df = merged.groupby(['Department', 'Gender'])['UsageFrequency'].mean().reset_index()\n",
    "fig = px.bar(\n",
    "    dept_gender_df,\n",
    "    x='Department',\n",
    "    y='UsageFrequency',\n",
    "    color='Gender',\n",
    "    barmode='group',\n",
    "    title='Mean UsageFrequency by Department and Gender',\n",
    "    color_discrete_sequence=px.colors.qualitative.Set2,\n",
    "    hover_data=['Gender']\n",
    " )\n",
    "fig.update_layout(\n",
    "    yaxis=dict(title='Mean UsageFrequency', tickformat='.2f'),\n",
    "    xaxis=dict(title='Department'),\n",
    "    legend_title_text='Gender'\n",
    " )\n",
    "fig.show()"
   ]
  },
  {
   "cell_type": "code",
   "execution_count": 21,
   "id": "6f622cba",
   "metadata": {},
   "outputs": [
    {
     "data": {
      "application/vnd.plotly.v1+json": {
       "config": {
        "plotlyServerURL": "https://plot.ly"
       },
       "data": [
        {
         "coloraxis": "coloraxis",
         "hovertemplate": "BenefitSubType: %{x}<br>tenure_group: %{y}<br>Avg UsageFrequency: %{z}<extra></extra>",
         "name": "0",
         "type": "heatmap",
         "x": [
          "401k Basic Matching",
          "401k Catch-Up Contributions",
          "401k High Contribution",
          "401k Investment Fees",
          "401k Maximum Matching",
          "401k Standard Matching",
          "After-School Care",
          "Basic Coverage",
          "Conference Attendance",
          "Dependent Coverage",
          "Family Membership",
          "Graduate Degree",
          "HDHP Individual",
          "HMO Family",
          "Healthcare FSA",
          "Individual Courses",
          "Monthly Communications",
          "Monthly Internet Allowance",
          "On-Site Infant Care",
          "PPO Family",
          "PPO Individual",
          "Premium Discount Tier 1",
          "Professional Certification",
          "Supplemental High Amount",
          "Supplemental Standard",
          "Tier 1 Partners",
          "Tier 2 Partners",
          "Tier 3 Partners",
          "Transit Subsidy",
          "Undergraduate Degree"
         ],
         "xaxis": "x",
         "y": [
          "16-25",
          "5-15",
          "<5",
          ">25"
         ],
         "yaxis": "y",
         "z": {
          "bdata": "9aY3velNC0CoEZZ7GmEJQAjW0eZ9igtAAAAAAAAAEEAxDMMwDMMEQAAAAAAAAAlAIU8J8pQgB0DaqO9s1HcOQPMaymsorwVANUiDNEiDDEDjK77iK74KQLzR1Pm1hwxAdrR5n+KSCUDraPM+xSULQAAAAAAAABBAyEIWspCFEEByHMdxHMcJQARBEARBEAxAtMLmQKIVBkAAAAAAAAAKQKPEzyjxMwpAzczMzMzMBEDBD/zAD/wIQDi96U1vegtAs2XLli1bDkBEREREREQGQJqZmZmZmQlAy7d8y7d8B0DBwMDAwMAIQOMmzO9qcQtAaJHtfD81DkAeAjeWQakIQEU+6wZT5BBApM37FJcMDUDTfrIENu0PQKEv6Av6gghAAAAAAADwBkDEUhFLRSwNQCVJkiRJkg5AOuecc845C0BL8G3+CrMKQEjg7YcE3gZAEKiOvbVhCkCXlpaWlpYMQF100UUXXQhADiRaYXMgCUCUQFyoOQkQQPxVnJCSZwlA9nq9Xq/XA0AmQ7CONu8LQPHw8PDw8AdAWlpaWlpaCkDu537u534GQKuqqqqqqgpALL7iK77iCUAAAAAAAGAMQPYoXI/C9QhAizXgijXgCkBX1BV1RV0JQDsHa5YYnwpAu9ST8dulDkA22WSTTTYNQGfr0G+2Dg1AMzMzMzMzDkCivIbyGsoLQNmJndiJnQRASOF6FK5HCUAFJp2aB7kLQOQ4juM4jg5AyS+W/GLJD0DOyk+Is/ILQKAFWqAFWghAJ3ZiJ3ZiA0DylCBPCfIMQG9605ve9AhAHh4eHh4eDEDf8i3f8i0LQGpXonYlagtA5TWU11BeB0DLT4iz8hMKQAAAAAAAAAxAuEs9Gb9dCkDx8PDw8PAMQOE+gvsI7gtAAAAAAAAAEECGLGQhC1kIQFNKKaWUUgpAep7neZ7nC0DlNZTXUF4NQM/zPM/zPAlAbtu2bdu2DkAFMbmCmFwJQF100UUXXRBA27Zt27ZtC0DByyl4OQUPQFVVVVVVVQ1Akc+6wRT5BEA5juM4juMEQBEREREREQlAHMdxHMdxBEAAAAAAAAAIQM3MzMzMzAdAyEIWspCFCEATjLeyzyERQGIYhmEYhglAb2WfQ2qCCUDd0wjLPY0IQHlKkKcEeRJAHMdxHMdxDEAAAAAAAAAKQPMaymsorwlAo4suuuiiB0AAAAAAAIAGQImIiIiIiAxAS9SuRO1KEECXlpaWlpYGQGqC8Vb2OQxAF1100UUXC0AYhmEYhmEQQAAAAAAAAAlA",
          "dtype": "f8",
          "shape": "4, 30"
         }
        }
       ],
       "layout": {
        "coloraxis": {
         "colorbar": {
          "title": {
           "text": "Avg UsageFrequency"
          }
         },
         "colorscale": [
          [
           0,
           "#0d0887"
          ],
          [
           0.1111111111111111,
           "#46039f"
          ],
          [
           0.2222222222222222,
           "#7201a8"
          ],
          [
           0.3333333333333333,
           "#9c179e"
          ],
          [
           0.4444444444444444,
           "#bd3786"
          ],
          [
           0.5555555555555556,
           "#d8576b"
          ],
          [
           0.6666666666666666,
           "#ed7953"
          ],
          [
           0.7777777777777778,
           "#fb9f3a"
          ],
          [
           0.8888888888888888,
           "#fdca26"
          ],
          [
           1,
           "#f0f921"
          ]
         ]
        },
        "template": {
         "data": {
          "bar": [
           {
            "error_x": {
             "color": "#2a3f5f"
            },
            "error_y": {
             "color": "#2a3f5f"
            },
            "marker": {
             "line": {
              "color": "#E5ECF6",
              "width": 0.5
             },
             "pattern": {
              "fillmode": "overlay",
              "size": 10,
              "solidity": 0.2
             }
            },
            "type": "bar"
           }
          ],
          "barpolar": [
           {
            "marker": {
             "line": {
              "color": "#E5ECF6",
              "width": 0.5
             },
             "pattern": {
              "fillmode": "overlay",
              "size": 10,
              "solidity": 0.2
             }
            },
            "type": "barpolar"
           }
          ],
          "carpet": [
           {
            "aaxis": {
             "endlinecolor": "#2a3f5f",
             "gridcolor": "white",
             "linecolor": "white",
             "minorgridcolor": "white",
             "startlinecolor": "#2a3f5f"
            },
            "baxis": {
             "endlinecolor": "#2a3f5f",
             "gridcolor": "white",
             "linecolor": "white",
             "minorgridcolor": "white",
             "startlinecolor": "#2a3f5f"
            },
            "type": "carpet"
           }
          ],
          "choropleth": [
           {
            "colorbar": {
             "outlinewidth": 0,
             "ticks": ""
            },
            "type": "choropleth"
           }
          ],
          "contour": [
           {
            "colorbar": {
             "outlinewidth": 0,
             "ticks": ""
            },
            "colorscale": [
             [
              0,
              "#0d0887"
             ],
             [
              0.1111111111111111,
              "#46039f"
             ],
             [
              0.2222222222222222,
              "#7201a8"
             ],
             [
              0.3333333333333333,
              "#9c179e"
             ],
             [
              0.4444444444444444,
              "#bd3786"
             ],
             [
              0.5555555555555556,
              "#d8576b"
             ],
             [
              0.6666666666666666,
              "#ed7953"
             ],
             [
              0.7777777777777778,
              "#fb9f3a"
             ],
             [
              0.8888888888888888,
              "#fdca26"
             ],
             [
              1,
              "#f0f921"
             ]
            ],
            "type": "contour"
           }
          ],
          "contourcarpet": [
           {
            "colorbar": {
             "outlinewidth": 0,
             "ticks": ""
            },
            "type": "contourcarpet"
           }
          ],
          "heatmap": [
           {
            "colorbar": {
             "outlinewidth": 0,
             "ticks": ""
            },
            "colorscale": [
             [
              0,
              "#0d0887"
             ],
             [
              0.1111111111111111,
              "#46039f"
             ],
             [
              0.2222222222222222,
              "#7201a8"
             ],
             [
              0.3333333333333333,
              "#9c179e"
             ],
             [
              0.4444444444444444,
              "#bd3786"
             ],
             [
              0.5555555555555556,
              "#d8576b"
             ],
             [
              0.6666666666666666,
              "#ed7953"
             ],
             [
              0.7777777777777778,
              "#fb9f3a"
             ],
             [
              0.8888888888888888,
              "#fdca26"
             ],
             [
              1,
              "#f0f921"
             ]
            ],
            "type": "heatmap"
           }
          ],
          "histogram": [
           {
            "marker": {
             "pattern": {
              "fillmode": "overlay",
              "size": 10,
              "solidity": 0.2
             }
            },
            "type": "histogram"
           }
          ],
          "histogram2d": [
           {
            "colorbar": {
             "outlinewidth": 0,
             "ticks": ""
            },
            "colorscale": [
             [
              0,
              "#0d0887"
             ],
             [
              0.1111111111111111,
              "#46039f"
             ],
             [
              0.2222222222222222,
              "#7201a8"
             ],
             [
              0.3333333333333333,
              "#9c179e"
             ],
             [
              0.4444444444444444,
              "#bd3786"
             ],
             [
              0.5555555555555556,
              "#d8576b"
             ],
             [
              0.6666666666666666,
              "#ed7953"
             ],
             [
              0.7777777777777778,
              "#fb9f3a"
             ],
             [
              0.8888888888888888,
              "#fdca26"
             ],
             [
              1,
              "#f0f921"
             ]
            ],
            "type": "histogram2d"
           }
          ],
          "histogram2dcontour": [
           {
            "colorbar": {
             "outlinewidth": 0,
             "ticks": ""
            },
            "colorscale": [
             [
              0,
              "#0d0887"
             ],
             [
              0.1111111111111111,
              "#46039f"
             ],
             [
              0.2222222222222222,
              "#7201a8"
             ],
             [
              0.3333333333333333,
              "#9c179e"
             ],
             [
              0.4444444444444444,
              "#bd3786"
             ],
             [
              0.5555555555555556,
              "#d8576b"
             ],
             [
              0.6666666666666666,
              "#ed7953"
             ],
             [
              0.7777777777777778,
              "#fb9f3a"
             ],
             [
              0.8888888888888888,
              "#fdca26"
             ],
             [
              1,
              "#f0f921"
             ]
            ],
            "type": "histogram2dcontour"
           }
          ],
          "mesh3d": [
           {
            "colorbar": {
             "outlinewidth": 0,
             "ticks": ""
            },
            "type": "mesh3d"
           }
          ],
          "parcoords": [
           {
            "line": {
             "colorbar": {
              "outlinewidth": 0,
              "ticks": ""
             }
            },
            "type": "parcoords"
           }
          ],
          "pie": [
           {
            "automargin": true,
            "type": "pie"
           }
          ],
          "scatter": [
           {
            "fillpattern": {
             "fillmode": "overlay",
             "size": 10,
             "solidity": 0.2
            },
            "type": "scatter"
           }
          ],
          "scatter3d": [
           {
            "line": {
             "colorbar": {
              "outlinewidth": 0,
              "ticks": ""
             }
            },
            "marker": {
             "colorbar": {
              "outlinewidth": 0,
              "ticks": ""
             }
            },
            "type": "scatter3d"
           }
          ],
          "scattercarpet": [
           {
            "marker": {
             "colorbar": {
              "outlinewidth": 0,
              "ticks": ""
             }
            },
            "type": "scattercarpet"
           }
          ],
          "scattergeo": [
           {
            "marker": {
             "colorbar": {
              "outlinewidth": 0,
              "ticks": ""
             }
            },
            "type": "scattergeo"
           }
          ],
          "scattergl": [
           {
            "marker": {
             "colorbar": {
              "outlinewidth": 0,
              "ticks": ""
             }
            },
            "type": "scattergl"
           }
          ],
          "scattermap": [
           {
            "marker": {
             "colorbar": {
              "outlinewidth": 0,
              "ticks": ""
             }
            },
            "type": "scattermap"
           }
          ],
          "scattermapbox": [
           {
            "marker": {
             "colorbar": {
              "outlinewidth": 0,
              "ticks": ""
             }
            },
            "type": "scattermapbox"
           }
          ],
          "scatterpolar": [
           {
            "marker": {
             "colorbar": {
              "outlinewidth": 0,
              "ticks": ""
             }
            },
            "type": "scatterpolar"
           }
          ],
          "scatterpolargl": [
           {
            "marker": {
             "colorbar": {
              "outlinewidth": 0,
              "ticks": ""
             }
            },
            "type": "scatterpolargl"
           }
          ],
          "scatterternary": [
           {
            "marker": {
             "colorbar": {
              "outlinewidth": 0,
              "ticks": ""
             }
            },
            "type": "scatterternary"
           }
          ],
          "surface": [
           {
            "colorbar": {
             "outlinewidth": 0,
             "ticks": ""
            },
            "colorscale": [
             [
              0,
              "#0d0887"
             ],
             [
              0.1111111111111111,
              "#46039f"
             ],
             [
              0.2222222222222222,
              "#7201a8"
             ],
             [
              0.3333333333333333,
              "#9c179e"
             ],
             [
              0.4444444444444444,
              "#bd3786"
             ],
             [
              0.5555555555555556,
              "#d8576b"
             ],
             [
              0.6666666666666666,
              "#ed7953"
             ],
             [
              0.7777777777777778,
              "#fb9f3a"
             ],
             [
              0.8888888888888888,
              "#fdca26"
             ],
             [
              1,
              "#f0f921"
             ]
            ],
            "type": "surface"
           }
          ],
          "table": [
           {
            "cells": {
             "fill": {
              "color": "#EBF0F8"
             },
             "line": {
              "color": "white"
             }
            },
            "header": {
             "fill": {
              "color": "#C8D4E3"
             },
             "line": {
              "color": "white"
             }
            },
            "type": "table"
           }
          ]
         },
         "layout": {
          "annotationdefaults": {
           "arrowcolor": "#2a3f5f",
           "arrowhead": 0,
           "arrowwidth": 1
          },
          "autotypenumbers": "strict",
          "coloraxis": {
           "colorbar": {
            "outlinewidth": 0,
            "ticks": ""
           }
          },
          "colorscale": {
           "diverging": [
            [
             0,
             "#8e0152"
            ],
            [
             0.1,
             "#c51b7d"
            ],
            [
             0.2,
             "#de77ae"
            ],
            [
             0.3,
             "#f1b6da"
            ],
            [
             0.4,
             "#fde0ef"
            ],
            [
             0.5,
             "#f7f7f7"
            ],
            [
             0.6,
             "#e6f5d0"
            ],
            [
             0.7,
             "#b8e186"
            ],
            [
             0.8,
             "#7fbc41"
            ],
            [
             0.9,
             "#4d9221"
            ],
            [
             1,
             "#276419"
            ]
           ],
           "sequential": [
            [
             0,
             "#0d0887"
            ],
            [
             0.1111111111111111,
             "#46039f"
            ],
            [
             0.2222222222222222,
             "#7201a8"
            ],
            [
             0.3333333333333333,
             "#9c179e"
            ],
            [
             0.4444444444444444,
             "#bd3786"
            ],
            [
             0.5555555555555556,
             "#d8576b"
            ],
            [
             0.6666666666666666,
             "#ed7953"
            ],
            [
             0.7777777777777778,
             "#fb9f3a"
            ],
            [
             0.8888888888888888,
             "#fdca26"
            ],
            [
             1,
             "#f0f921"
            ]
           ],
           "sequentialminus": [
            [
             0,
             "#0d0887"
            ],
            [
             0.1111111111111111,
             "#46039f"
            ],
            [
             0.2222222222222222,
             "#7201a8"
            ],
            [
             0.3333333333333333,
             "#9c179e"
            ],
            [
             0.4444444444444444,
             "#bd3786"
            ],
            [
             0.5555555555555556,
             "#d8576b"
            ],
            [
             0.6666666666666666,
             "#ed7953"
            ],
            [
             0.7777777777777778,
             "#fb9f3a"
            ],
            [
             0.8888888888888888,
             "#fdca26"
            ],
            [
             1,
             "#f0f921"
            ]
           ]
          },
          "colorway": [
           "#636efa",
           "#EF553B",
           "#00cc96",
           "#ab63fa",
           "#FFA15A",
           "#19d3f3",
           "#FF6692",
           "#B6E880",
           "#FF97FF",
           "#FECB52"
          ],
          "font": {
           "color": "#2a3f5f"
          },
          "geo": {
           "bgcolor": "white",
           "lakecolor": "white",
           "landcolor": "#E5ECF6",
           "showlakes": true,
           "showland": true,
           "subunitcolor": "white"
          },
          "hoverlabel": {
           "align": "left"
          },
          "hovermode": "closest",
          "mapbox": {
           "style": "light"
          },
          "paper_bgcolor": "white",
          "plot_bgcolor": "#E5ECF6",
          "polar": {
           "angularaxis": {
            "gridcolor": "white",
            "linecolor": "white",
            "ticks": ""
           },
           "bgcolor": "#E5ECF6",
           "radialaxis": {
            "gridcolor": "white",
            "linecolor": "white",
            "ticks": ""
           }
          },
          "scene": {
           "xaxis": {
            "backgroundcolor": "#E5ECF6",
            "gridcolor": "white",
            "gridwidth": 2,
            "linecolor": "white",
            "showbackground": true,
            "ticks": "",
            "zerolinecolor": "white"
           },
           "yaxis": {
            "backgroundcolor": "#E5ECF6",
            "gridcolor": "white",
            "gridwidth": 2,
            "linecolor": "white",
            "showbackground": true,
            "ticks": "",
            "zerolinecolor": "white"
           },
           "zaxis": {
            "backgroundcolor": "#E5ECF6",
            "gridcolor": "white",
            "gridwidth": 2,
            "linecolor": "white",
            "showbackground": true,
            "ticks": "",
            "zerolinecolor": "white"
           }
          },
          "shapedefaults": {
           "line": {
            "color": "#2a3f5f"
           }
          },
          "ternary": {
           "aaxis": {
            "gridcolor": "white",
            "linecolor": "white",
            "ticks": ""
           },
           "baxis": {
            "gridcolor": "white",
            "linecolor": "white",
            "ticks": ""
           },
           "bgcolor": "#E5ECF6",
           "caxis": {
            "gridcolor": "white",
            "linecolor": "white",
            "ticks": ""
           }
          },
          "title": {
           "x": 0.05
          },
          "xaxis": {
           "automargin": true,
           "gridcolor": "white",
           "linecolor": "white",
           "ticks": "",
           "title": {
            "standoff": 15
           },
           "zerolinecolor": "white",
           "zerolinewidth": 2
          },
          "yaxis": {
           "automargin": true,
           "gridcolor": "white",
           "linecolor": "white",
           "ticks": "",
           "title": {
            "standoff": 15
           },
           "zerolinecolor": "white",
           "zerolinewidth": 2
          }
         }
        },
        "title": {
         "text": "UsageFrequency Heatmap: tenure_group vs BenefitSubType"
        },
        "xaxis": {
         "anchor": "y",
         "constrain": "domain",
         "domain": [
          0,
          1
         ],
         "scaleanchor": "y",
         "title": {
          "text": "BenefitSubType"
         }
        },
        "yaxis": {
         "anchor": "x",
         "autorange": "reversed",
         "constrain": "domain",
         "domain": [
          0,
          1
         ],
         "title": {
          "text": "tenure_group"
         }
        }
       }
      }
     },
     "metadata": {},
     "output_type": "display_data"
    },
    {
     "data": {
      "application/vnd.plotly.v1+json": {
       "config": {
        "plotlyServerURL": "https://plot.ly"
       },
       "data": [
        {
         "coloraxis": "coloraxis",
         "hovertemplate": "BenefitSubType: %{x}<br>age_group: %{y}<br>Avg UsageFrequency: %{z}<extra></extra>",
         "name": "0",
         "type": "heatmap",
         "x": [
          "401k Basic Matching",
          "401k Catch-Up Contributions",
          "401k High Contribution",
          "401k Investment Fees",
          "401k Maximum Matching",
          "401k Standard Matching",
          "After-School Care",
          "Basic Coverage",
          "Conference Attendance",
          "Dependent Coverage",
          "Family Membership",
          "Graduate Degree",
          "HDHP Individual",
          "HMO Family",
          "Healthcare FSA",
          "Individual Courses",
          "Monthly Communications",
          "Monthly Internet Allowance",
          "On-Site Infant Care",
          "PPO Family",
          "PPO Individual",
          "Premium Discount Tier 1",
          "Professional Certification",
          "Supplemental High Amount",
          "Supplemental Standard",
          "Tier 1 Partners",
          "Tier 2 Partners",
          "Tier 3 Partners",
          "Transit Subsidy",
          "Undergraduate Degree"
         ],
         "xaxis": "x",
         "y": [
          "18-25",
          "26-41",
          "42-57",
          "58+"
         ],
         "yaxis": "y",
         "z": {
          "bdata": "doMp8lk3EECMLrrooosOQFVVVVVVVQtAO7ETO7ETE0A8PDw8PDwMQFVVVVVVVQVAAAAAAAAAAEDxFV/xFV8JQJqZmZmZmQlAIiIiIiIiBkA7sRM7sRMPQOQ4juM4jglAAAAAAAAABUBCewntJbQPQMdxHMdxHAtA77333nvvDUD44IMPPvgIQDXBeCv7HApA5DiO4ziO+z8or6G8hvIGQN3TCMs9jRBA1K5E7UrUBkBpaWlpaWkJQNejcD0K1wtAOY7jOI7jEEBVVVVVVVUFQNu2bdu2bQtAMzMzMzMzD0ByHMdxHMcJQAAAAAAAAApAcAIncAInEEBYObTIdr4HQOSaCOSaCBBAAAAAAAAAEECc5UlkGrYLQHBjGZQKEwdAkiRJkiRJBkAx8X7kNF8LQMhWBA0ndQtA5cO4X5dUDkDicDgcDocLQFdnpGJudQZANcJyTyMsB0BR6ciegagMQL7lW77lWwZAidqVqF2JCkD43nvvvfcOQIgE3n5I4A1A2+/olbH9BkAeeeSRRx4JQE/sxE7sxAdA77S60+pOC0C66KKLLroIQAAAAAAAAA1AZUqmZEqmDEBxPQrXo3AJQLdt27ZtWwlAyh91yh91CkA91EM91EMNQLkj7og74gZABQUFBQUFDUBhuacRlnsIQKuqqqqqqg5AzKdezKdeDEDRVoPnCBQNQNEKmwOJVghA78tjK4KGC0DZiZ3YiZ0OQFVVVVVVVQtAvuIrvuIrDEDBXDsw1w4IQGlpaWlpaQ1A27Zt27btCUAeHh4eHh4OQLKQhSxkIQtA5nK5XC6XC0D5iq/4iq8IQDm42S/EigpAJRAXak4CCUCamZmZmZkNQNFeQnsJ7QlATvvJEti0B0A5uNkvxIoKQCTm7QyJeQtAMygVJt6PDEC3bdu2bVsIQDkFL6fg5QhAREREREREDEAYgREYgREIQI7jOI7juAxAtJfQXkJ7CUAaYbmnEZYPQMfUwN4xNRBAt23btm3bB0DByyl4OQUPQIwxxhhjjA1AAAAAAAAAAkBwH8F9BPcJQGG5pxGWew5AWchCFrKQBUCrqqqqqioOQGZmZmZm5gVAt23btm3bCEDkOI7jOI4LQCjjt0s9GQ9AxMPDw8PDC0A4qfvy2IoQQFjuaYTlng5AYid2Yid2BEBVVVVVVVULQAAAAAAAAAhAAAAAAAAACEAJyz2NsNwDQIL7CO4juAdAd6kn47dLDUB2Yid2YicOQAAAAAAAAAxArbA5kGiFBUBKKaWUUkoNQBc3YX5XiwtA",
          "dtype": "f8",
          "shape": "4, 30"
         }
        }
       ],
       "layout": {
        "coloraxis": {
         "colorbar": {
          "title": {
           "text": "Avg UsageFrequency"
          }
         },
         "colorscale": [
          [
           0,
           "#0d0887"
          ],
          [
           0.1111111111111111,
           "#46039f"
          ],
          [
           0.2222222222222222,
           "#7201a8"
          ],
          [
           0.3333333333333333,
           "#9c179e"
          ],
          [
           0.4444444444444444,
           "#bd3786"
          ],
          [
           0.5555555555555556,
           "#d8576b"
          ],
          [
           0.6666666666666666,
           "#ed7953"
          ],
          [
           0.7777777777777778,
           "#fb9f3a"
          ],
          [
           0.8888888888888888,
           "#fdca26"
          ],
          [
           1,
           "#f0f921"
          ]
         ]
        },
        "template": {
         "data": {
          "bar": [
           {
            "error_x": {
             "color": "#2a3f5f"
            },
            "error_y": {
             "color": "#2a3f5f"
            },
            "marker": {
             "line": {
              "color": "#E5ECF6",
              "width": 0.5
             },
             "pattern": {
              "fillmode": "overlay",
              "size": 10,
              "solidity": 0.2
             }
            },
            "type": "bar"
           }
          ],
          "barpolar": [
           {
            "marker": {
             "line": {
              "color": "#E5ECF6",
              "width": 0.5
             },
             "pattern": {
              "fillmode": "overlay",
              "size": 10,
              "solidity": 0.2
             }
            },
            "type": "barpolar"
           }
          ],
          "carpet": [
           {
            "aaxis": {
             "endlinecolor": "#2a3f5f",
             "gridcolor": "white",
             "linecolor": "white",
             "minorgridcolor": "white",
             "startlinecolor": "#2a3f5f"
            },
            "baxis": {
             "endlinecolor": "#2a3f5f",
             "gridcolor": "white",
             "linecolor": "white",
             "minorgridcolor": "white",
             "startlinecolor": "#2a3f5f"
            },
            "type": "carpet"
           }
          ],
          "choropleth": [
           {
            "colorbar": {
             "outlinewidth": 0,
             "ticks": ""
            },
            "type": "choropleth"
           }
          ],
          "contour": [
           {
            "colorbar": {
             "outlinewidth": 0,
             "ticks": ""
            },
            "colorscale": [
             [
              0,
              "#0d0887"
             ],
             [
              0.1111111111111111,
              "#46039f"
             ],
             [
              0.2222222222222222,
              "#7201a8"
             ],
             [
              0.3333333333333333,
              "#9c179e"
             ],
             [
              0.4444444444444444,
              "#bd3786"
             ],
             [
              0.5555555555555556,
              "#d8576b"
             ],
             [
              0.6666666666666666,
              "#ed7953"
             ],
             [
              0.7777777777777778,
              "#fb9f3a"
             ],
             [
              0.8888888888888888,
              "#fdca26"
             ],
             [
              1,
              "#f0f921"
             ]
            ],
            "type": "contour"
           }
          ],
          "contourcarpet": [
           {
            "colorbar": {
             "outlinewidth": 0,
             "ticks": ""
            },
            "type": "contourcarpet"
           }
          ],
          "heatmap": [
           {
            "colorbar": {
             "outlinewidth": 0,
             "ticks": ""
            },
            "colorscale": [
             [
              0,
              "#0d0887"
             ],
             [
              0.1111111111111111,
              "#46039f"
             ],
             [
              0.2222222222222222,
              "#7201a8"
             ],
             [
              0.3333333333333333,
              "#9c179e"
             ],
             [
              0.4444444444444444,
              "#bd3786"
             ],
             [
              0.5555555555555556,
              "#d8576b"
             ],
             [
              0.6666666666666666,
              "#ed7953"
             ],
             [
              0.7777777777777778,
              "#fb9f3a"
             ],
             [
              0.8888888888888888,
              "#fdca26"
             ],
             [
              1,
              "#f0f921"
             ]
            ],
            "type": "heatmap"
           }
          ],
          "histogram": [
           {
            "marker": {
             "pattern": {
              "fillmode": "overlay",
              "size": 10,
              "solidity": 0.2
             }
            },
            "type": "histogram"
           }
          ],
          "histogram2d": [
           {
            "colorbar": {
             "outlinewidth": 0,
             "ticks": ""
            },
            "colorscale": [
             [
              0,
              "#0d0887"
             ],
             [
              0.1111111111111111,
              "#46039f"
             ],
             [
              0.2222222222222222,
              "#7201a8"
             ],
             [
              0.3333333333333333,
              "#9c179e"
             ],
             [
              0.4444444444444444,
              "#bd3786"
             ],
             [
              0.5555555555555556,
              "#d8576b"
             ],
             [
              0.6666666666666666,
              "#ed7953"
             ],
             [
              0.7777777777777778,
              "#fb9f3a"
             ],
             [
              0.8888888888888888,
              "#fdca26"
             ],
             [
              1,
              "#f0f921"
             ]
            ],
            "type": "histogram2d"
           }
          ],
          "histogram2dcontour": [
           {
            "colorbar": {
             "outlinewidth": 0,
             "ticks": ""
            },
            "colorscale": [
             [
              0,
              "#0d0887"
             ],
             [
              0.1111111111111111,
              "#46039f"
             ],
             [
              0.2222222222222222,
              "#7201a8"
             ],
             [
              0.3333333333333333,
              "#9c179e"
             ],
             [
              0.4444444444444444,
              "#bd3786"
             ],
             [
              0.5555555555555556,
              "#d8576b"
             ],
             [
              0.6666666666666666,
              "#ed7953"
             ],
             [
              0.7777777777777778,
              "#fb9f3a"
             ],
             [
              0.8888888888888888,
              "#fdca26"
             ],
             [
              1,
              "#f0f921"
             ]
            ],
            "type": "histogram2dcontour"
           }
          ],
          "mesh3d": [
           {
            "colorbar": {
             "outlinewidth": 0,
             "ticks": ""
            },
            "type": "mesh3d"
           }
          ],
          "parcoords": [
           {
            "line": {
             "colorbar": {
              "outlinewidth": 0,
              "ticks": ""
             }
            },
            "type": "parcoords"
           }
          ],
          "pie": [
           {
            "automargin": true,
            "type": "pie"
           }
          ],
          "scatter": [
           {
            "fillpattern": {
             "fillmode": "overlay",
             "size": 10,
             "solidity": 0.2
            },
            "type": "scatter"
           }
          ],
          "scatter3d": [
           {
            "line": {
             "colorbar": {
              "outlinewidth": 0,
              "ticks": ""
             }
            },
            "marker": {
             "colorbar": {
              "outlinewidth": 0,
              "ticks": ""
             }
            },
            "type": "scatter3d"
           }
          ],
          "scattercarpet": [
           {
            "marker": {
             "colorbar": {
              "outlinewidth": 0,
              "ticks": ""
             }
            },
            "type": "scattercarpet"
           }
          ],
          "scattergeo": [
           {
            "marker": {
             "colorbar": {
              "outlinewidth": 0,
              "ticks": ""
             }
            },
            "type": "scattergeo"
           }
          ],
          "scattergl": [
           {
            "marker": {
             "colorbar": {
              "outlinewidth": 0,
              "ticks": ""
             }
            },
            "type": "scattergl"
           }
          ],
          "scattermap": [
           {
            "marker": {
             "colorbar": {
              "outlinewidth": 0,
              "ticks": ""
             }
            },
            "type": "scattermap"
           }
          ],
          "scattermapbox": [
           {
            "marker": {
             "colorbar": {
              "outlinewidth": 0,
              "ticks": ""
             }
            },
            "type": "scattermapbox"
           }
          ],
          "scatterpolar": [
           {
            "marker": {
             "colorbar": {
              "outlinewidth": 0,
              "ticks": ""
             }
            },
            "type": "scatterpolar"
           }
          ],
          "scatterpolargl": [
           {
            "marker": {
             "colorbar": {
              "outlinewidth": 0,
              "ticks": ""
             }
            },
            "type": "scatterpolargl"
           }
          ],
          "scatterternary": [
           {
            "marker": {
             "colorbar": {
              "outlinewidth": 0,
              "ticks": ""
             }
            },
            "type": "scatterternary"
           }
          ],
          "surface": [
           {
            "colorbar": {
             "outlinewidth": 0,
             "ticks": ""
            },
            "colorscale": [
             [
              0,
              "#0d0887"
             ],
             [
              0.1111111111111111,
              "#46039f"
             ],
             [
              0.2222222222222222,
              "#7201a8"
             ],
             [
              0.3333333333333333,
              "#9c179e"
             ],
             [
              0.4444444444444444,
              "#bd3786"
             ],
             [
              0.5555555555555556,
              "#d8576b"
             ],
             [
              0.6666666666666666,
              "#ed7953"
             ],
             [
              0.7777777777777778,
              "#fb9f3a"
             ],
             [
              0.8888888888888888,
              "#fdca26"
             ],
             [
              1,
              "#f0f921"
             ]
            ],
            "type": "surface"
           }
          ],
          "table": [
           {
            "cells": {
             "fill": {
              "color": "#EBF0F8"
             },
             "line": {
              "color": "white"
             }
            },
            "header": {
             "fill": {
              "color": "#C8D4E3"
             },
             "line": {
              "color": "white"
             }
            },
            "type": "table"
           }
          ]
         },
         "layout": {
          "annotationdefaults": {
           "arrowcolor": "#2a3f5f",
           "arrowhead": 0,
           "arrowwidth": 1
          },
          "autotypenumbers": "strict",
          "coloraxis": {
           "colorbar": {
            "outlinewidth": 0,
            "ticks": ""
           }
          },
          "colorscale": {
           "diverging": [
            [
             0,
             "#8e0152"
            ],
            [
             0.1,
             "#c51b7d"
            ],
            [
             0.2,
             "#de77ae"
            ],
            [
             0.3,
             "#f1b6da"
            ],
            [
             0.4,
             "#fde0ef"
            ],
            [
             0.5,
             "#f7f7f7"
            ],
            [
             0.6,
             "#e6f5d0"
            ],
            [
             0.7,
             "#b8e186"
            ],
            [
             0.8,
             "#7fbc41"
            ],
            [
             0.9,
             "#4d9221"
            ],
            [
             1,
             "#276419"
            ]
           ],
           "sequential": [
            [
             0,
             "#0d0887"
            ],
            [
             0.1111111111111111,
             "#46039f"
            ],
            [
             0.2222222222222222,
             "#7201a8"
            ],
            [
             0.3333333333333333,
             "#9c179e"
            ],
            [
             0.4444444444444444,
             "#bd3786"
            ],
            [
             0.5555555555555556,
             "#d8576b"
            ],
            [
             0.6666666666666666,
             "#ed7953"
            ],
            [
             0.7777777777777778,
             "#fb9f3a"
            ],
            [
             0.8888888888888888,
             "#fdca26"
            ],
            [
             1,
             "#f0f921"
            ]
           ],
           "sequentialminus": [
            [
             0,
             "#0d0887"
            ],
            [
             0.1111111111111111,
             "#46039f"
            ],
            [
             0.2222222222222222,
             "#7201a8"
            ],
            [
             0.3333333333333333,
             "#9c179e"
            ],
            [
             0.4444444444444444,
             "#bd3786"
            ],
            [
             0.5555555555555556,
             "#d8576b"
            ],
            [
             0.6666666666666666,
             "#ed7953"
            ],
            [
             0.7777777777777778,
             "#fb9f3a"
            ],
            [
             0.8888888888888888,
             "#fdca26"
            ],
            [
             1,
             "#f0f921"
            ]
           ]
          },
          "colorway": [
           "#636efa",
           "#EF553B",
           "#00cc96",
           "#ab63fa",
           "#FFA15A",
           "#19d3f3",
           "#FF6692",
           "#B6E880",
           "#FF97FF",
           "#FECB52"
          ],
          "font": {
           "color": "#2a3f5f"
          },
          "geo": {
           "bgcolor": "white",
           "lakecolor": "white",
           "landcolor": "#E5ECF6",
           "showlakes": true,
           "showland": true,
           "subunitcolor": "white"
          },
          "hoverlabel": {
           "align": "left"
          },
          "hovermode": "closest",
          "mapbox": {
           "style": "light"
          },
          "paper_bgcolor": "white",
          "plot_bgcolor": "#E5ECF6",
          "polar": {
           "angularaxis": {
            "gridcolor": "white",
            "linecolor": "white",
            "ticks": ""
           },
           "bgcolor": "#E5ECF6",
           "radialaxis": {
            "gridcolor": "white",
            "linecolor": "white",
            "ticks": ""
           }
          },
          "scene": {
           "xaxis": {
            "backgroundcolor": "#E5ECF6",
            "gridcolor": "white",
            "gridwidth": 2,
            "linecolor": "white",
            "showbackground": true,
            "ticks": "",
            "zerolinecolor": "white"
           },
           "yaxis": {
            "backgroundcolor": "#E5ECF6",
            "gridcolor": "white",
            "gridwidth": 2,
            "linecolor": "white",
            "showbackground": true,
            "ticks": "",
            "zerolinecolor": "white"
           },
           "zaxis": {
            "backgroundcolor": "#E5ECF6",
            "gridcolor": "white",
            "gridwidth": 2,
            "linecolor": "white",
            "showbackground": true,
            "ticks": "",
            "zerolinecolor": "white"
           }
          },
          "shapedefaults": {
           "line": {
            "color": "#2a3f5f"
           }
          },
          "ternary": {
           "aaxis": {
            "gridcolor": "white",
            "linecolor": "white",
            "ticks": ""
           },
           "baxis": {
            "gridcolor": "white",
            "linecolor": "white",
            "ticks": ""
           },
           "bgcolor": "#E5ECF6",
           "caxis": {
            "gridcolor": "white",
            "linecolor": "white",
            "ticks": ""
           }
          },
          "title": {
           "x": 0.05
          },
          "xaxis": {
           "automargin": true,
           "gridcolor": "white",
           "linecolor": "white",
           "ticks": "",
           "title": {
            "standoff": 15
           },
           "zerolinecolor": "white",
           "zerolinewidth": 2
          },
          "yaxis": {
           "automargin": true,
           "gridcolor": "white",
           "linecolor": "white",
           "ticks": "",
           "title": {
            "standoff": 15
           },
           "zerolinecolor": "white",
           "zerolinewidth": 2
          }
         }
        },
        "title": {
         "text": "UsageFrequency Heatmap: age_group vs BenefitSubType"
        },
        "xaxis": {
         "anchor": "y",
         "constrain": "domain",
         "domain": [
          0,
          1
         ],
         "scaleanchor": "y",
         "title": {
          "text": "BenefitSubType"
         }
        },
        "yaxis": {
         "anchor": "x",
         "autorange": "reversed",
         "constrain": "domain",
         "domain": [
          0,
          1
         ],
         "title": {
          "text": "age_group"
         }
        }
       }
      }
     },
     "metadata": {},
     "output_type": "display_data"
    },
    {
     "data": {
      "application/vnd.plotly.v1+json": {
       "config": {
        "plotlyServerURL": "https://plot.ly"
       },
       "data": [
        {
         "coloraxis": "coloraxis",
         "hovertemplate": "BenefitSubType: %{x}<br>Gender: %{y}<br>Avg UsageFrequency: %{z}<extra></extra>",
         "name": "0",
         "type": "heatmap",
         "x": [
          "401k Basic Matching",
          "401k Catch-Up Contributions",
          "401k High Contribution",
          "401k Investment Fees",
          "401k Maximum Matching",
          "401k Standard Matching",
          "After-School Care",
          "Basic Coverage",
          "Conference Attendance",
          "Dependent Coverage",
          "Family Membership",
          "Graduate Degree",
          "HDHP Individual",
          "HMO Family",
          "Healthcare FSA",
          "Individual Courses",
          "Monthly Communications",
          "Monthly Internet Allowance",
          "On-Site Infant Care",
          "PPO Family",
          "PPO Individual",
          "Premium Discount Tier 1",
          "Professional Certification",
          "Supplemental High Amount",
          "Supplemental Standard",
          "Tier 1 Partners",
          "Tier 2 Partners",
          "Tier 3 Partners",
          "Transit Subsidy",
          "Undergraduate Degree"
         ],
         "xaxis": "x",
         "y": [
          "Female",
          "Male",
          "Non-Binary"
         ],
         "yaxis": "y",
         "z": {
          "bdata": "XI/C9ShcD0Axv6vFTZgHQN5o6vzaQxBAcgUxuYKYDEB/krGohtkJQJqZmZmZWQdAyIV9XNjHBUByAa+30R8KQAAAAAAAwAxAjn2PyAnCDUC1gU4b6LQNQI9Qfaat8QdAbtu2bdu2BUA1adKkSZMOQHVrflikDAhAAm0a0KYBDUDHcRzHcRwLQJwBoeRO0QpAMFTTMZcIB0CrqqqqqqoKQNAo8TNK/AhAHEGk9QK2CUCU+BklfkYFQGlpaWlpaQtA5L5bCv1JDkCONEeaI80JQKuqqqqqqghAAAAAAADAC0APDw8PDw8LQDVsN8uTyAhA7dpEya5NDEDAZPlLlr8MQOh5nud5ng1AZZ9DaoLxDkCoh3qoh3oQQDi96U1veglAXS6Xy+VyCUA9y4g+oDoOQCcnJycnJwtAgoGBgYGBCUA5juM4juMIQMCYxMH71ghATv4mf5O/CUAcx3Ecx3EMQAz6gr6gLwxAbHO6yjPxCUByHMdxHMcNQDUGTGPANA5AszqMMhXPBUDaLfxqTKQLQLRpQJsGtAlAlxUDJbzRCECCoyc4eoILQEwFrb5U0ApAA5b08qctDECuyzvgSNEIQM3MzMzMzAtA2FBeQ3kNCUBndRhlKp4LQB3Di/PQMQxAAAAAAAAAFEAAAAAAAAAAQKuqqqqqqhZAJUmSJEmSBEBmZmZmZmYSQG7btm3btglAxU7sxE7sBEDHcRzHcRwPQKuqqqqqqvo/AAAAAAAABECO4ziO4zj+P6uqqqqqqiBAAAAAAAAAIUCrqqqqqqoGQJqZmZmZmRFAAAAAAAAAEEAAAAAAAAAMQJIkSZIkSQJAAAAAAAAA8D8AAAAAAADoP83MzMzMzAxAAAAAAAAA+D/NzMzMzMwEQAAAAAAAABVAq6qqqqqqBkAAAAAAAAAUQAAAAAAAAPQ/x3Ecx3EcD0AzMzMzMzPzP+Q4juM4jgNA",
          "dtype": "f8",
          "shape": "3, 30"
         }
        }
       ],
       "layout": {
        "coloraxis": {
         "colorbar": {
          "title": {
           "text": "Avg UsageFrequency"
          }
         },
         "colorscale": [
          [
           0,
           "#0d0887"
          ],
          [
           0.1111111111111111,
           "#46039f"
          ],
          [
           0.2222222222222222,
           "#7201a8"
          ],
          [
           0.3333333333333333,
           "#9c179e"
          ],
          [
           0.4444444444444444,
           "#bd3786"
          ],
          [
           0.5555555555555556,
           "#d8576b"
          ],
          [
           0.6666666666666666,
           "#ed7953"
          ],
          [
           0.7777777777777778,
           "#fb9f3a"
          ],
          [
           0.8888888888888888,
           "#fdca26"
          ],
          [
           1,
           "#f0f921"
          ]
         ]
        },
        "template": {
         "data": {
          "bar": [
           {
            "error_x": {
             "color": "#2a3f5f"
            },
            "error_y": {
             "color": "#2a3f5f"
            },
            "marker": {
             "line": {
              "color": "#E5ECF6",
              "width": 0.5
             },
             "pattern": {
              "fillmode": "overlay",
              "size": 10,
              "solidity": 0.2
             }
            },
            "type": "bar"
           }
          ],
          "barpolar": [
           {
            "marker": {
             "line": {
              "color": "#E5ECF6",
              "width": 0.5
             },
             "pattern": {
              "fillmode": "overlay",
              "size": 10,
              "solidity": 0.2
             }
            },
            "type": "barpolar"
           }
          ],
          "carpet": [
           {
            "aaxis": {
             "endlinecolor": "#2a3f5f",
             "gridcolor": "white",
             "linecolor": "white",
             "minorgridcolor": "white",
             "startlinecolor": "#2a3f5f"
            },
            "baxis": {
             "endlinecolor": "#2a3f5f",
             "gridcolor": "white",
             "linecolor": "white",
             "minorgridcolor": "white",
             "startlinecolor": "#2a3f5f"
            },
            "type": "carpet"
           }
          ],
          "choropleth": [
           {
            "colorbar": {
             "outlinewidth": 0,
             "ticks": ""
            },
            "type": "choropleth"
           }
          ],
          "contour": [
           {
            "colorbar": {
             "outlinewidth": 0,
             "ticks": ""
            },
            "colorscale": [
             [
              0,
              "#0d0887"
             ],
             [
              0.1111111111111111,
              "#46039f"
             ],
             [
              0.2222222222222222,
              "#7201a8"
             ],
             [
              0.3333333333333333,
              "#9c179e"
             ],
             [
              0.4444444444444444,
              "#bd3786"
             ],
             [
              0.5555555555555556,
              "#d8576b"
             ],
             [
              0.6666666666666666,
              "#ed7953"
             ],
             [
              0.7777777777777778,
              "#fb9f3a"
             ],
             [
              0.8888888888888888,
              "#fdca26"
             ],
             [
              1,
              "#f0f921"
             ]
            ],
            "type": "contour"
           }
          ],
          "contourcarpet": [
           {
            "colorbar": {
             "outlinewidth": 0,
             "ticks": ""
            },
            "type": "contourcarpet"
           }
          ],
          "heatmap": [
           {
            "colorbar": {
             "outlinewidth": 0,
             "ticks": ""
            },
            "colorscale": [
             [
              0,
              "#0d0887"
             ],
             [
              0.1111111111111111,
              "#46039f"
             ],
             [
              0.2222222222222222,
              "#7201a8"
             ],
             [
              0.3333333333333333,
              "#9c179e"
             ],
             [
              0.4444444444444444,
              "#bd3786"
             ],
             [
              0.5555555555555556,
              "#d8576b"
             ],
             [
              0.6666666666666666,
              "#ed7953"
             ],
             [
              0.7777777777777778,
              "#fb9f3a"
             ],
             [
              0.8888888888888888,
              "#fdca26"
             ],
             [
              1,
              "#f0f921"
             ]
            ],
            "type": "heatmap"
           }
          ],
          "histogram": [
           {
            "marker": {
             "pattern": {
              "fillmode": "overlay",
              "size": 10,
              "solidity": 0.2
             }
            },
            "type": "histogram"
           }
          ],
          "histogram2d": [
           {
            "colorbar": {
             "outlinewidth": 0,
             "ticks": ""
            },
            "colorscale": [
             [
              0,
              "#0d0887"
             ],
             [
              0.1111111111111111,
              "#46039f"
             ],
             [
              0.2222222222222222,
              "#7201a8"
             ],
             [
              0.3333333333333333,
              "#9c179e"
             ],
             [
              0.4444444444444444,
              "#bd3786"
             ],
             [
              0.5555555555555556,
              "#d8576b"
             ],
             [
              0.6666666666666666,
              "#ed7953"
             ],
             [
              0.7777777777777778,
              "#fb9f3a"
             ],
             [
              0.8888888888888888,
              "#fdca26"
             ],
             [
              1,
              "#f0f921"
             ]
            ],
            "type": "histogram2d"
           }
          ],
          "histogram2dcontour": [
           {
            "colorbar": {
             "outlinewidth": 0,
             "ticks": ""
            },
            "colorscale": [
             [
              0,
              "#0d0887"
             ],
             [
              0.1111111111111111,
              "#46039f"
             ],
             [
              0.2222222222222222,
              "#7201a8"
             ],
             [
              0.3333333333333333,
              "#9c179e"
             ],
             [
              0.4444444444444444,
              "#bd3786"
             ],
             [
              0.5555555555555556,
              "#d8576b"
             ],
             [
              0.6666666666666666,
              "#ed7953"
             ],
             [
              0.7777777777777778,
              "#fb9f3a"
             ],
             [
              0.8888888888888888,
              "#fdca26"
             ],
             [
              1,
              "#f0f921"
             ]
            ],
            "type": "histogram2dcontour"
           }
          ],
          "mesh3d": [
           {
            "colorbar": {
             "outlinewidth": 0,
             "ticks": ""
            },
            "type": "mesh3d"
           }
          ],
          "parcoords": [
           {
            "line": {
             "colorbar": {
              "outlinewidth": 0,
              "ticks": ""
             }
            },
            "type": "parcoords"
           }
          ],
          "pie": [
           {
            "automargin": true,
            "type": "pie"
           }
          ],
          "scatter": [
           {
            "fillpattern": {
             "fillmode": "overlay",
             "size": 10,
             "solidity": 0.2
            },
            "type": "scatter"
           }
          ],
          "scatter3d": [
           {
            "line": {
             "colorbar": {
              "outlinewidth": 0,
              "ticks": ""
             }
            },
            "marker": {
             "colorbar": {
              "outlinewidth": 0,
              "ticks": ""
             }
            },
            "type": "scatter3d"
           }
          ],
          "scattercarpet": [
           {
            "marker": {
             "colorbar": {
              "outlinewidth": 0,
              "ticks": ""
             }
            },
            "type": "scattercarpet"
           }
          ],
          "scattergeo": [
           {
            "marker": {
             "colorbar": {
              "outlinewidth": 0,
              "ticks": ""
             }
            },
            "type": "scattergeo"
           }
          ],
          "scattergl": [
           {
            "marker": {
             "colorbar": {
              "outlinewidth": 0,
              "ticks": ""
             }
            },
            "type": "scattergl"
           }
          ],
          "scattermap": [
           {
            "marker": {
             "colorbar": {
              "outlinewidth": 0,
              "ticks": ""
             }
            },
            "type": "scattermap"
           }
          ],
          "scattermapbox": [
           {
            "marker": {
             "colorbar": {
              "outlinewidth": 0,
              "ticks": ""
             }
            },
            "type": "scattermapbox"
           }
          ],
          "scatterpolar": [
           {
            "marker": {
             "colorbar": {
              "outlinewidth": 0,
              "ticks": ""
             }
            },
            "type": "scatterpolar"
           }
          ],
          "scatterpolargl": [
           {
            "marker": {
             "colorbar": {
              "outlinewidth": 0,
              "ticks": ""
             }
            },
            "type": "scatterpolargl"
           }
          ],
          "scatterternary": [
           {
            "marker": {
             "colorbar": {
              "outlinewidth": 0,
              "ticks": ""
             }
            },
            "type": "scatterternary"
           }
          ],
          "surface": [
           {
            "colorbar": {
             "outlinewidth": 0,
             "ticks": ""
            },
            "colorscale": [
             [
              0,
              "#0d0887"
             ],
             [
              0.1111111111111111,
              "#46039f"
             ],
             [
              0.2222222222222222,
              "#7201a8"
             ],
             [
              0.3333333333333333,
              "#9c179e"
             ],
             [
              0.4444444444444444,
              "#bd3786"
             ],
             [
              0.5555555555555556,
              "#d8576b"
             ],
             [
              0.6666666666666666,
              "#ed7953"
             ],
             [
              0.7777777777777778,
              "#fb9f3a"
             ],
             [
              0.8888888888888888,
              "#fdca26"
             ],
             [
              1,
              "#f0f921"
             ]
            ],
            "type": "surface"
           }
          ],
          "table": [
           {
            "cells": {
             "fill": {
              "color": "#EBF0F8"
             },
             "line": {
              "color": "white"
             }
            },
            "header": {
             "fill": {
              "color": "#C8D4E3"
             },
             "line": {
              "color": "white"
             }
            },
            "type": "table"
           }
          ]
         },
         "layout": {
          "annotationdefaults": {
           "arrowcolor": "#2a3f5f",
           "arrowhead": 0,
           "arrowwidth": 1
          },
          "autotypenumbers": "strict",
          "coloraxis": {
           "colorbar": {
            "outlinewidth": 0,
            "ticks": ""
           }
          },
          "colorscale": {
           "diverging": [
            [
             0,
             "#8e0152"
            ],
            [
             0.1,
             "#c51b7d"
            ],
            [
             0.2,
             "#de77ae"
            ],
            [
             0.3,
             "#f1b6da"
            ],
            [
             0.4,
             "#fde0ef"
            ],
            [
             0.5,
             "#f7f7f7"
            ],
            [
             0.6,
             "#e6f5d0"
            ],
            [
             0.7,
             "#b8e186"
            ],
            [
             0.8,
             "#7fbc41"
            ],
            [
             0.9,
             "#4d9221"
            ],
            [
             1,
             "#276419"
            ]
           ],
           "sequential": [
            [
             0,
             "#0d0887"
            ],
            [
             0.1111111111111111,
             "#46039f"
            ],
            [
             0.2222222222222222,
             "#7201a8"
            ],
            [
             0.3333333333333333,
             "#9c179e"
            ],
            [
             0.4444444444444444,
             "#bd3786"
            ],
            [
             0.5555555555555556,
             "#d8576b"
            ],
            [
             0.6666666666666666,
             "#ed7953"
            ],
            [
             0.7777777777777778,
             "#fb9f3a"
            ],
            [
             0.8888888888888888,
             "#fdca26"
            ],
            [
             1,
             "#f0f921"
            ]
           ],
           "sequentialminus": [
            [
             0,
             "#0d0887"
            ],
            [
             0.1111111111111111,
             "#46039f"
            ],
            [
             0.2222222222222222,
             "#7201a8"
            ],
            [
             0.3333333333333333,
             "#9c179e"
            ],
            [
             0.4444444444444444,
             "#bd3786"
            ],
            [
             0.5555555555555556,
             "#d8576b"
            ],
            [
             0.6666666666666666,
             "#ed7953"
            ],
            [
             0.7777777777777778,
             "#fb9f3a"
            ],
            [
             0.8888888888888888,
             "#fdca26"
            ],
            [
             1,
             "#f0f921"
            ]
           ]
          },
          "colorway": [
           "#636efa",
           "#EF553B",
           "#00cc96",
           "#ab63fa",
           "#FFA15A",
           "#19d3f3",
           "#FF6692",
           "#B6E880",
           "#FF97FF",
           "#FECB52"
          ],
          "font": {
           "color": "#2a3f5f"
          },
          "geo": {
           "bgcolor": "white",
           "lakecolor": "white",
           "landcolor": "#E5ECF6",
           "showlakes": true,
           "showland": true,
           "subunitcolor": "white"
          },
          "hoverlabel": {
           "align": "left"
          },
          "hovermode": "closest",
          "mapbox": {
           "style": "light"
          },
          "paper_bgcolor": "white",
          "plot_bgcolor": "#E5ECF6",
          "polar": {
           "angularaxis": {
            "gridcolor": "white",
            "linecolor": "white",
            "ticks": ""
           },
           "bgcolor": "#E5ECF6",
           "radialaxis": {
            "gridcolor": "white",
            "linecolor": "white",
            "ticks": ""
           }
          },
          "scene": {
           "xaxis": {
            "backgroundcolor": "#E5ECF6",
            "gridcolor": "white",
            "gridwidth": 2,
            "linecolor": "white",
            "showbackground": true,
            "ticks": "",
            "zerolinecolor": "white"
           },
           "yaxis": {
            "backgroundcolor": "#E5ECF6",
            "gridcolor": "white",
            "gridwidth": 2,
            "linecolor": "white",
            "showbackground": true,
            "ticks": "",
            "zerolinecolor": "white"
           },
           "zaxis": {
            "backgroundcolor": "#E5ECF6",
            "gridcolor": "white",
            "gridwidth": 2,
            "linecolor": "white",
            "showbackground": true,
            "ticks": "",
            "zerolinecolor": "white"
           }
          },
          "shapedefaults": {
           "line": {
            "color": "#2a3f5f"
           }
          },
          "ternary": {
           "aaxis": {
            "gridcolor": "white",
            "linecolor": "white",
            "ticks": ""
           },
           "baxis": {
            "gridcolor": "white",
            "linecolor": "white",
            "ticks": ""
           },
           "bgcolor": "#E5ECF6",
           "caxis": {
            "gridcolor": "white",
            "linecolor": "white",
            "ticks": ""
           }
          },
          "title": {
           "x": 0.05
          },
          "xaxis": {
           "automargin": true,
           "gridcolor": "white",
           "linecolor": "white",
           "ticks": "",
           "title": {
            "standoff": 15
           },
           "zerolinecolor": "white",
           "zerolinewidth": 2
          },
          "yaxis": {
           "automargin": true,
           "gridcolor": "white",
           "linecolor": "white",
           "ticks": "",
           "title": {
            "standoff": 15
           },
           "zerolinecolor": "white",
           "zerolinewidth": 2
          }
         }
        },
        "title": {
         "text": "UsageFrequency Heatmap: Gender vs BenefitSubType"
        },
        "xaxis": {
         "anchor": "y",
         "constrain": "domain",
         "domain": [
          0,
          1
         ],
         "scaleanchor": "y",
         "title": {
          "text": "BenefitSubType"
         }
        },
        "yaxis": {
         "anchor": "x",
         "autorange": "reversed",
         "constrain": "domain",
         "domain": [
          0,
          1
         ],
         "title": {
          "text": "Gender"
         }
        }
       }
      }
     },
     "metadata": {},
     "output_type": "display_data"
    },
    {
     "data": {
      "application/vnd.plotly.v1+json": {
       "config": {
        "plotlyServerURL": "https://plot.ly"
       },
       "data": [
        {
         "coloraxis": "coloraxis",
         "hovertemplate": "BenefitSubType: %{x}<br>Department: %{y}<br>Avg UsageFrequency: %{z}<extra></extra>",
         "name": "0",
         "type": "heatmap",
         "x": [
          "401k Basic Matching",
          "401k Catch-Up Contributions",
          "401k High Contribution",
          "401k Investment Fees",
          "401k Maximum Matching",
          "401k Standard Matching",
          "After-School Care",
          "Basic Coverage",
          "Conference Attendance",
          "Dependent Coverage",
          "Family Membership",
          "Graduate Degree",
          "HDHP Individual",
          "HMO Family",
          "Healthcare FSA",
          "Individual Courses",
          "Monthly Communications",
          "Monthly Internet Allowance",
          "On-Site Infant Care",
          "PPO Family",
          "PPO Individual",
          "Premium Discount Tier 1",
          "Professional Certification",
          "Supplemental High Amount",
          "Supplemental Standard",
          "Tier 1 Partners",
          "Tier 2 Partners",
          "Tier 3 Partners",
          "Transit Subsidy",
          "Undergraduate Degree"
         ],
         "xaxis": "x",
         "y": [
          "Finance",
          "HR",
          "IT",
          "Marketing",
          "Sales"
         ],
         "yaxis": "y",
         "z": {
          "bdata": "LvxqTKQHCkCnN73pTW8KQEp4o6nzaw9A+awbTJHPDkBiJ3ZiJ3YKQBIjRowYMQpA2Ymd2ImdBEDYUF5DeQ0HQI7jOI7jOApAyFYEDSd1D0BfQnsJ7SUMQAAAAAAAQAZAAAAAAAAACEDNzMzMzMwOQMaSXyz5xQpAoQ7qoA7qCEB7FK5H4XoQQBX5rBtMkQtAJchTgjwlCEBY7mmE5Z4KQBvKayivoQpAH3zwwQcfBECSJEmSJEkMQD3P8zzP8xBAc08jLPc0CkC21lprrbUGQAAAAAAA4AdApqWlpaWlCUAOpshn3WAKQNhQXkN5DQtAiYiIiIiIEECKndiJndgJQH0MzsfgfBBAtG4wRT7rBkDHcRzHcRwLQPHw8PDw8AZAAAAAAAAADkDwwQcffPAJQEIapEEapAlAiTvijrgjBkCamZmZmZkNQFD6pE/6pA9ADM7H4HwMDkAiNcF4K/sMQK0bTJHPuglAyiabbLLJCkD2KFyPwvUEQD+C+wjuIxBA+hicj8H5CEBT1pQ1ZU0JQIwuuuiiiwRAOY7jOI7jCEAfGutDY30IQIZhGIZhGA5AMN7KPofUEEBP7MRO7MQKQDw8PDw8PARAoRd6oRd6EUC5gphcQUwOQDMzMzMzMwpAqZVaqZVaEUCH8hrKaygJQDEMwzAMwwxACIIgCIIgEEDgLvVk/HYJQC1uwvyuFgdAQgghhBBCCEBOb3rTm94QQKuqqqqqqg5AvNHU+bWHDEAtLS0tLS0HQCbFC2RSvAhA2DumBvaOCUAH9o6pgb0LQNu2bdu2bQlAfrvUk/HbDUA22WSTTTYNQGCNifRA5QxAJUmSJEmSCEAXN2F+V4sLQKPEzyjxMwpAxU7sxE7sDEBVVVVVVVUHQCjjt0s9GQdAJStZyUpWCkAbymsor6EOQHkN5TWU1wxAUPqkT/qkB0DNzMzMzEwKQCa0l9BeQg1ADw8PDw8PD0AAAAAAAAAIQJqZmZmZmQ1ADL3QC73QC0BYR5v3KS4RQB4eHh4eHghAo4suuuiiBUC1tLS0tLQMQA4kWmFzIAlAF1100UUXDUCjiy666KIHQPHw8PDw8AhACe0ltJfQBkAfwX0E9xEMQDMzMzMzMw1A2rxPcckQDEDT0tLS0tIMQGnSpEmTJg1AmpmZmZmZAUAN5TWU11AGQKOLLrroogtAymsor6G8CEAcx3Ecx3EGQPv6+vr6+gpAdoMp8lk3EEAQBEEQBEEIQNq8T3HJEAxAEWflJ8RZCUB37ty5c+cGQLN16DdbhwZAO6iDOqiDCkA5juM4juMLQL733nvvvRFAS0tLS0tLD0AUrkfhehQOQGZmZmZmZgpANtlkk002BUCXejJ+u9QLQOfOnTt37gxAZmZmZmbmCEB91g2myGcNQKdpmqZpmgZAgqdb88MiBUAaYbmnEZYPQOh5nud5ngdAAAAAAACgC0Bu27Zt27YNQN7d3d3d3QdASZIkSZIkA0AAAAAAAAAQQKuqqqqqKghAEARBEARBCECGYB1t3qcIQBphuacRlgdAQgghhBBCDEAAAAAAAMAGQAAAAAAAgAtAyFYEDSd1B0AaYbmnEZYPQDymBvaOqQlA",
          "dtype": "f8",
          "shape": "5, 30"
         }
        }
       ],
       "layout": {
        "coloraxis": {
         "colorbar": {
          "title": {
           "text": "Avg UsageFrequency"
          }
         },
         "colorscale": [
          [
           0,
           "#0d0887"
          ],
          [
           0.1111111111111111,
           "#46039f"
          ],
          [
           0.2222222222222222,
           "#7201a8"
          ],
          [
           0.3333333333333333,
           "#9c179e"
          ],
          [
           0.4444444444444444,
           "#bd3786"
          ],
          [
           0.5555555555555556,
           "#d8576b"
          ],
          [
           0.6666666666666666,
           "#ed7953"
          ],
          [
           0.7777777777777778,
           "#fb9f3a"
          ],
          [
           0.8888888888888888,
           "#fdca26"
          ],
          [
           1,
           "#f0f921"
          ]
         ]
        },
        "template": {
         "data": {
          "bar": [
           {
            "error_x": {
             "color": "#2a3f5f"
            },
            "error_y": {
             "color": "#2a3f5f"
            },
            "marker": {
             "line": {
              "color": "#E5ECF6",
              "width": 0.5
             },
             "pattern": {
              "fillmode": "overlay",
              "size": 10,
              "solidity": 0.2
             }
            },
            "type": "bar"
           }
          ],
          "barpolar": [
           {
            "marker": {
             "line": {
              "color": "#E5ECF6",
              "width": 0.5
             },
             "pattern": {
              "fillmode": "overlay",
              "size": 10,
              "solidity": 0.2
             }
            },
            "type": "barpolar"
           }
          ],
          "carpet": [
           {
            "aaxis": {
             "endlinecolor": "#2a3f5f",
             "gridcolor": "white",
             "linecolor": "white",
             "minorgridcolor": "white",
             "startlinecolor": "#2a3f5f"
            },
            "baxis": {
             "endlinecolor": "#2a3f5f",
             "gridcolor": "white",
             "linecolor": "white",
             "minorgridcolor": "white",
             "startlinecolor": "#2a3f5f"
            },
            "type": "carpet"
           }
          ],
          "choropleth": [
           {
            "colorbar": {
             "outlinewidth": 0,
             "ticks": ""
            },
            "type": "choropleth"
           }
          ],
          "contour": [
           {
            "colorbar": {
             "outlinewidth": 0,
             "ticks": ""
            },
            "colorscale": [
             [
              0,
              "#0d0887"
             ],
             [
              0.1111111111111111,
              "#46039f"
             ],
             [
              0.2222222222222222,
              "#7201a8"
             ],
             [
              0.3333333333333333,
              "#9c179e"
             ],
             [
              0.4444444444444444,
              "#bd3786"
             ],
             [
              0.5555555555555556,
              "#d8576b"
             ],
             [
              0.6666666666666666,
              "#ed7953"
             ],
             [
              0.7777777777777778,
              "#fb9f3a"
             ],
             [
              0.8888888888888888,
              "#fdca26"
             ],
             [
              1,
              "#f0f921"
             ]
            ],
            "type": "contour"
           }
          ],
          "contourcarpet": [
           {
            "colorbar": {
             "outlinewidth": 0,
             "ticks": ""
            },
            "type": "contourcarpet"
           }
          ],
          "heatmap": [
           {
            "colorbar": {
             "outlinewidth": 0,
             "ticks": ""
            },
            "colorscale": [
             [
              0,
              "#0d0887"
             ],
             [
              0.1111111111111111,
              "#46039f"
             ],
             [
              0.2222222222222222,
              "#7201a8"
             ],
             [
              0.3333333333333333,
              "#9c179e"
             ],
             [
              0.4444444444444444,
              "#bd3786"
             ],
             [
              0.5555555555555556,
              "#d8576b"
             ],
             [
              0.6666666666666666,
              "#ed7953"
             ],
             [
              0.7777777777777778,
              "#fb9f3a"
             ],
             [
              0.8888888888888888,
              "#fdca26"
             ],
             [
              1,
              "#f0f921"
             ]
            ],
            "type": "heatmap"
           }
          ],
          "histogram": [
           {
            "marker": {
             "pattern": {
              "fillmode": "overlay",
              "size": 10,
              "solidity": 0.2
             }
            },
            "type": "histogram"
           }
          ],
          "histogram2d": [
           {
            "colorbar": {
             "outlinewidth": 0,
             "ticks": ""
            },
            "colorscale": [
             [
              0,
              "#0d0887"
             ],
             [
              0.1111111111111111,
              "#46039f"
             ],
             [
              0.2222222222222222,
              "#7201a8"
             ],
             [
              0.3333333333333333,
              "#9c179e"
             ],
             [
              0.4444444444444444,
              "#bd3786"
             ],
             [
              0.5555555555555556,
              "#d8576b"
             ],
             [
              0.6666666666666666,
              "#ed7953"
             ],
             [
              0.7777777777777778,
              "#fb9f3a"
             ],
             [
              0.8888888888888888,
              "#fdca26"
             ],
             [
              1,
              "#f0f921"
             ]
            ],
            "type": "histogram2d"
           }
          ],
          "histogram2dcontour": [
           {
            "colorbar": {
             "outlinewidth": 0,
             "ticks": ""
            },
            "colorscale": [
             [
              0,
              "#0d0887"
             ],
             [
              0.1111111111111111,
              "#46039f"
             ],
             [
              0.2222222222222222,
              "#7201a8"
             ],
             [
              0.3333333333333333,
              "#9c179e"
             ],
             [
              0.4444444444444444,
              "#bd3786"
             ],
             [
              0.5555555555555556,
              "#d8576b"
             ],
             [
              0.6666666666666666,
              "#ed7953"
             ],
             [
              0.7777777777777778,
              "#fb9f3a"
             ],
             [
              0.8888888888888888,
              "#fdca26"
             ],
             [
              1,
              "#f0f921"
             ]
            ],
            "type": "histogram2dcontour"
           }
          ],
          "mesh3d": [
           {
            "colorbar": {
             "outlinewidth": 0,
             "ticks": ""
            },
            "type": "mesh3d"
           }
          ],
          "parcoords": [
           {
            "line": {
             "colorbar": {
              "outlinewidth": 0,
              "ticks": ""
             }
            },
            "type": "parcoords"
           }
          ],
          "pie": [
           {
            "automargin": true,
            "type": "pie"
           }
          ],
          "scatter": [
           {
            "fillpattern": {
             "fillmode": "overlay",
             "size": 10,
             "solidity": 0.2
            },
            "type": "scatter"
           }
          ],
          "scatter3d": [
           {
            "line": {
             "colorbar": {
              "outlinewidth": 0,
              "ticks": ""
             }
            },
            "marker": {
             "colorbar": {
              "outlinewidth": 0,
              "ticks": ""
             }
            },
            "type": "scatter3d"
           }
          ],
          "scattercarpet": [
           {
            "marker": {
             "colorbar": {
              "outlinewidth": 0,
              "ticks": ""
             }
            },
            "type": "scattercarpet"
           }
          ],
          "scattergeo": [
           {
            "marker": {
             "colorbar": {
              "outlinewidth": 0,
              "ticks": ""
             }
            },
            "type": "scattergeo"
           }
          ],
          "scattergl": [
           {
            "marker": {
             "colorbar": {
              "outlinewidth": 0,
              "ticks": ""
             }
            },
            "type": "scattergl"
           }
          ],
          "scattermap": [
           {
            "marker": {
             "colorbar": {
              "outlinewidth": 0,
              "ticks": ""
             }
            },
            "type": "scattermap"
           }
          ],
          "scattermapbox": [
           {
            "marker": {
             "colorbar": {
              "outlinewidth": 0,
              "ticks": ""
             }
            },
            "type": "scattermapbox"
           }
          ],
          "scatterpolar": [
           {
            "marker": {
             "colorbar": {
              "outlinewidth": 0,
              "ticks": ""
             }
            },
            "type": "scatterpolar"
           }
          ],
          "scatterpolargl": [
           {
            "marker": {
             "colorbar": {
              "outlinewidth": 0,
              "ticks": ""
             }
            },
            "type": "scatterpolargl"
           }
          ],
          "scatterternary": [
           {
            "marker": {
             "colorbar": {
              "outlinewidth": 0,
              "ticks": ""
             }
            },
            "type": "scatterternary"
           }
          ],
          "surface": [
           {
            "colorbar": {
             "outlinewidth": 0,
             "ticks": ""
            },
            "colorscale": [
             [
              0,
              "#0d0887"
             ],
             [
              0.1111111111111111,
              "#46039f"
             ],
             [
              0.2222222222222222,
              "#7201a8"
             ],
             [
              0.3333333333333333,
              "#9c179e"
             ],
             [
              0.4444444444444444,
              "#bd3786"
             ],
             [
              0.5555555555555556,
              "#d8576b"
             ],
             [
              0.6666666666666666,
              "#ed7953"
             ],
             [
              0.7777777777777778,
              "#fb9f3a"
             ],
             [
              0.8888888888888888,
              "#fdca26"
             ],
             [
              1,
              "#f0f921"
             ]
            ],
            "type": "surface"
           }
          ],
          "table": [
           {
            "cells": {
             "fill": {
              "color": "#EBF0F8"
             },
             "line": {
              "color": "white"
             }
            },
            "header": {
             "fill": {
              "color": "#C8D4E3"
             },
             "line": {
              "color": "white"
             }
            },
            "type": "table"
           }
          ]
         },
         "layout": {
          "annotationdefaults": {
           "arrowcolor": "#2a3f5f",
           "arrowhead": 0,
           "arrowwidth": 1
          },
          "autotypenumbers": "strict",
          "coloraxis": {
           "colorbar": {
            "outlinewidth": 0,
            "ticks": ""
           }
          },
          "colorscale": {
           "diverging": [
            [
             0,
             "#8e0152"
            ],
            [
             0.1,
             "#c51b7d"
            ],
            [
             0.2,
             "#de77ae"
            ],
            [
             0.3,
             "#f1b6da"
            ],
            [
             0.4,
             "#fde0ef"
            ],
            [
             0.5,
             "#f7f7f7"
            ],
            [
             0.6,
             "#e6f5d0"
            ],
            [
             0.7,
             "#b8e186"
            ],
            [
             0.8,
             "#7fbc41"
            ],
            [
             0.9,
             "#4d9221"
            ],
            [
             1,
             "#276419"
            ]
           ],
           "sequential": [
            [
             0,
             "#0d0887"
            ],
            [
             0.1111111111111111,
             "#46039f"
            ],
            [
             0.2222222222222222,
             "#7201a8"
            ],
            [
             0.3333333333333333,
             "#9c179e"
            ],
            [
             0.4444444444444444,
             "#bd3786"
            ],
            [
             0.5555555555555556,
             "#d8576b"
            ],
            [
             0.6666666666666666,
             "#ed7953"
            ],
            [
             0.7777777777777778,
             "#fb9f3a"
            ],
            [
             0.8888888888888888,
             "#fdca26"
            ],
            [
             1,
             "#f0f921"
            ]
           ],
           "sequentialminus": [
            [
             0,
             "#0d0887"
            ],
            [
             0.1111111111111111,
             "#46039f"
            ],
            [
             0.2222222222222222,
             "#7201a8"
            ],
            [
             0.3333333333333333,
             "#9c179e"
            ],
            [
             0.4444444444444444,
             "#bd3786"
            ],
            [
             0.5555555555555556,
             "#d8576b"
            ],
            [
             0.6666666666666666,
             "#ed7953"
            ],
            [
             0.7777777777777778,
             "#fb9f3a"
            ],
            [
             0.8888888888888888,
             "#fdca26"
            ],
            [
             1,
             "#f0f921"
            ]
           ]
          },
          "colorway": [
           "#636efa",
           "#EF553B",
           "#00cc96",
           "#ab63fa",
           "#FFA15A",
           "#19d3f3",
           "#FF6692",
           "#B6E880",
           "#FF97FF",
           "#FECB52"
          ],
          "font": {
           "color": "#2a3f5f"
          },
          "geo": {
           "bgcolor": "white",
           "lakecolor": "white",
           "landcolor": "#E5ECF6",
           "showlakes": true,
           "showland": true,
           "subunitcolor": "white"
          },
          "hoverlabel": {
           "align": "left"
          },
          "hovermode": "closest",
          "mapbox": {
           "style": "light"
          },
          "paper_bgcolor": "white",
          "plot_bgcolor": "#E5ECF6",
          "polar": {
           "angularaxis": {
            "gridcolor": "white",
            "linecolor": "white",
            "ticks": ""
           },
           "bgcolor": "#E5ECF6",
           "radialaxis": {
            "gridcolor": "white",
            "linecolor": "white",
            "ticks": ""
           }
          },
          "scene": {
           "xaxis": {
            "backgroundcolor": "#E5ECF6",
            "gridcolor": "white",
            "gridwidth": 2,
            "linecolor": "white",
            "showbackground": true,
            "ticks": "",
            "zerolinecolor": "white"
           },
           "yaxis": {
            "backgroundcolor": "#E5ECF6",
            "gridcolor": "white",
            "gridwidth": 2,
            "linecolor": "white",
            "showbackground": true,
            "ticks": "",
            "zerolinecolor": "white"
           },
           "zaxis": {
            "backgroundcolor": "#E5ECF6",
            "gridcolor": "white",
            "gridwidth": 2,
            "linecolor": "white",
            "showbackground": true,
            "ticks": "",
            "zerolinecolor": "white"
           }
          },
          "shapedefaults": {
           "line": {
            "color": "#2a3f5f"
           }
          },
          "ternary": {
           "aaxis": {
            "gridcolor": "white",
            "linecolor": "white",
            "ticks": ""
           },
           "baxis": {
            "gridcolor": "white",
            "linecolor": "white",
            "ticks": ""
           },
           "bgcolor": "#E5ECF6",
           "caxis": {
            "gridcolor": "white",
            "linecolor": "white",
            "ticks": ""
           }
          },
          "title": {
           "x": 0.05
          },
          "xaxis": {
           "automargin": true,
           "gridcolor": "white",
           "linecolor": "white",
           "ticks": "",
           "title": {
            "standoff": 15
           },
           "zerolinecolor": "white",
           "zerolinewidth": 2
          },
          "yaxis": {
           "automargin": true,
           "gridcolor": "white",
           "linecolor": "white",
           "ticks": "",
           "title": {
            "standoff": 15
           },
           "zerolinecolor": "white",
           "zerolinewidth": 2
          }
         }
        },
        "title": {
         "text": "UsageFrequency Heatmap: Department vs BenefitSubType"
        },
        "xaxis": {
         "anchor": "y",
         "constrain": "domain",
         "domain": [
          0,
          1
         ],
         "scaleanchor": "y",
         "title": {
          "text": "BenefitSubType"
         }
        },
        "yaxis": {
         "anchor": "x",
         "autorange": "reversed",
         "constrain": "domain",
         "domain": [
          0,
          1
         ],
         "title": {
          "text": "Department"
         }
        }
       }
      }
     },
     "metadata": {},
     "output_type": "display_data"
    }
   ],
   "source": [
    "# Heatmap: UsageFrequency by Demographic Feature and Benefit Subtype\n",
    "import plotly.express as px\n",
    "for feature in ['tenure_group', 'age_group', 'Gender', 'Department']:\n",
    "    heatmap_data = merged.groupby([feature, 'BenefitSubType'])['UsageFrequency'].mean().unstack()\n",
    "    fig = px.imshow(heatmap_data, labels=dict(x='BenefitSubType', y=feature, color='Avg UsageFrequency'), title=f'UsageFrequency Heatmap: {feature} vs BenefitSubType')\n",
    "    fig.show()"
   ]
  },
  {
   "cell_type": "code",
   "execution_count": 22,
   "id": "23afef4e",
   "metadata": {},
   "outputs": [
    {
     "data": {
      "application/vnd.microsoft.datawrangler.viewer.v0+json": {
       "columns": [
        {
         "name": "index",
         "rawType": "object",
         "type": "string"
        },
        {
         "name": "401k Basic Matching",
         "rawType": "float64",
         "type": "float"
        },
        {
         "name": "401k Catch-Up Contributions",
         "rawType": "float64",
         "type": "float"
        },
        {
         "name": "401k High Contribution",
         "rawType": "float64",
         "type": "float"
        },
        {
         "name": "401k Investment Fees",
         "rawType": "float64",
         "type": "float"
        },
        {
         "name": "401k Maximum Matching",
         "rawType": "float64",
         "type": "float"
        },
        {
         "name": "401k Standard Matching",
         "rawType": "float64",
         "type": "float"
        },
        {
         "name": "After-School Care",
         "rawType": "float64",
         "type": "float"
        },
        {
         "name": "Basic Coverage",
         "rawType": "float64",
         "type": "float"
        },
        {
         "name": "Conference Attendance",
         "rawType": "float64",
         "type": "float"
        },
        {
         "name": "Dependent Coverage",
         "rawType": "float64",
         "type": "float"
        },
        {
         "name": "Family Membership",
         "rawType": "float64",
         "type": "float"
        },
        {
         "name": "Graduate Degree",
         "rawType": "float64",
         "type": "float"
        },
        {
         "name": "HDHP Individual",
         "rawType": "float64",
         "type": "float"
        },
        {
         "name": "HMO Family",
         "rawType": "float64",
         "type": "float"
        },
        {
         "name": "Healthcare FSA",
         "rawType": "float64",
         "type": "float"
        },
        {
         "name": "Individual Courses",
         "rawType": "float64",
         "type": "float"
        },
        {
         "name": "Monthly Communications",
         "rawType": "float64",
         "type": "float"
        },
        {
         "name": "Monthly Internet Allowance",
         "rawType": "float64",
         "type": "float"
        },
        {
         "name": "On-Site Infant Care",
         "rawType": "float64",
         "type": "float"
        },
        {
         "name": "PPO Family",
         "rawType": "float64",
         "type": "float"
        },
        {
         "name": "PPO Individual",
         "rawType": "float64",
         "type": "float"
        },
        {
         "name": "Premium Discount Tier 1",
         "rawType": "float64",
         "type": "float"
        },
        {
         "name": "Professional Certification",
         "rawType": "float64",
         "type": "float"
        },
        {
         "name": "Supplemental High Amount",
         "rawType": "float64",
         "type": "float"
        },
        {
         "name": "Supplemental Standard",
         "rawType": "float64",
         "type": "float"
        },
        {
         "name": "Tier 1 Partners",
         "rawType": "float64",
         "type": "float"
        },
        {
         "name": "Tier 2 Partners",
         "rawType": "float64",
         "type": "float"
        },
        {
         "name": "Tier 3 Partners",
         "rawType": "float64",
         "type": "float"
        },
        {
         "name": "Transit Subsidy",
         "rawType": "float64",
         "type": "float"
        },
        {
         "name": "Undergraduate Degree",
         "rawType": "float64",
         "type": "float"
        }
       ],
       "ref": "6f44ec7f-fb1f-492c-ad28-a35465955175",
       "rows": [
        [
         "count",
         "5.0",
         "5.0",
         "5.0",
         "5.0",
         "5.0",
         "5.0",
         "5.0",
         "5.0",
         "5.0",
         "5.0",
         "5.0",
         "5.0",
         "5.0",
         "5.0",
         "5.0",
         "5.0",
         "5.0",
         "5.0",
         "5.0",
         "5.0",
         "5.0",
         "5.0",
         "5.0",
         "5.0",
         "5.0",
         "5.0",
         "5.0",
         "5.0",
         "5.0",
         "5.0"
        ],
        [
         "mean",
         "3.7844329741081273",
         "3.233193002014512",
         "3.956076805818306",
         "3.627330006153535",
         "3.586952351068722",
         "3.0684802986566573",
         "2.943048349499962",
         "3.4817006055389514",
         "3.414704548565247",
         "3.4029547893800447",
         "3.3491596944538125",
         "3.1543606925528835",
         "3.088945983254926",
         "3.6794443537719914",
         "3.2687670527670534",
         "3.431297330055844",
         "3.5417484084542905",
         "3.5440285827046685",
         "2.7608837503959456",
         "3.3445777126930083",
         "3.1295740586644483",
         "3.0730997073102335",
         "3.080225642169436",
         "3.4416297650677565",
         "3.6723712377615394",
         "3.177861384748057",
         "3.212949328782419",
         "3.326340647277836",
         "3.4366641801099185",
         "3.267574103318205"
        ],
        [
         "std",
         "0.4850129115848361",
         "0.18113525469884376",
         "0.3368716330407634",
         "0.4739768768914208",
         "0.4504736973499899",
         "0.2075605236177547",
         "0.483490509510381",
         "0.49244228614485264",
         "0.2973284323017956",
         "0.4608401791807785",
         "0.3932237318329895",
         "0.4729123879222139",
         "0.4243245218497753",
         "0.2113184180709612",
         "0.2561268804056802",
         "0.226055115160502",
         "0.554427057027436",
         "0.3806940658386842",
         "0.4310000766024538",
         "0.44179987280047234",
         "0.3512819859489595",
         "0.39015872126388645",
         "0.27840131833703596",
         "0.5684097311723325",
         "0.4340293761461156",
         "0.41840151322820157",
         "0.4502704721981724",
         "0.5957694614726492",
         "0.4345669387807868",
         "0.30513614156244134"
        ],
        [
         "min",
         "3.253731343283582",
         "3.0",
         "3.5952380952380953",
         "2.864864864864865",
         "3.183098591549296",
         "2.8676470588235294",
         "2.576923076923077",
         "2.8815789473684212",
         "3.140845070422535",
         "2.7674418604651163",
         "2.8970588235294117",
         "2.78125",
         "2.6419753086419755",
         "3.4675324675324677",
         "2.9523809523809526",
         "3.1142857142857143",
         "2.62",
         "2.9833333333333334",
         "2.2",
         "2.789473684210526",
         "2.5681818181818183",
         "2.515151515151515",
         "2.8055555555555554",
         "2.887323943661972",
         "3.2758620689655173",
         "2.838709677419355",
         "2.5294117647058822",
         "2.9322033898305087",
         "2.863013698630137",
         "2.8160919540229883"
        ],
        [
         "25%",
         "3.3142857142857145",
         "3.1447368421052633",
         "3.7",
         "3.476923076923077",
         "3.3076923076923075",
         "2.8860759493670884",
         "2.6515151515151514",
         "3.242424242424242",
         "3.2051282051282053",
         "3.1125",
         "2.9545454545454546",
         "2.8253968253968256",
         "2.8518518518518516",
         "3.508771929824561",
         "3.1785714285714284",
         "3.3484848484848486",
         "3.6029411764705883",
         "3.445945945945946",
         "2.392857142857143",
         "3.1627906976744184",
         "3.0208333333333335",
         "3.0317460317460316",
         "2.9166666666666665",
         "2.9482758620689653",
         "3.292134831460674",
         "2.84375",
         "2.984375",
         "2.9555555555555557",
         "3.2875",
         "3.207792207792208"
        ],
        [
         "50%",
         "3.8823529411764706",
         "3.230769230769231",
         "3.927710843373494",
         "3.8513513513513513",
         "3.388888888888889",
         "3.014705882352941",
         "2.7045454545454546",
         "3.4788732394366195",
         "3.2777777777777777",
         "3.566265060240964",
         "3.5185185185185186",
         "3.0919540229885056",
         "3.0",
         "3.6226415094339623",
         "3.2162162162162162",
         "3.453125",
         "3.6515151515151514",
         "3.611940298507463",
         "3.018181818181818",
         "3.3275862068965516",
         "3.2753623188405796",
         "3.0921052631578947",
         "3.061224489795918",
         "3.372549019607843",
         "3.532258064516129",
         "3.0317460317460316",
         "3.4375",
         "3.168831168831169",
         "3.2972972972972974",
         "3.275"
        ],
        [
         "75%",
         "4.133333333333334",
         "3.3043478260869565",
         "4.121951219512195",
         "3.911764705882353",
         "3.76",
         "3.2739726027397262",
         "3.032258064516129",
         "3.588235294117647",
         "3.6164383561643834",
         "3.6363636363636362",
         "3.675675675675676",
         "3.1176470588235294",
         "3.1948051948051948",
         "3.85",
         "3.3466666666666667",
         "3.5081967213114753",
         "3.7142857142857144",
         "3.643835616438356",
         "3.0714285714285716",
         "3.4430379746835444",
         "3.3289473684210527",
         "3.111111111111111",
         "3.081967213114754",
         "3.761904761904762",
         "4.054054054054054",
         "3.3461538461538463",
         "3.5081967213114753",
         "3.2058823529411766",
         "3.7872340425531914",
         "3.3815789473684212"
        ],
        [
         "max",
         "4.338461538461538",
         "3.486111111111111",
         "4.435483870967742",
         "4.031746031746032",
         "4.295081967213115",
         "3.3",
         "3.75",
         "4.217391304347826",
         "3.8333333333333335",
         "3.9322033898305087",
         "3.7",
         "3.9555555555555557",
         "3.7560975609756095",
         "3.9482758620689653",
         "3.65",
         "3.732394366197183",
         "4.12",
         "4.035087719298246",
         "3.1219512195121952",
         "4.0",
         "3.4545454545454546",
         "3.6153846153846154",
         "3.5357142857142856",
         "4.238095238095238",
         "4.2075471698113205",
         "3.8289473684210527",
         "3.6052631578947367",
         "4.369230769230769",
         "3.9482758620689653",
         "3.6574074074074074"
        ]
       ],
       "shape": {
        "columns": 30,
        "rows": 8
       }
      },
      "text/html": [
       "<div>\n",
       "<style scoped>\n",
       "    .dataframe tbody tr th:only-of-type {\n",
       "        vertical-align: middle;\n",
       "    }\n",
       "\n",
       "    .dataframe tbody tr th {\n",
       "        vertical-align: top;\n",
       "    }\n",
       "\n",
       "    .dataframe thead th {\n",
       "        text-align: right;\n",
       "    }\n",
       "</style>\n",
       "<table border=\"1\" class=\"dataframe\">\n",
       "  <thead>\n",
       "    <tr style=\"text-align: right;\">\n",
       "      <th>BenefitSubType</th>\n",
       "      <th>401k Basic Matching</th>\n",
       "      <th>401k Catch-Up Contributions</th>\n",
       "      <th>401k High Contribution</th>\n",
       "      <th>401k Investment Fees</th>\n",
       "      <th>401k Maximum Matching</th>\n",
       "      <th>401k Standard Matching</th>\n",
       "      <th>After-School Care</th>\n",
       "      <th>Basic Coverage</th>\n",
       "      <th>Conference Attendance</th>\n",
       "      <th>Dependent Coverage</th>\n",
       "      <th>...</th>\n",
       "      <th>PPO Individual</th>\n",
       "      <th>Premium Discount Tier 1</th>\n",
       "      <th>Professional Certification</th>\n",
       "      <th>Supplemental High Amount</th>\n",
       "      <th>Supplemental Standard</th>\n",
       "      <th>Tier 1 Partners</th>\n",
       "      <th>Tier 2 Partners</th>\n",
       "      <th>Tier 3 Partners</th>\n",
       "      <th>Transit Subsidy</th>\n",
       "      <th>Undergraduate Degree</th>\n",
       "    </tr>\n",
       "  </thead>\n",
       "  <tbody>\n",
       "    <tr>\n",
       "      <th>count</th>\n",
       "      <td>5.000000</td>\n",
       "      <td>5.000000</td>\n",
       "      <td>5.000000</td>\n",
       "      <td>5.000000</td>\n",
       "      <td>5.000000</td>\n",
       "      <td>5.000000</td>\n",
       "      <td>5.000000</td>\n",
       "      <td>5.000000</td>\n",
       "      <td>5.000000</td>\n",
       "      <td>5.000000</td>\n",
       "      <td>...</td>\n",
       "      <td>5.000000</td>\n",
       "      <td>5.000000</td>\n",
       "      <td>5.000000</td>\n",
       "      <td>5.000000</td>\n",
       "      <td>5.000000</td>\n",
       "      <td>5.000000</td>\n",
       "      <td>5.000000</td>\n",
       "      <td>5.000000</td>\n",
       "      <td>5.000000</td>\n",
       "      <td>5.000000</td>\n",
       "    </tr>\n",
       "    <tr>\n",
       "      <th>mean</th>\n",
       "      <td>3.784433</td>\n",
       "      <td>3.233193</td>\n",
       "      <td>3.956077</td>\n",
       "      <td>3.627330</td>\n",
       "      <td>3.586952</td>\n",
       "      <td>3.068480</td>\n",
       "      <td>2.943048</td>\n",
       "      <td>3.481701</td>\n",
       "      <td>3.414705</td>\n",
       "      <td>3.402955</td>\n",
       "      <td>...</td>\n",
       "      <td>3.129574</td>\n",
       "      <td>3.073100</td>\n",
       "      <td>3.080226</td>\n",
       "      <td>3.441630</td>\n",
       "      <td>3.672371</td>\n",
       "      <td>3.177861</td>\n",
       "      <td>3.212949</td>\n",
       "      <td>3.326341</td>\n",
       "      <td>3.436664</td>\n",
       "      <td>3.267574</td>\n",
       "    </tr>\n",
       "    <tr>\n",
       "      <th>std</th>\n",
       "      <td>0.485013</td>\n",
       "      <td>0.181135</td>\n",
       "      <td>0.336872</td>\n",
       "      <td>0.473977</td>\n",
       "      <td>0.450474</td>\n",
       "      <td>0.207561</td>\n",
       "      <td>0.483491</td>\n",
       "      <td>0.492442</td>\n",
       "      <td>0.297328</td>\n",
       "      <td>0.460840</td>\n",
       "      <td>...</td>\n",
       "      <td>0.351282</td>\n",
       "      <td>0.390159</td>\n",
       "      <td>0.278401</td>\n",
       "      <td>0.568410</td>\n",
       "      <td>0.434029</td>\n",
       "      <td>0.418402</td>\n",
       "      <td>0.450270</td>\n",
       "      <td>0.595769</td>\n",
       "      <td>0.434567</td>\n",
       "      <td>0.305136</td>\n",
       "    </tr>\n",
       "    <tr>\n",
       "      <th>min</th>\n",
       "      <td>3.253731</td>\n",
       "      <td>3.000000</td>\n",
       "      <td>3.595238</td>\n",
       "      <td>2.864865</td>\n",
       "      <td>3.183099</td>\n",
       "      <td>2.867647</td>\n",
       "      <td>2.576923</td>\n",
       "      <td>2.881579</td>\n",
       "      <td>3.140845</td>\n",
       "      <td>2.767442</td>\n",
       "      <td>...</td>\n",
       "      <td>2.568182</td>\n",
       "      <td>2.515152</td>\n",
       "      <td>2.805556</td>\n",
       "      <td>2.887324</td>\n",
       "      <td>3.275862</td>\n",
       "      <td>2.838710</td>\n",
       "      <td>2.529412</td>\n",
       "      <td>2.932203</td>\n",
       "      <td>2.863014</td>\n",
       "      <td>2.816092</td>\n",
       "    </tr>\n",
       "    <tr>\n",
       "      <th>25%</th>\n",
       "      <td>3.314286</td>\n",
       "      <td>3.144737</td>\n",
       "      <td>3.700000</td>\n",
       "      <td>3.476923</td>\n",
       "      <td>3.307692</td>\n",
       "      <td>2.886076</td>\n",
       "      <td>2.651515</td>\n",
       "      <td>3.242424</td>\n",
       "      <td>3.205128</td>\n",
       "      <td>3.112500</td>\n",
       "      <td>...</td>\n",
       "      <td>3.020833</td>\n",
       "      <td>3.031746</td>\n",
       "      <td>2.916667</td>\n",
       "      <td>2.948276</td>\n",
       "      <td>3.292135</td>\n",
       "      <td>2.843750</td>\n",
       "      <td>2.984375</td>\n",
       "      <td>2.955556</td>\n",
       "      <td>3.287500</td>\n",
       "      <td>3.207792</td>\n",
       "    </tr>\n",
       "    <tr>\n",
       "      <th>50%</th>\n",
       "      <td>3.882353</td>\n",
       "      <td>3.230769</td>\n",
       "      <td>3.927711</td>\n",
       "      <td>3.851351</td>\n",
       "      <td>3.388889</td>\n",
       "      <td>3.014706</td>\n",
       "      <td>2.704545</td>\n",
       "      <td>3.478873</td>\n",
       "      <td>3.277778</td>\n",
       "      <td>3.566265</td>\n",
       "      <td>...</td>\n",
       "      <td>3.275362</td>\n",
       "      <td>3.092105</td>\n",
       "      <td>3.061224</td>\n",
       "      <td>3.372549</td>\n",
       "      <td>3.532258</td>\n",
       "      <td>3.031746</td>\n",
       "      <td>3.437500</td>\n",
       "      <td>3.168831</td>\n",
       "      <td>3.297297</td>\n",
       "      <td>3.275000</td>\n",
       "    </tr>\n",
       "    <tr>\n",
       "      <th>75%</th>\n",
       "      <td>4.133333</td>\n",
       "      <td>3.304348</td>\n",
       "      <td>4.121951</td>\n",
       "      <td>3.911765</td>\n",
       "      <td>3.760000</td>\n",
       "      <td>3.273973</td>\n",
       "      <td>3.032258</td>\n",
       "      <td>3.588235</td>\n",
       "      <td>3.616438</td>\n",
       "      <td>3.636364</td>\n",
       "      <td>...</td>\n",
       "      <td>3.328947</td>\n",
       "      <td>3.111111</td>\n",
       "      <td>3.081967</td>\n",
       "      <td>3.761905</td>\n",
       "      <td>4.054054</td>\n",
       "      <td>3.346154</td>\n",
       "      <td>3.508197</td>\n",
       "      <td>3.205882</td>\n",
       "      <td>3.787234</td>\n",
       "      <td>3.381579</td>\n",
       "    </tr>\n",
       "    <tr>\n",
       "      <th>max</th>\n",
       "      <td>4.338462</td>\n",
       "      <td>3.486111</td>\n",
       "      <td>4.435484</td>\n",
       "      <td>4.031746</td>\n",
       "      <td>4.295082</td>\n",
       "      <td>3.300000</td>\n",
       "      <td>3.750000</td>\n",
       "      <td>4.217391</td>\n",
       "      <td>3.833333</td>\n",
       "      <td>3.932203</td>\n",
       "      <td>...</td>\n",
       "      <td>3.454545</td>\n",
       "      <td>3.615385</td>\n",
       "      <td>3.535714</td>\n",
       "      <td>4.238095</td>\n",
       "      <td>4.207547</td>\n",
       "      <td>3.828947</td>\n",
       "      <td>3.605263</td>\n",
       "      <td>4.369231</td>\n",
       "      <td>3.948276</td>\n",
       "      <td>3.657407</td>\n",
       "    </tr>\n",
       "  </tbody>\n",
       "</table>\n",
       "<p>8 rows × 30 columns</p>\n",
       "</div>"
      ],
      "text/plain": [
       "BenefitSubType  401k Basic Matching  401k Catch-Up Contributions  \\\n",
       "count                      5.000000                     5.000000   \n",
       "mean                       3.784433                     3.233193   \n",
       "std                        0.485013                     0.181135   \n",
       "min                        3.253731                     3.000000   \n",
       "25%                        3.314286                     3.144737   \n",
       "50%                        3.882353                     3.230769   \n",
       "75%                        4.133333                     3.304348   \n",
       "max                        4.338462                     3.486111   \n",
       "\n",
       "BenefitSubType  401k High Contribution  401k Investment Fees  \\\n",
       "count                         5.000000              5.000000   \n",
       "mean                          3.956077              3.627330   \n",
       "std                           0.336872              0.473977   \n",
       "min                           3.595238              2.864865   \n",
       "25%                           3.700000              3.476923   \n",
       "50%                           3.927711              3.851351   \n",
       "75%                           4.121951              3.911765   \n",
       "max                           4.435484              4.031746   \n",
       "\n",
       "BenefitSubType  401k Maximum Matching  401k Standard Matching  \\\n",
       "count                        5.000000                5.000000   \n",
       "mean                         3.586952                3.068480   \n",
       "std                          0.450474                0.207561   \n",
       "min                          3.183099                2.867647   \n",
       "25%                          3.307692                2.886076   \n",
       "50%                          3.388889                3.014706   \n",
       "75%                          3.760000                3.273973   \n",
       "max                          4.295082                3.300000   \n",
       "\n",
       "BenefitSubType  After-School Care  Basic Coverage  Conference Attendance  \\\n",
       "count                    5.000000        5.000000               5.000000   \n",
       "mean                     2.943048        3.481701               3.414705   \n",
       "std                      0.483491        0.492442               0.297328   \n",
       "min                      2.576923        2.881579               3.140845   \n",
       "25%                      2.651515        3.242424               3.205128   \n",
       "50%                      2.704545        3.478873               3.277778   \n",
       "75%                      3.032258        3.588235               3.616438   \n",
       "max                      3.750000        4.217391               3.833333   \n",
       "\n",
       "BenefitSubType  Dependent Coverage  ...  PPO Individual  \\\n",
       "count                     5.000000  ...        5.000000   \n",
       "mean                      3.402955  ...        3.129574   \n",
       "std                       0.460840  ...        0.351282   \n",
       "min                       2.767442  ...        2.568182   \n",
       "25%                       3.112500  ...        3.020833   \n",
       "50%                       3.566265  ...        3.275362   \n",
       "75%                       3.636364  ...        3.328947   \n",
       "max                       3.932203  ...        3.454545   \n",
       "\n",
       "BenefitSubType  Premium Discount Tier 1  Professional Certification  \\\n",
       "count                          5.000000                    5.000000   \n",
       "mean                           3.073100                    3.080226   \n",
       "std                            0.390159                    0.278401   \n",
       "min                            2.515152                    2.805556   \n",
       "25%                            3.031746                    2.916667   \n",
       "50%                            3.092105                    3.061224   \n",
       "75%                            3.111111                    3.081967   \n",
       "max                            3.615385                    3.535714   \n",
       "\n",
       "BenefitSubType  Supplemental High Amount  Supplemental Standard  \\\n",
       "count                           5.000000               5.000000   \n",
       "mean                            3.441630               3.672371   \n",
       "std                             0.568410               0.434029   \n",
       "min                             2.887324               3.275862   \n",
       "25%                             2.948276               3.292135   \n",
       "50%                             3.372549               3.532258   \n",
       "75%                             3.761905               4.054054   \n",
       "max                             4.238095               4.207547   \n",
       "\n",
       "BenefitSubType  Tier 1 Partners  Tier 2 Partners  Tier 3 Partners  \\\n",
       "count                  5.000000         5.000000         5.000000   \n",
       "mean                   3.177861         3.212949         3.326341   \n",
       "std                    0.418402         0.450270         0.595769   \n",
       "min                    2.838710         2.529412         2.932203   \n",
       "25%                    2.843750         2.984375         2.955556   \n",
       "50%                    3.031746         3.437500         3.168831   \n",
       "75%                    3.346154         3.508197         3.205882   \n",
       "max                    3.828947         3.605263         4.369231   \n",
       "\n",
       "BenefitSubType  Transit Subsidy  Undergraduate Degree  \n",
       "count                  5.000000              5.000000  \n",
       "mean                   3.436664              3.267574  \n",
       "std                    0.434567              0.305136  \n",
       "min                    2.863014              2.816092  \n",
       "25%                    3.287500              3.207792  \n",
       "50%                    3.297297              3.275000  \n",
       "75%                    3.787234              3.381579  \n",
       "max                    3.948276              3.657407  \n",
       "\n",
       "[8 rows x 30 columns]"
      ]
     },
     "execution_count": 22,
     "metadata": {},
     "output_type": "execute_result"
    }
   ],
   "source": [
    "# Summary statistics for Department vs BenefitSubType heatmap\n",
    "heatmap_data = merged.groupby(['Department', 'BenefitSubType'])['UsageFrequency'].mean().unstack().fillna(0)\n",
    "heatmap_data.describe()"
   ]
  },
  {
   "cell_type": "code",
   "execution_count": 23,
   "id": "42696342",
   "metadata": {},
   "outputs": [
    {
     "data": {
      "application/vnd.microsoft.datawrangler.viewer.v0+json": {
       "columns": [
        {
         "name": "index",
         "rawType": "object",
         "type": "string"
        },
        {
         "name": "401k Basic Matching",
         "rawType": "float64",
         "type": "float"
        },
        {
         "name": "401k Catch-Up Contributions",
         "rawType": "float64",
         "type": "float"
        },
        {
         "name": "401k High Contribution",
         "rawType": "float64",
         "type": "float"
        },
        {
         "name": "401k Investment Fees",
         "rawType": "float64",
         "type": "float"
        },
        {
         "name": "401k Maximum Matching",
         "rawType": "float64",
         "type": "float"
        },
        {
         "name": "401k Standard Matching",
         "rawType": "float64",
         "type": "float"
        },
        {
         "name": "After-School Care",
         "rawType": "float64",
         "type": "float"
        },
        {
         "name": "Basic Coverage",
         "rawType": "float64",
         "type": "float"
        },
        {
         "name": "Conference Attendance",
         "rawType": "float64",
         "type": "float"
        },
        {
         "name": "Dependent Coverage",
         "rawType": "float64",
         "type": "float"
        },
        {
         "name": "Family Membership",
         "rawType": "float64",
         "type": "float"
        },
        {
         "name": "Graduate Degree",
         "rawType": "float64",
         "type": "float"
        },
        {
         "name": "HDHP Individual",
         "rawType": "float64",
         "type": "float"
        },
        {
         "name": "HMO Family",
         "rawType": "float64",
         "type": "float"
        },
        {
         "name": "Healthcare FSA",
         "rawType": "float64",
         "type": "float"
        },
        {
         "name": "Individual Courses",
         "rawType": "float64",
         "type": "float"
        },
        {
         "name": "Monthly Communications",
         "rawType": "float64",
         "type": "float"
        },
        {
         "name": "Monthly Internet Allowance",
         "rawType": "float64",
         "type": "float"
        },
        {
         "name": "On-Site Infant Care",
         "rawType": "float64",
         "type": "float"
        },
        {
         "name": "PPO Family",
         "rawType": "float64",
         "type": "float"
        },
        {
         "name": "PPO Individual",
         "rawType": "float64",
         "type": "float"
        },
        {
         "name": "Premium Discount Tier 1",
         "rawType": "float64",
         "type": "float"
        },
        {
         "name": "Professional Certification",
         "rawType": "float64",
         "type": "float"
        },
        {
         "name": "Supplemental High Amount",
         "rawType": "float64",
         "type": "float"
        },
        {
         "name": "Supplemental Standard",
         "rawType": "float64",
         "type": "float"
        },
        {
         "name": "Tier 1 Partners",
         "rawType": "float64",
         "type": "float"
        },
        {
         "name": "Tier 2 Partners",
         "rawType": "float64",
         "type": "float"
        },
        {
         "name": "Tier 3 Partners",
         "rawType": "float64",
         "type": "float"
        },
        {
         "name": "Transit Subsidy",
         "rawType": "float64",
         "type": "float"
        },
        {
         "name": "Undergraduate Degree",
         "rawType": "float64",
         "type": "float"
        }
       ],
       "ref": "8c992e98-a401-4f4d-9e82-4b3416f516d2",
       "rows": [
        [
         "count",
         "3.0",
         "3.0",
         "3.0",
         "3.0",
         "3.0",
         "3.0",
         "3.0",
         "3.0",
         "3.0",
         "3.0",
         "3.0",
         "3.0",
         "3.0",
         "3.0",
         "3.0",
         "3.0",
         "3.0",
         "3.0",
         "3.0",
         "3.0",
         "3.0",
         "3.0",
         "3.0",
         "3.0",
         "3.0",
         "3.0",
         "3.0",
         "3.0",
         "3.0",
         "3.0"
        ],
        [
         "mean",
         "4.15264367816092",
         "2.8476384919014563",
         "4.4784375597628605",
         "3.3379403949456137",
         "3.9836239974968297",
         "3.105939440993789",
         "2.839689207583543",
         "3.644350522083735",
         "2.88484477124183",
         "3.135993505682528",
         "2.904444444444444",
         "4.810437567343645",
         "4.810942920214443",
         "3.4036022323693556",
         "3.643142884486554",
         "3.6228603393622976",
         "3.5370370370370368",
         "3.137891039777832",
         "2.201769760184671",
         "2.5128524046434495",
         "3.312030543867851",
         "2.605427490308053",
         "2.8993766557581426",
         "4.009398242055442",
         "3.3805844981979885",
         "3.7757851146452683",
         "2.602777777777778",
         "3.4964059454191037",
         "2.6781940801798427",
         "3.0222356376995556"
        ],
        [
         "std",
         "0.7582900010703986",
         "0.8016299932297525",
         "1.0449972338998468",
         "0.6798414908688677",
         "0.6944586577153345",
         "0.16278059904220754",
         "0.300491187576708",
         "0.33266259089462785",
         "1.0596847125135667",
         "0.6115484490694706",
         "0.9296142834796499",
         "3.051430811152521",
         "3.2047504532606",
         "0.5115097020749729",
         "0.7046050103379351",
         "0.3786213134224075",
         "0.16972502573910525",
         "0.7677915757105593",
         "1.0435738055025605",
         "1.527890957102618",
         "0.2533909883581336",
         "0.9589491452316284",
         "0.4680200571581045",
         "1.0750424639611293",
         "0.4919501965918793",
         "1.061982732852122",
         "1.1877947977161214",
         "0.3794116832270744",
         "1.280630305891362",
         "0.5439055900383204"
        ],
        [
         "min",
         "3.537931034482759",
         "2.0",
         "3.7023809523809526",
         "2.5714285714285716",
         "3.23121387283237",
         "2.91875",
         "2.6153846153846154",
         "3.2655367231638417",
         "1.6666666666666667",
         "2.5",
         "1.8888888888888888",
         "2.993006993006993",
         "2.7142857142857144",
         "2.8333333333333335",
         "3.006172839506173",
         "3.2427745664739884",
         "3.388888888888889",
         "2.2857142857142856",
         "1.0",
         "0.75",
         "3.1231884057971016",
         "1.5",
         "2.6",
         "3.3517241379310345",
         "2.8333333333333335",
         "3.102189781021898",
         "1.25",
         "3.1315789473684212",
         "1.2",
         "2.4444444444444446"
        ],
        [
         "25%",
         "3.728965517241379",
         "2.4746835443037973",
         "3.884323006310958",
         "3.0729483282674774",
         "3.6754359962452448",
         "3.0517663043478263",
         "2.6689826302729527",
         "3.522081338681158",
         "2.530392156862745",
         "2.8441176470588236",
         "2.5",
         "3.0489896843488005",
         "2.966414380321665",
         "3.1944444444444446",
         "3.2647143267298304",
         "3.434290509043446",
         "3.4444444444444446",
         "2.8189577717879604",
         "1.8630573248407643",
         "2.041666666666667",
         "3.1680458158017766",
         "2.3012048192771086",
         "2.629710144927536",
         "3.389097363083164",
         "3.1778131634819533",
         "3.1636776719679025",
         "2.166666666666667",
         "3.3001644736842106",
         "2.291176470588235",
         "2.7711912943871706"
        ],
        [
         "50%",
         "3.92",
         "2.949367088607595",
         "4.066265060240964",
         "3.574468085106383",
         "4.119658119658119",
         "3.1847826086956523",
         "2.7225806451612904",
         "3.7786259541984735",
         "3.3941176470588235",
         "3.1882352941176473",
         "3.111111111111111",
         "3.1049723756906076",
         "3.218543046357616",
         "3.5555555555555554",
         "3.5232558139534884",
         "3.6258064516129034",
         "3.5",
         "3.352201257861635",
         "2.7261146496815285",
         "3.3333333333333335",
         "3.2129032258064516",
         "3.102409638554217",
         "2.6594202898550723",
         "3.426470588235294",
         "3.522292993630573",
         "3.225165562913907",
         "3.0833333333333335",
         "3.46875",
         "3.3823529411764706",
         "3.097938144329897"
        ],
        [
         "75%",
         "4.46",
         "3.2714577378521845",
         "4.866465863453815",
         "3.721196306704135",
         "4.359829059829059",
         "3.1995341614906834",
         "2.9518415036830072",
         "3.833757421543681",
         "3.493933823529412",
         "3.453990258523792",
         "3.4122222222222223",
         "5.719152854511971",
         "5.859271523178808",
         "3.6887366818873666",
         "3.9616279069767444",
         "3.8129032258064517",
         "3.611111111111111",
         "3.5639794168096053",
         "2.802654640277006",
         "3.394278606965174",
         "3.4064516129032256",
         "3.1581412354620797",
         "3.0490649836372135",
         "4.338235294117647",
         "3.6542100806303157",
         "4.112582781456954",
         "3.279166666666667",
         "3.6788194444444446",
         "3.417291120269764",
         "3.3111312343271107"
        ],
        [
         "max",
         "5.0",
         "3.5935483870967744",
         "5.666666666666667",
         "3.8679245283018866",
         "4.6",
         "3.2142857142857144",
         "3.1811023622047245",
         "3.888888888888889",
         "3.59375",
         "3.7197452229299364",
         "3.7133333333333334",
         "8.333333333333334",
         "8.5",
         "3.8219178082191783",
         "4.4",
         "4.0",
         "3.7222222222222223",
         "3.775757575757576",
         "2.879194630872483",
         "3.455223880597015",
         "3.6",
         "3.213872832369942",
         "3.4387096774193546",
         "5.25",
         "3.786127167630058",
         "5.0",
         "3.475",
         "3.888888888888889",
         "3.4522292993630574",
         "3.5243243243243243"
        ]
       ],
       "shape": {
        "columns": 30,
        "rows": 8
       }
      },
      "text/html": [
       "<div>\n",
       "<style scoped>\n",
       "    .dataframe tbody tr th:only-of-type {\n",
       "        vertical-align: middle;\n",
       "    }\n",
       "\n",
       "    .dataframe tbody tr th {\n",
       "        vertical-align: top;\n",
       "    }\n",
       "\n",
       "    .dataframe thead th {\n",
       "        text-align: right;\n",
       "    }\n",
       "</style>\n",
       "<table border=\"1\" class=\"dataframe\">\n",
       "  <thead>\n",
       "    <tr style=\"text-align: right;\">\n",
       "      <th>BenefitSubType</th>\n",
       "      <th>401k Basic Matching</th>\n",
       "      <th>401k Catch-Up Contributions</th>\n",
       "      <th>401k High Contribution</th>\n",
       "      <th>401k Investment Fees</th>\n",
       "      <th>401k Maximum Matching</th>\n",
       "      <th>401k Standard Matching</th>\n",
       "      <th>After-School Care</th>\n",
       "      <th>Basic Coverage</th>\n",
       "      <th>Conference Attendance</th>\n",
       "      <th>Dependent Coverage</th>\n",
       "      <th>...</th>\n",
       "      <th>PPO Individual</th>\n",
       "      <th>Premium Discount Tier 1</th>\n",
       "      <th>Professional Certification</th>\n",
       "      <th>Supplemental High Amount</th>\n",
       "      <th>Supplemental Standard</th>\n",
       "      <th>Tier 1 Partners</th>\n",
       "      <th>Tier 2 Partners</th>\n",
       "      <th>Tier 3 Partners</th>\n",
       "      <th>Transit Subsidy</th>\n",
       "      <th>Undergraduate Degree</th>\n",
       "    </tr>\n",
       "  </thead>\n",
       "  <tbody>\n",
       "    <tr>\n",
       "      <th>count</th>\n",
       "      <td>3.000000</td>\n",
       "      <td>3.000000</td>\n",
       "      <td>3.000000</td>\n",
       "      <td>3.000000</td>\n",
       "      <td>3.000000</td>\n",
       "      <td>3.000000</td>\n",
       "      <td>3.000000</td>\n",
       "      <td>3.000000</td>\n",
       "      <td>3.000000</td>\n",
       "      <td>3.000000</td>\n",
       "      <td>...</td>\n",
       "      <td>3.000000</td>\n",
       "      <td>3.000000</td>\n",
       "      <td>3.000000</td>\n",
       "      <td>3.000000</td>\n",
       "      <td>3.000000</td>\n",
       "      <td>3.000000</td>\n",
       "      <td>3.000000</td>\n",
       "      <td>3.000000</td>\n",
       "      <td>3.000000</td>\n",
       "      <td>3.000000</td>\n",
       "    </tr>\n",
       "    <tr>\n",
       "      <th>mean</th>\n",
       "      <td>4.152644</td>\n",
       "      <td>2.847638</td>\n",
       "      <td>4.478438</td>\n",
       "      <td>3.337940</td>\n",
       "      <td>3.983624</td>\n",
       "      <td>3.105939</td>\n",
       "      <td>2.839689</td>\n",
       "      <td>3.644351</td>\n",
       "      <td>2.884845</td>\n",
       "      <td>3.135994</td>\n",
       "      <td>...</td>\n",
       "      <td>3.312031</td>\n",
       "      <td>2.605427</td>\n",
       "      <td>2.899377</td>\n",
       "      <td>4.009398</td>\n",
       "      <td>3.380584</td>\n",
       "      <td>3.775785</td>\n",
       "      <td>2.602778</td>\n",
       "      <td>3.496406</td>\n",
       "      <td>2.678194</td>\n",
       "      <td>3.022236</td>\n",
       "    </tr>\n",
       "    <tr>\n",
       "      <th>std</th>\n",
       "      <td>0.758290</td>\n",
       "      <td>0.801630</td>\n",
       "      <td>1.044997</td>\n",
       "      <td>0.679841</td>\n",
       "      <td>0.694459</td>\n",
       "      <td>0.162781</td>\n",
       "      <td>0.300491</td>\n",
       "      <td>0.332663</td>\n",
       "      <td>1.059685</td>\n",
       "      <td>0.611548</td>\n",
       "      <td>...</td>\n",
       "      <td>0.253391</td>\n",
       "      <td>0.958949</td>\n",
       "      <td>0.468020</td>\n",
       "      <td>1.075042</td>\n",
       "      <td>0.491950</td>\n",
       "      <td>1.061983</td>\n",
       "      <td>1.187795</td>\n",
       "      <td>0.379412</td>\n",
       "      <td>1.280630</td>\n",
       "      <td>0.543906</td>\n",
       "    </tr>\n",
       "    <tr>\n",
       "      <th>min</th>\n",
       "      <td>3.537931</td>\n",
       "      <td>2.000000</td>\n",
       "      <td>3.702381</td>\n",
       "      <td>2.571429</td>\n",
       "      <td>3.231214</td>\n",
       "      <td>2.918750</td>\n",
       "      <td>2.615385</td>\n",
       "      <td>3.265537</td>\n",
       "      <td>1.666667</td>\n",
       "      <td>2.500000</td>\n",
       "      <td>...</td>\n",
       "      <td>3.123188</td>\n",
       "      <td>1.500000</td>\n",
       "      <td>2.600000</td>\n",
       "      <td>3.351724</td>\n",
       "      <td>2.833333</td>\n",
       "      <td>3.102190</td>\n",
       "      <td>1.250000</td>\n",
       "      <td>3.131579</td>\n",
       "      <td>1.200000</td>\n",
       "      <td>2.444444</td>\n",
       "    </tr>\n",
       "    <tr>\n",
       "      <th>25%</th>\n",
       "      <td>3.728966</td>\n",
       "      <td>2.474684</td>\n",
       "      <td>3.884323</td>\n",
       "      <td>3.072948</td>\n",
       "      <td>3.675436</td>\n",
       "      <td>3.051766</td>\n",
       "      <td>2.668983</td>\n",
       "      <td>3.522081</td>\n",
       "      <td>2.530392</td>\n",
       "      <td>2.844118</td>\n",
       "      <td>...</td>\n",
       "      <td>3.168046</td>\n",
       "      <td>2.301205</td>\n",
       "      <td>2.629710</td>\n",
       "      <td>3.389097</td>\n",
       "      <td>3.177813</td>\n",
       "      <td>3.163678</td>\n",
       "      <td>2.166667</td>\n",
       "      <td>3.300164</td>\n",
       "      <td>2.291176</td>\n",
       "      <td>2.771191</td>\n",
       "    </tr>\n",
       "    <tr>\n",
       "      <th>50%</th>\n",
       "      <td>3.920000</td>\n",
       "      <td>2.949367</td>\n",
       "      <td>4.066265</td>\n",
       "      <td>3.574468</td>\n",
       "      <td>4.119658</td>\n",
       "      <td>3.184783</td>\n",
       "      <td>2.722581</td>\n",
       "      <td>3.778626</td>\n",
       "      <td>3.394118</td>\n",
       "      <td>3.188235</td>\n",
       "      <td>...</td>\n",
       "      <td>3.212903</td>\n",
       "      <td>3.102410</td>\n",
       "      <td>2.659420</td>\n",
       "      <td>3.426471</td>\n",
       "      <td>3.522293</td>\n",
       "      <td>3.225166</td>\n",
       "      <td>3.083333</td>\n",
       "      <td>3.468750</td>\n",
       "      <td>3.382353</td>\n",
       "      <td>3.097938</td>\n",
       "    </tr>\n",
       "    <tr>\n",
       "      <th>75%</th>\n",
       "      <td>4.460000</td>\n",
       "      <td>3.271458</td>\n",
       "      <td>4.866466</td>\n",
       "      <td>3.721196</td>\n",
       "      <td>4.359829</td>\n",
       "      <td>3.199534</td>\n",
       "      <td>2.951842</td>\n",
       "      <td>3.833757</td>\n",
       "      <td>3.493934</td>\n",
       "      <td>3.453990</td>\n",
       "      <td>...</td>\n",
       "      <td>3.406452</td>\n",
       "      <td>3.158141</td>\n",
       "      <td>3.049065</td>\n",
       "      <td>4.338235</td>\n",
       "      <td>3.654210</td>\n",
       "      <td>4.112583</td>\n",
       "      <td>3.279167</td>\n",
       "      <td>3.678819</td>\n",
       "      <td>3.417291</td>\n",
       "      <td>3.311131</td>\n",
       "    </tr>\n",
       "    <tr>\n",
       "      <th>max</th>\n",
       "      <td>5.000000</td>\n",
       "      <td>3.593548</td>\n",
       "      <td>5.666667</td>\n",
       "      <td>3.867925</td>\n",
       "      <td>4.600000</td>\n",
       "      <td>3.214286</td>\n",
       "      <td>3.181102</td>\n",
       "      <td>3.888889</td>\n",
       "      <td>3.593750</td>\n",
       "      <td>3.719745</td>\n",
       "      <td>...</td>\n",
       "      <td>3.600000</td>\n",
       "      <td>3.213873</td>\n",
       "      <td>3.438710</td>\n",
       "      <td>5.250000</td>\n",
       "      <td>3.786127</td>\n",
       "      <td>5.000000</td>\n",
       "      <td>3.475000</td>\n",
       "      <td>3.888889</td>\n",
       "      <td>3.452229</td>\n",
       "      <td>3.524324</td>\n",
       "    </tr>\n",
       "  </tbody>\n",
       "</table>\n",
       "<p>8 rows × 30 columns</p>\n",
       "</div>"
      ],
      "text/plain": [
       "BenefitSubType  401k Basic Matching  401k Catch-Up Contributions  \\\n",
       "count                      3.000000                     3.000000   \n",
       "mean                       4.152644                     2.847638   \n",
       "std                        0.758290                     0.801630   \n",
       "min                        3.537931                     2.000000   \n",
       "25%                        3.728966                     2.474684   \n",
       "50%                        3.920000                     2.949367   \n",
       "75%                        4.460000                     3.271458   \n",
       "max                        5.000000                     3.593548   \n",
       "\n",
       "BenefitSubType  401k High Contribution  401k Investment Fees  \\\n",
       "count                         3.000000              3.000000   \n",
       "mean                          4.478438              3.337940   \n",
       "std                           1.044997              0.679841   \n",
       "min                           3.702381              2.571429   \n",
       "25%                           3.884323              3.072948   \n",
       "50%                           4.066265              3.574468   \n",
       "75%                           4.866466              3.721196   \n",
       "max                           5.666667              3.867925   \n",
       "\n",
       "BenefitSubType  401k Maximum Matching  401k Standard Matching  \\\n",
       "count                        3.000000                3.000000   \n",
       "mean                         3.983624                3.105939   \n",
       "std                          0.694459                0.162781   \n",
       "min                          3.231214                2.918750   \n",
       "25%                          3.675436                3.051766   \n",
       "50%                          4.119658                3.184783   \n",
       "75%                          4.359829                3.199534   \n",
       "max                          4.600000                3.214286   \n",
       "\n",
       "BenefitSubType  After-School Care  Basic Coverage  Conference Attendance  \\\n",
       "count                    3.000000        3.000000               3.000000   \n",
       "mean                     2.839689        3.644351               2.884845   \n",
       "std                      0.300491        0.332663               1.059685   \n",
       "min                      2.615385        3.265537               1.666667   \n",
       "25%                      2.668983        3.522081               2.530392   \n",
       "50%                      2.722581        3.778626               3.394118   \n",
       "75%                      2.951842        3.833757               3.493934   \n",
       "max                      3.181102        3.888889               3.593750   \n",
       "\n",
       "BenefitSubType  Dependent Coverage  ...  PPO Individual  \\\n",
       "count                     3.000000  ...        3.000000   \n",
       "mean                      3.135994  ...        3.312031   \n",
       "std                       0.611548  ...        0.253391   \n",
       "min                       2.500000  ...        3.123188   \n",
       "25%                       2.844118  ...        3.168046   \n",
       "50%                       3.188235  ...        3.212903   \n",
       "75%                       3.453990  ...        3.406452   \n",
       "max                       3.719745  ...        3.600000   \n",
       "\n",
       "BenefitSubType  Premium Discount Tier 1  Professional Certification  \\\n",
       "count                          3.000000                    3.000000   \n",
       "mean                           2.605427                    2.899377   \n",
       "std                            0.958949                    0.468020   \n",
       "min                            1.500000                    2.600000   \n",
       "25%                            2.301205                    2.629710   \n",
       "50%                            3.102410                    2.659420   \n",
       "75%                            3.158141                    3.049065   \n",
       "max                            3.213873                    3.438710   \n",
       "\n",
       "BenefitSubType  Supplemental High Amount  Supplemental Standard  \\\n",
       "count                           3.000000               3.000000   \n",
       "mean                            4.009398               3.380584   \n",
       "std                             1.075042               0.491950   \n",
       "min                             3.351724               2.833333   \n",
       "25%                             3.389097               3.177813   \n",
       "50%                             3.426471               3.522293   \n",
       "75%                             4.338235               3.654210   \n",
       "max                             5.250000               3.786127   \n",
       "\n",
       "BenefitSubType  Tier 1 Partners  Tier 2 Partners  Tier 3 Partners  \\\n",
       "count                  3.000000         3.000000         3.000000   \n",
       "mean                   3.775785         2.602778         3.496406   \n",
       "std                    1.061983         1.187795         0.379412   \n",
       "min                    3.102190         1.250000         3.131579   \n",
       "25%                    3.163678         2.166667         3.300164   \n",
       "50%                    3.225166         3.083333         3.468750   \n",
       "75%                    4.112583         3.279167         3.678819   \n",
       "max                    5.000000         3.475000         3.888889   \n",
       "\n",
       "BenefitSubType  Transit Subsidy  Undergraduate Degree  \n",
       "count                  3.000000              3.000000  \n",
       "mean                   2.678194              3.022236  \n",
       "std                    1.280630              0.543906  \n",
       "min                    1.200000              2.444444  \n",
       "25%                    2.291176              2.771191  \n",
       "50%                    3.382353              3.097938  \n",
       "75%                    3.417291              3.311131  \n",
       "max                    3.452229              3.524324  \n",
       "\n",
       "[8 rows x 30 columns]"
      ]
     },
     "execution_count": 23,
     "metadata": {},
     "output_type": "execute_result"
    }
   ],
   "source": [
    "# Summary statistics for Gender vs BenefitSubType heatmap\n",
    "heatmap_data = merged.groupby(['Gender', 'BenefitSubType'])['UsageFrequency'].mean().unstack().fillna(0)\n",
    "heatmap_data.describe()"
   ]
  },
  {
   "cell_type": "code",
   "execution_count": 24,
   "id": "a7d16636",
   "metadata": {},
   "outputs": [
    {
     "data": {
      "application/vnd.microsoft.datawrangler.viewer.v0+json": {
       "columns": [
        {
         "name": "Gender",
         "rawType": "object",
         "type": "string"
        },
        {
         "name": "Finance",
         "rawType": "float64",
         "type": "float"
        },
        {
         "name": "HR",
         "rawType": "float64",
         "type": "float"
        },
        {
         "name": "IT",
         "rawType": "float64",
         "type": "float"
        },
        {
         "name": "Marketing",
         "rawType": "float64",
         "type": "float"
        },
        {
         "name": "Sales",
         "rawType": "float64",
         "type": "float"
        }
       ],
       "ref": "53b583a9-f9a6-4957-8385-e50ef39270d9",
       "rows": [
        [
         "Female",
         "3.3469184890656063",
         "3.544378698224852",
         "3.341354723707665",
         "3.1056105610561056",
         "3.266735324407827"
        ],
        [
         "Male",
         "3.3195201744820064",
         "3.2881889763779526",
         "3.4864197530864196",
         "3.4342359767891684",
         "3.394904458598726"
        ],
        [
         "Non-Binary",
         "3.0816326530612246",
         "3.4782608695652173",
         "2.923076923076923",
         "3.533333333333333",
         "2.3333333333333335"
        ]
       ],
       "shape": {
        "columns": 5,
        "rows": 3
       }
      },
      "text/html": [
       "<div>\n",
       "<style scoped>\n",
       "    .dataframe tbody tr th:only-of-type {\n",
       "        vertical-align: middle;\n",
       "    }\n",
       "\n",
       "    .dataframe tbody tr th {\n",
       "        vertical-align: top;\n",
       "    }\n",
       "\n",
       "    .dataframe thead th {\n",
       "        text-align: right;\n",
       "    }\n",
       "</style>\n",
       "<table border=\"1\" class=\"dataframe\">\n",
       "  <thead>\n",
       "    <tr style=\"text-align: right;\">\n",
       "      <th>Department</th>\n",
       "      <th>Finance</th>\n",
       "      <th>HR</th>\n",
       "      <th>IT</th>\n",
       "      <th>Marketing</th>\n",
       "      <th>Sales</th>\n",
       "    </tr>\n",
       "    <tr>\n",
       "      <th>Gender</th>\n",
       "      <th></th>\n",
       "      <th></th>\n",
       "      <th></th>\n",
       "      <th></th>\n",
       "      <th></th>\n",
       "    </tr>\n",
       "  </thead>\n",
       "  <tbody>\n",
       "    <tr>\n",
       "      <th>Female</th>\n",
       "      <td>3.346918</td>\n",
       "      <td>3.544379</td>\n",
       "      <td>3.341355</td>\n",
       "      <td>3.105611</td>\n",
       "      <td>3.266735</td>\n",
       "    </tr>\n",
       "    <tr>\n",
       "      <th>Male</th>\n",
       "      <td>3.319520</td>\n",
       "      <td>3.288189</td>\n",
       "      <td>3.486420</td>\n",
       "      <td>3.434236</td>\n",
       "      <td>3.394904</td>\n",
       "    </tr>\n",
       "    <tr>\n",
       "      <th>Non-Binary</th>\n",
       "      <td>3.081633</td>\n",
       "      <td>3.478261</td>\n",
       "      <td>2.923077</td>\n",
       "      <td>3.533333</td>\n",
       "      <td>2.333333</td>\n",
       "    </tr>\n",
       "  </tbody>\n",
       "</table>\n",
       "</div>"
      ],
      "text/plain": [
       "Department   Finance        HR        IT  Marketing     Sales\n",
       "Gender                                                       \n",
       "Female      3.346918  3.544379  3.341355   3.105611  3.266735\n",
       "Male        3.319520  3.288189  3.486420   3.434236  3.394904\n",
       "Non-Binary  3.081633  3.478261  2.923077   3.533333  2.333333"
      ]
     },
     "execution_count": 24,
     "metadata": {},
     "output_type": "execute_result"
    }
   ],
   "source": [
    "merged.groupby(['Gender','Department'])['UsageFrequency'].mean().unstack()"
   ]
  },
  {
   "cell_type": "markdown",
   "id": "cbfd7dd7",
   "metadata": {},
   "source": [
    "#### Observations\n",
    "- Employees below 25 years have most frequent subcategories related to Retirement, Health Insurance and Gym Membership\n",
    "- Employees aged 30-45 have most frequent subcategory after Retirement connected with Life Insuranc, Cellphone Allowance.\n",
    "- The most frequent usage of benefits across tenure groups is tenure between 5-15.\n",
    "- IT department has the highest usage of benefits between all departments. The lowest usage has Marketing department. All age groups below 42 tend to use more benfits than those over 42.\n",
    "-  Non-Binary employees have very disparse values across departments - in some depatrments like IT, they have a very high usage of benefits on average whereas in sale it is slightly below 3 benefits on average. Apart from HR department, there is a visible drop in usage for employees with tenure >25 years.\n",
    "- HR departments have high benefit usage across genders, but female employees in Marketing and Sales show lower engagement.\n",
    "- Certain benefit subtypes (e.g., Gym Membership, Retirement Plan) are favored by younger employees and HR, while Finance does not seem to be interested in the Wellness or Marketing and Sales are not interested in Childcare\n",
    "- across tenure groups and departments there is a big variaty of different preferences."
   ]
  },
  {
   "cell_type": "markdown",
   "id": "2f71019f",
   "metadata": {},
   "source": [
    "### Actionable Recommendations\n",
    "- Promote Retirement Plan and Gym Membership benefits to younger employees (<25).\n",
    "- Target Life Insurance and Cellphone Allowance benefits to employees aged 30-45.\n",
    "- Encourage benefit usage among tenure group 5-10 years, as they are most active.\n",
    "- HR department shows highest benefit usage across all groups; consider sharing best practices with other departments.\n",
    "- Non-Binary employees usage of benefits very differs across departments. Try some inclusive benefit options, and feedback to understand how to support them.\n",
    "- Investigate the lowe engagment of females in Sales and Marketing\n",
    "- Look at benefits that are barely used and promote those that are in high demand."
   ]
  },
  {
   "cell_type": "markdown",
   "id": "f4ee5f6c",
   "metadata": {},
   "source": []
  }
 ],
 "metadata": {
  "kernelspec": {
   "display_name": ".venv",
   "language": "python",
   "name": "python3"
  },
  "language_info": {
   "codemirror_mode": {
    "name": "ipython",
    "version": 3
   },
   "file_extension": ".py",
   "mimetype": "text/x-python",
   "name": "python",
   "nbconvert_exporter": "python",
   "pygments_lexer": "ipython3",
   "version": "3.9.6"
  }
 },
 "nbformat": 4,
 "nbformat_minor": 5
}
